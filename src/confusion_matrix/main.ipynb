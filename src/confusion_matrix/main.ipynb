{
 "cells": [
  {
   "cell_type": "code",
   "execution_count": 1,
   "metadata": {},
   "outputs": [
    {
     "name": "stdout",
     "output_type": "stream",
     "text": [
      "Confusion matrix : \n",
      " [[2 2]\n",
      " [1 5]]\n",
      "Outcome values : \n",
      " 2 2 1 5\n",
      "Classification report : \n",
      "               precision    recall  f1-score   support\n",
      "\n",
      "           1       0.67      0.50      0.57         4\n",
      "           0       0.71      0.83      0.77         6\n",
      "\n",
      "    accuracy                           0.70        10\n",
      "   macro avg       0.69      0.67      0.67        10\n",
      "weighted avg       0.70      0.70      0.69        10\n",
      "\n"
     ]
    }
   ],
   "source": [
    "# confusion matrix in sklearn\n",
    "from sklearn.metrics import confusion_matrix\n",
    "from sklearn.metrics import classification_report\n",
    "\n",
    "# actual values\n",
    "actual = [1,0,0,1,0,0,1,0,0,1]\n",
    "# predicted values\n",
    "predicted = [1,0,0,1,0,0,0,1,0,0]\n",
    "\n",
    "# confusion matrix\n",
    "matrix = confusion_matrix(actual,predicted, labels=[1,0])\n",
    "print('Confusion matrix : \\n',matrix)\n",
    "\n",
    "# outcome values order in sklearn\n",
    "tp, fn, fp, tn = confusion_matrix(actual,predicted,labels=[1,0]).reshape(-1)\n",
    "print('Outcome values : \\n', tp, fn, fp, tn)\n",
    "\n",
    "# classification report for precision, recall f1-score and accuracy\n",
    "matrix = classification_report(actual,predicted,labels=[1,0])\n",
    "print('Classification report : \\n',matrix)"
   ]
  },
  {
   "cell_type": "markdown",
   "metadata": {},
   "source": [
    "**Micro-avg precision**\n",
    "* precision over all classes, i.e. precision = $\\frac{\\textrm{TP}_{\\textrm{1}} + \\textrm{TP}_{\\textrm{2}}}{\\textrm{TP}_{\\textrm{1}} + \\textrm{TP}_{\\textrm{2}} + \\textrm{FP}_{\\textrm{1}} + \\textrm{FP}_{\\textrm{2}}}$, where 1,2 - class labels.\n",
    "\n",
    "* similarly,micro-avg recall and micro-avg f1-measure can be calculated.\n",
    "\n",
    "**Macro-avg precision**\n",
    "* averaged precision over each class, i.e. precision = $\\frac{\\textrm{P}_{\\textrm{1}}+\\textrm{P}_{\\textrm{2}}}{\\textrm{2}}$ , if suppose there were only 2 classes, 1 and 2."
   ]
  }
 ],
 "metadata": {
  "kernelspec": {
   "display_name": "Python [conda env:tensorflow_cpu] *",
   "language": "python",
   "name": "conda-env-tensorflow_cpu-py"
  },
  "language_info": {
   "codemirror_mode": {
    "name": "ipython",
    "version": 3
   },
   "file_extension": ".py",
   "mimetype": "text/x-python",
   "name": "python",
   "nbconvert_exporter": "python",
   "pygments_lexer": "ipython3",
   "version": "3.6.10"
  }
 },
 "nbformat": 4,
 "nbformat_minor": 4
}
