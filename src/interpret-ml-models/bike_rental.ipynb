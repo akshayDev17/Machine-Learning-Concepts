{
 "cells": [
  {
   "cell_type": "code",
   "execution_count": 1,
   "metadata": {},
   "outputs": [],
   "source": [
    "import numpy as np\n",
    "\n",
    "# mapping month number to month name\n",
    "import calendar\n",
    "\n",
    "import seaborn as sns\n",
    "import pandas as pd\n",
    "from IPython.display import display\n",
    "import matplotlib.pyplot as plt\n",
    "%matplotlib inline"
   ]
  },
  {
   "cell_type": "markdown",
   "metadata": {},
   "source": [
    "[link to the bike rental dataset](http://archive.ics.uci.edu/ml/datasets/Bike+Sharing+Dataset#)\n",
    "\n",
    "## Lets begin with day-wise analysis"
   ]
  },
  {
   "cell_type": "code",
   "execution_count": 2,
   "metadata": {
    "scrolled": false
   },
   "outputs": [
    {
     "data": {
      "text/html": [
       "<div>\n",
       "<style scoped>\n",
       "    .dataframe tbody tr th:only-of-type {\n",
       "        vertical-align: middle;\n",
       "    }\n",
       "\n",
       "    .dataframe tbody tr th {\n",
       "        vertical-align: top;\n",
       "    }\n",
       "\n",
       "    .dataframe thead th {\n",
       "        text-align: right;\n",
       "    }\n",
       "</style>\n",
       "<table border=\"1\" class=\"dataframe\">\n",
       "  <thead>\n",
       "    <tr style=\"text-align: right;\">\n",
       "      <th></th>\n",
       "      <th>instant</th>\n",
       "      <th>dteday</th>\n",
       "      <th>season</th>\n",
       "      <th>yr</th>\n",
       "      <th>mnth</th>\n",
       "      <th>holiday</th>\n",
       "      <th>weekday</th>\n",
       "      <th>workingday</th>\n",
       "      <th>weathersit</th>\n",
       "      <th>temp</th>\n",
       "      <th>atemp</th>\n",
       "      <th>hum</th>\n",
       "      <th>windspeed</th>\n",
       "      <th>casual</th>\n",
       "      <th>registered</th>\n",
       "      <th>cnt</th>\n",
       "    </tr>\n",
       "  </thead>\n",
       "  <tbody>\n",
       "    <tr>\n",
       "      <th>0</th>\n",
       "      <td>1</td>\n",
       "      <td>2011-01-01</td>\n",
       "      <td>1</td>\n",
       "      <td>0</td>\n",
       "      <td>1</td>\n",
       "      <td>0</td>\n",
       "      <td>6</td>\n",
       "      <td>0</td>\n",
       "      <td>2</td>\n",
       "      <td>0.344167</td>\n",
       "      <td>0.363625</td>\n",
       "      <td>0.805833</td>\n",
       "      <td>0.160446</td>\n",
       "      <td>331</td>\n",
       "      <td>654</td>\n",
       "      <td>985</td>\n",
       "    </tr>\n",
       "    <tr>\n",
       "      <th>1</th>\n",
       "      <td>2</td>\n",
       "      <td>2011-01-02</td>\n",
       "      <td>1</td>\n",
       "      <td>0</td>\n",
       "      <td>1</td>\n",
       "      <td>0</td>\n",
       "      <td>0</td>\n",
       "      <td>0</td>\n",
       "      <td>2</td>\n",
       "      <td>0.363478</td>\n",
       "      <td>0.353739</td>\n",
       "      <td>0.696087</td>\n",
       "      <td>0.248539</td>\n",
       "      <td>131</td>\n",
       "      <td>670</td>\n",
       "      <td>801</td>\n",
       "    </tr>\n",
       "    <tr>\n",
       "      <th>2</th>\n",
       "      <td>3</td>\n",
       "      <td>2011-01-03</td>\n",
       "      <td>1</td>\n",
       "      <td>0</td>\n",
       "      <td>1</td>\n",
       "      <td>0</td>\n",
       "      <td>1</td>\n",
       "      <td>1</td>\n",
       "      <td>1</td>\n",
       "      <td>0.196364</td>\n",
       "      <td>0.189405</td>\n",
       "      <td>0.437273</td>\n",
       "      <td>0.248309</td>\n",
       "      <td>120</td>\n",
       "      <td>1229</td>\n",
       "      <td>1349</td>\n",
       "    </tr>\n",
       "    <tr>\n",
       "      <th>3</th>\n",
       "      <td>4</td>\n",
       "      <td>2011-01-04</td>\n",
       "      <td>1</td>\n",
       "      <td>0</td>\n",
       "      <td>1</td>\n",
       "      <td>0</td>\n",
       "      <td>2</td>\n",
       "      <td>1</td>\n",
       "      <td>1</td>\n",
       "      <td>0.200000</td>\n",
       "      <td>0.212122</td>\n",
       "      <td>0.590435</td>\n",
       "      <td>0.160296</td>\n",
       "      <td>108</td>\n",
       "      <td>1454</td>\n",
       "      <td>1562</td>\n",
       "    </tr>\n",
       "    <tr>\n",
       "      <th>4</th>\n",
       "      <td>5</td>\n",
       "      <td>2011-01-05</td>\n",
       "      <td>1</td>\n",
       "      <td>0</td>\n",
       "      <td>1</td>\n",
       "      <td>0</td>\n",
       "      <td>3</td>\n",
       "      <td>1</td>\n",
       "      <td>1</td>\n",
       "      <td>0.226957</td>\n",
       "      <td>0.229270</td>\n",
       "      <td>0.436957</td>\n",
       "      <td>0.186900</td>\n",
       "      <td>82</td>\n",
       "      <td>1518</td>\n",
       "      <td>1600</td>\n",
       "    </tr>\n",
       "  </tbody>\n",
       "</table>\n",
       "</div>"
      ],
      "text/plain": [
       "   instant      dteday  season  yr  mnth  holiday  weekday  workingday  \\\n",
       "0        1  2011-01-01       1   0     1        0        6           0   \n",
       "1        2  2011-01-02       1   0     1        0        0           0   \n",
       "2        3  2011-01-03       1   0     1        0        1           1   \n",
       "3        4  2011-01-04       1   0     1        0        2           1   \n",
       "4        5  2011-01-05       1   0     1        0        3           1   \n",
       "\n",
       "   weathersit      temp     atemp       hum  windspeed  casual  registered  \\\n",
       "0           2  0.344167  0.363625  0.805833   0.160446     331         654   \n",
       "1           2  0.363478  0.353739  0.696087   0.248539     131         670   \n",
       "2           1  0.196364  0.189405  0.437273   0.248309     120        1229   \n",
       "3           1  0.200000  0.212122  0.590435   0.160296     108        1454   \n",
       "4           1  0.226957  0.229270  0.436957   0.186900      82        1518   \n",
       "\n",
       "    cnt  \n",
       "0   985  \n",
       "1   801  \n",
       "2  1349  \n",
       "3  1562  \n",
       "4  1600  "
      ]
     },
     "metadata": {},
     "output_type": "display_data"
    }
   ],
   "source": [
    "data = pd.read_csv(\"./christophM_datasets/bike_sharing/day.csv\")\n",
    "display(data.head())"
   ]
  },
  {
   "cell_type": "markdown",
   "metadata": {},
   "source": [
    "## data description\n",
    "\n",
    "- instant: record index\n",
    "- dteday : date\n",
    "- season : season (1:winter, 2:spring, 3:summer, 4:fall)\n",
    "- yr : year (0: 2011, 1:2012)\n",
    "- mnth : month ( 1 to 12)\n",
    "- hr : hour (0 to 23)\n",
    "- holiday : weather day is holiday or not.\n",
    "- weekday : day of the week\n",
    "- workingday : if day is neither weekend nor holiday is 1, otherwise is 0.\n",
    "+ weathersit :\n",
    "- 1: Clear, Few clouds, Partly cloudy, Partly cloudy\n",
    "- 2: Mist + Cloudy, Mist + Broken clouds, Mist + Few clouds, Mist\n",
    "- 3: Light Snow, Light Rain + Thunderstorm + Scattered clouds, Light Rain + Scattered clouds\n",
    "- 4: Heavy Rain + Ice Pallets + Thunderstorm + Mist, Snow + Fog\n",
    "- temp : **Normalized** temperature in Celsius. The values are derived via (t-t_min)/(t_max-t_min), t_min=-8, t_max=+39 (only in hourly scale)\n",
    "- atemp: **Normalized** feeling(**feels like**) temperature in Celsius. The values are derived via (t-t_min)/(t_max-t_min), t_min=-16, t_max=+50 (only in hourly scale)\n",
    "- hum: **Normalized** humidity. The values are divided to 100 (max)\n",
    "- windspeed: **Normalized** wind speed. The values are divided to 67 (max)\n",
    "- casual: count of casual users\n",
    "- registered: count of registered users\n",
    "- cnt: count of total rental bikes including both casual and registered \n",
    "\n",
    "### Inferences and further operations\n",
    "1. `cnt` is the dependent variable, to be predicted.\n",
    "2. `instant` and `dteday` can be filtered out.\n",
    "3. all categorical variables will now be treatment-coded.\n",
    "4. since there are 2 years, 2011 and 2012, the problem statement is trifurcated into the following:\n",
    "    - predicts sales for 2011\n",
    "    - predicts sales for 2012\n",
    "    - check why are they different\n",
    "    \n",
    "## definition of seasons\n",
    "- spring runs from March 1 to May 31;\n",
    "- summer runs from June 1 to August 31;\n",
    "- fall (autumn) runs from September 1 to November 30; and\n",
    "- winter runs from December 1 to February 28 (February 29 in a leap year)."
   ]
  },
  {
   "cell_type": "code",
   "execution_count": 3,
   "metadata": {
    "scrolled": true
   },
   "outputs": [
    {
     "data": {
      "text/html": [
       "<div>\n",
       "<style scoped>\n",
       "    .dataframe tbody tr th:only-of-type {\n",
       "        vertical-align: middle;\n",
       "    }\n",
       "\n",
       "    .dataframe tbody tr th {\n",
       "        vertical-align: top;\n",
       "    }\n",
       "\n",
       "    .dataframe thead th {\n",
       "        text-align: right;\n",
       "    }\n",
       "</style>\n",
       "<table border=\"1\" class=\"dataframe\">\n",
       "  <thead>\n",
       "    <tr style=\"text-align: right;\">\n",
       "      <th></th>\n",
       "      <th>season</th>\n",
       "      <th>yr</th>\n",
       "      <th>mnth</th>\n",
       "      <th>holiday</th>\n",
       "      <th>weekday</th>\n",
       "      <th>workingday</th>\n",
       "      <th>weathersit</th>\n",
       "      <th>temp</th>\n",
       "      <th>atemp</th>\n",
       "      <th>hum</th>\n",
       "      <th>windspeed</th>\n",
       "      <th>casual</th>\n",
       "      <th>registered</th>\n",
       "      <th>cnt</th>\n",
       "    </tr>\n",
       "  </thead>\n",
       "  <tbody>\n",
       "    <tr>\n",
       "      <th>0</th>\n",
       "      <td>1</td>\n",
       "      <td>0</td>\n",
       "      <td>1</td>\n",
       "      <td>0</td>\n",
       "      <td>6</td>\n",
       "      <td>0</td>\n",
       "      <td>2</td>\n",
       "      <td>0.344167</td>\n",
       "      <td>0.363625</td>\n",
       "      <td>0.805833</td>\n",
       "      <td>0.160446</td>\n",
       "      <td>331</td>\n",
       "      <td>654</td>\n",
       "      <td>985</td>\n",
       "    </tr>\n",
       "  </tbody>\n",
       "</table>\n",
       "</div>"
      ],
      "text/plain": [
       "   season  yr  mnth  holiday  weekday  workingday  weathersit      temp  \\\n",
       "0       1   0     1        0        6           0           2  0.344167   \n",
       "\n",
       "      atemp       hum  windspeed  casual  registered  cnt  \n",
       "0  0.363625  0.805833   0.160446     331         654  985  "
      ]
     },
     "metadata": {},
     "output_type": "display_data"
    },
    {
     "name": "stderr",
     "output_type": "stream",
     "text": [
      "/home/laferrari/anaconda3/envs/tensorflow_cpu/lib/python3.6/site-packages/pandas/core/frame.py:3997: SettingWithCopyWarning: \n",
      "A value is trying to be set on a copy of a slice from a DataFrame\n",
      "\n",
      "See the caveats in the documentation: https://pandas.pydata.org/pandas-docs/stable/user_guide/indexing.html#returning-a-view-versus-a-copy\n",
      "  errors=errors,\n"
     ]
    },
    {
     "data": {
      "text/html": [
       "<div>\n",
       "<style scoped>\n",
       "    .dataframe tbody tr th:only-of-type {\n",
       "        vertical-align: middle;\n",
       "    }\n",
       "\n",
       "    .dataframe tbody tr th {\n",
       "        vertical-align: top;\n",
       "    }\n",
       "\n",
       "    .dataframe thead th {\n",
       "        text-align: right;\n",
       "    }\n",
       "</style>\n",
       "<table border=\"1\" class=\"dataframe\">\n",
       "  <thead>\n",
       "    <tr style=\"text-align: right;\">\n",
       "      <th></th>\n",
       "      <th>season</th>\n",
       "      <th>mnth</th>\n",
       "      <th>holiday</th>\n",
       "      <th>weekday</th>\n",
       "      <th>workingday</th>\n",
       "      <th>weathersit</th>\n",
       "      <th>temp</th>\n",
       "      <th>atemp</th>\n",
       "      <th>hum</th>\n",
       "      <th>windspeed</th>\n",
       "      <th>casual</th>\n",
       "      <th>registered</th>\n",
       "      <th>cnt</th>\n",
       "    </tr>\n",
       "  </thead>\n",
       "  <tbody>\n",
       "    <tr>\n",
       "      <th>0</th>\n",
       "      <td>1</td>\n",
       "      <td>1</td>\n",
       "      <td>0</td>\n",
       "      <td>6</td>\n",
       "      <td>0</td>\n",
       "      <td>2</td>\n",
       "      <td>0.344167</td>\n",
       "      <td>0.363625</td>\n",
       "      <td>0.805833</td>\n",
       "      <td>0.160446</td>\n",
       "      <td>331</td>\n",
       "      <td>654</td>\n",
       "      <td>985</td>\n",
       "    </tr>\n",
       "  </tbody>\n",
       "</table>\n",
       "</div>"
      ],
      "text/plain": [
       "   season  mnth  holiday  weekday  workingday  weathersit      temp     atemp  \\\n",
       "0       1     1        0        6           0           2  0.344167  0.363625   \n",
       "\n",
       "        hum  windspeed  casual  registered  cnt  \n",
       "0  0.805833   0.160446     331         654  985  "
      ]
     },
     "metadata": {},
     "output_type": "display_data"
    },
    {
     "data": {
      "text/html": [
       "<div>\n",
       "<style scoped>\n",
       "    .dataframe tbody tr th:only-of-type {\n",
       "        vertical-align: middle;\n",
       "    }\n",
       "\n",
       "    .dataframe tbody tr th {\n",
       "        vertical-align: top;\n",
       "    }\n",
       "\n",
       "    .dataframe thead th {\n",
       "        text-align: right;\n",
       "    }\n",
       "</style>\n",
       "<table border=\"1\" class=\"dataframe\">\n",
       "  <thead>\n",
       "    <tr style=\"text-align: right;\">\n",
       "      <th></th>\n",
       "      <th>season</th>\n",
       "      <th>mnth</th>\n",
       "      <th>holiday</th>\n",
       "      <th>weekday</th>\n",
       "      <th>workingday</th>\n",
       "      <th>weathersit</th>\n",
       "      <th>temp</th>\n",
       "      <th>atemp</th>\n",
       "      <th>hum</th>\n",
       "      <th>windspeed</th>\n",
       "      <th>casual</th>\n",
       "      <th>registered</th>\n",
       "      <th>cnt</th>\n",
       "    </tr>\n",
       "  </thead>\n",
       "  <tbody>\n",
       "    <tr>\n",
       "      <th>365</th>\n",
       "      <td>1</td>\n",
       "      <td>1</td>\n",
       "      <td>0</td>\n",
       "      <td>0</td>\n",
       "      <td>0</td>\n",
       "      <td>1</td>\n",
       "      <td>0.37</td>\n",
       "      <td>0.375621</td>\n",
       "      <td>0.6925</td>\n",
       "      <td>0.192167</td>\n",
       "      <td>686</td>\n",
       "      <td>1608</td>\n",
       "      <td>2294</td>\n",
       "    </tr>\n",
       "  </tbody>\n",
       "</table>\n",
       "</div>"
      ],
      "text/plain": [
       "     season  mnth  holiday  weekday  workingday  weathersit  temp     atemp  \\\n",
       "365       1     1        0        0           0           1  0.37  0.375621   \n",
       "\n",
       "        hum  windspeed  casual  registered   cnt  \n",
       "365  0.6925   0.192167     686        1608  2294  "
      ]
     },
     "metadata": {},
     "output_type": "display_data"
    }
   ],
   "source": [
    "# drop instant and dteday\n",
    "data.drop(['instant', 'dteday'], axis=1, inplace=True)\n",
    "display(data.head(1))\n",
    "\n",
    "# year separation of dataset\n",
    "data_2011, data_2012 = data[data['yr'] == 0], data[data['yr'] == 1]\n",
    "\n",
    "# we can now drop the yr column\n",
    "data_2011.drop(['yr'], axis=1, inplace=True)\n",
    "data_2012.drop(['yr'], axis=1, inplace=True)\n",
    "\n",
    "display(data_2011.head(1))\n",
    "display(data_2012.head(1))"
   ]
  },
  {
   "cell_type": "markdown",
   "metadata": {},
   "source": [
    "# handling the 2011 dataset initially"
   ]
  },
  {
   "cell_type": "markdown",
   "metadata": {},
   "source": [
    "* check whether the following fields are normalized.\n",
    "    - `temp`\n",
    "    - `atemp`\n",
    "    - `windspeed`\n",
    "    - `hum`"
   ]
  },
  {
   "cell_type": "code",
   "execution_count": 4,
   "metadata": {},
   "outputs": [
    {
     "name": "stdout",
     "output_type": "stream",
     "text": [
      "for feature temp, min = 0.0591304, max = 0.849167.\n",
      "for feature atemp, min = 0.0790696, max = 0.8408959999999999.\n",
      "for feature windspeed, min = 0.0223917, max = 0.507463.\n",
      "for feature hum, min = 0.0, max = 0.9725.\n"
     ]
    }
   ],
   "source": [
    "feature_list = ['temp', 'atemp', 'windspeed', 'hum']\n",
    "for feature in feature_list:\n",
    "    print(\"for feature {}, min = {}, max = {}.\".format(feature, min(data_2011[feature]), max(data_2011[feature])))"
   ]
  },
  {
   "cell_type": "markdown",
   "metadata": {},
   "source": [
    "hence they <font color=\"red\">aren't truly normalized</font>.\n",
    "* though the values are between 0 and 1, the **min** and **max** should have been **exactly 0 and 1**.\n",
    "* thus we need to normalize(min-max normalization) all features."
   ]
  },
  {
   "cell_type": "code",
   "execution_count": 5,
   "metadata": {},
   "outputs": [
    {
     "data": {
      "text/plain": [
       "True    365\n",
       "dtype: int64"
      ]
     },
     "execution_count": 5,
     "metadata": {},
     "output_type": "execute_result"
    }
   ],
   "source": [
    "x = data_2011['casual']+data_2011['registered'] ==  data_2011['cnt']\n",
    "x.value_counts()"
   ]
  },
  {
   "cell_type": "markdown",
   "metadata": {},
   "source": [
    "Thus, casual+registered = total counts of bike rented for the day.\\\n",
    "Hence, we now have **2 problem statements(per year), instead of 1**.\n",
    "1. <font color=\"Red\">predict, based on these environmental conditions, how many **casual renters** rented a bike on a day?</font>\n",
    "2. <font color=\"Red\">predict, based on these environmental conditions, how many **registered renters** rented a bike on a day?</font>"
   ]
  },
  {
   "cell_type": "markdown",
   "metadata": {},
   "source": [
    "<font size=\"4\">Checking the monthly counts of the dataset</font>"
   ]
  },
  {
   "cell_type": "code",
   "execution_count": 6,
   "metadata": {
    "scrolled": true
   },
   "outputs": [
    {
     "name": "stdout",
     "output_type": "stream",
     "text": [
      "months for 2011 = [ 1  2  3  4  5  6  7  8  9 10 11 12]\n"
     ]
    }
   ],
   "source": [
    "print(\"months for 2011 = {}\".format(np.unique(data_2011['mnth'])))"
   ]
  },
  {
   "cell_type": "code",
   "execution_count": 7,
   "metadata": {},
   "outputs": [
    {
     "name": "stdout",
     "output_type": "stream",
     "text": [
      "monthly number of entries for 2011:\n",
      "{'January': 31, 'February': 28, 'March': 31, 'April': 30, 'May': 31, 'June': 30, 'July': 31, 'August': 31, 'September': 30, 'October': 31, 'November': 30, 'December': 31}\n",
      "\n"
     ]
    }
   ],
   "source": [
    "print(\"monthly number of entries for 2011:\\n{}\\n\".format(\n",
    "    dict(zip(calendar.month_name[1:], data_2011['mnth'].value_counts().sort_index().values))\n",
    "))"
   ]
  },
  {
   "cell_type": "code",
   "execution_count": 8,
   "metadata": {},
   "outputs": [
    {
     "name": "stdout",
     "output_type": "stream",
     "text": [
      "(365, 13)\n"
     ]
    }
   ],
   "source": [
    "print(data_2011.shape)"
   ]
  },
  {
   "cell_type": "markdown",
   "metadata": {},
   "source": [
    "## Handling Categorical features"
   ]
  },
  {
   "cell_type": "code",
   "execution_count": 9,
   "metadata": {},
   "outputs": [
    {
     "name": "stdout",
     "output_type": "stream",
     "text": [
      "categories for season: [1 2 3 4]\n",
      "categories for month: [ 1  2  3  4  5  6  7  8  9 10 11 12]\n",
      "categories for holiday: [0 1]\n",
      "categories for weekday: [6 0 1 2 3 4 5]\n",
      "categories for workingday: [0 1]\n",
      "categories for weathersit: [2 1 3]\n"
     ]
    }
   ],
   "source": [
    "print(\"categories for season:\", data_2011['season'].unique())\n",
    "print(\"categories for month:\", data_2011['mnth'].unique())\n",
    "print(\"categories for holiday:\", data_2011['holiday'].unique())\n",
    "print(\"categories for weekday:\", data_2011['weekday'].unique())\n",
    "print(\"categories for workingday:\", data_2011['workingday'].unique())\n",
    "print(\"categories for weathersit:\", data_2011['weathersit'].unique())"
   ]
  },
  {
   "cell_type": "markdown",
   "metadata": {},
   "source": [
    "Weather situtation(`weathersit`) **could be thought** of as an <u>ordinal variable</u>, since the encoding is based on the severity of weather."
   ]
  },
  {
   "cell_type": "code",
   "execution_count": 10,
   "metadata": {
    "scrolled": true
   },
   "outputs": [
    {
     "name": "stdout",
     "output_type": "stream",
     "text": [
      "after one-hot encoding all categorical features...\n"
     ]
    },
    {
     "name": "stderr",
     "output_type": "stream",
     "text": [
      "/home/laferrari/anaconda3/envs/tensorflow_cpu/lib/python3.6/site-packages/pandas/core/frame.py:3997: SettingWithCopyWarning: \n",
      "A value is trying to be set on a copy of a slice from a DataFrame\n",
      "\n",
      "See the caveats in the documentation: https://pandas.pydata.org/pandas-docs/stable/user_guide/indexing.html#returning-a-view-versus-a-copy\n",
      "  errors=errors,\n"
     ]
    },
    {
     "data": {
      "text/html": [
       "<div>\n",
       "<style scoped>\n",
       "    .dataframe tbody tr th:only-of-type {\n",
       "        vertical-align: middle;\n",
       "    }\n",
       "\n",
       "    .dataframe tbody tr th {\n",
       "        vertical-align: top;\n",
       "    }\n",
       "\n",
       "    .dataframe thead th {\n",
       "        text-align: right;\n",
       "    }\n",
       "</style>\n",
       "<table border=\"1\" class=\"dataframe\">\n",
       "  <thead>\n",
       "    <tr style=\"text-align: right;\">\n",
       "      <th></th>\n",
       "      <th>holiday</th>\n",
       "      <th>workingday</th>\n",
       "      <th>weathersit</th>\n",
       "      <th>temp</th>\n",
       "      <th>atemp</th>\n",
       "      <th>hum</th>\n",
       "      <th>windspeed</th>\n",
       "      <th>casual</th>\n",
       "      <th>registered</th>\n",
       "      <th>cnt</th>\n",
       "      <th>...</th>\n",
       "      <th>mnth_10</th>\n",
       "      <th>mnth_11</th>\n",
       "      <th>mnth_12</th>\n",
       "      <th>weekday_0</th>\n",
       "      <th>weekday_1</th>\n",
       "      <th>weekday_2</th>\n",
       "      <th>weekday_3</th>\n",
       "      <th>weekday_4</th>\n",
       "      <th>weekday_5</th>\n",
       "      <th>weekday_6</th>\n",
       "    </tr>\n",
       "  </thead>\n",
       "  <tbody>\n",
       "    <tr>\n",
       "      <th>0</th>\n",
       "      <td>0</td>\n",
       "      <td>0</td>\n",
       "      <td>2</td>\n",
       "      <td>0.344167</td>\n",
       "      <td>0.363625</td>\n",
       "      <td>0.805833</td>\n",
       "      <td>0.160446</td>\n",
       "      <td>331</td>\n",
       "      <td>654</td>\n",
       "      <td>985</td>\n",
       "      <td>...</td>\n",
       "      <td>0</td>\n",
       "      <td>0</td>\n",
       "      <td>0</td>\n",
       "      <td>0</td>\n",
       "      <td>0</td>\n",
       "      <td>0</td>\n",
       "      <td>0</td>\n",
       "      <td>0</td>\n",
       "      <td>0</td>\n",
       "      <td>1</td>\n",
       "    </tr>\n",
       "    <tr>\n",
       "      <th>1</th>\n",
       "      <td>0</td>\n",
       "      <td>0</td>\n",
       "      <td>2</td>\n",
       "      <td>0.363478</td>\n",
       "      <td>0.353739</td>\n",
       "      <td>0.696087</td>\n",
       "      <td>0.248539</td>\n",
       "      <td>131</td>\n",
       "      <td>670</td>\n",
       "      <td>801</td>\n",
       "      <td>...</td>\n",
       "      <td>0</td>\n",
       "      <td>0</td>\n",
       "      <td>0</td>\n",
       "      <td>1</td>\n",
       "      <td>0</td>\n",
       "      <td>0</td>\n",
       "      <td>0</td>\n",
       "      <td>0</td>\n",
       "      <td>0</td>\n",
       "      <td>0</td>\n",
       "    </tr>\n",
       "    <tr>\n",
       "      <th>2</th>\n",
       "      <td>0</td>\n",
       "      <td>1</td>\n",
       "      <td>1</td>\n",
       "      <td>0.196364</td>\n",
       "      <td>0.189405</td>\n",
       "      <td>0.437273</td>\n",
       "      <td>0.248309</td>\n",
       "      <td>120</td>\n",
       "      <td>1229</td>\n",
       "      <td>1349</td>\n",
       "      <td>...</td>\n",
       "      <td>0</td>\n",
       "      <td>0</td>\n",
       "      <td>0</td>\n",
       "      <td>0</td>\n",
       "      <td>1</td>\n",
       "      <td>0</td>\n",
       "      <td>0</td>\n",
       "      <td>0</td>\n",
       "      <td>0</td>\n",
       "      <td>0</td>\n",
       "    </tr>\n",
       "    <tr>\n",
       "      <th>3</th>\n",
       "      <td>0</td>\n",
       "      <td>1</td>\n",
       "      <td>1</td>\n",
       "      <td>0.200000</td>\n",
       "      <td>0.212122</td>\n",
       "      <td>0.590435</td>\n",
       "      <td>0.160296</td>\n",
       "      <td>108</td>\n",
       "      <td>1454</td>\n",
       "      <td>1562</td>\n",
       "      <td>...</td>\n",
       "      <td>0</td>\n",
       "      <td>0</td>\n",
       "      <td>0</td>\n",
       "      <td>0</td>\n",
       "      <td>0</td>\n",
       "      <td>1</td>\n",
       "      <td>0</td>\n",
       "      <td>0</td>\n",
       "      <td>0</td>\n",
       "      <td>0</td>\n",
       "    </tr>\n",
       "    <tr>\n",
       "      <th>4</th>\n",
       "      <td>0</td>\n",
       "      <td>1</td>\n",
       "      <td>1</td>\n",
       "      <td>0.226957</td>\n",
       "      <td>0.229270</td>\n",
       "      <td>0.436957</td>\n",
       "      <td>0.186900</td>\n",
       "      <td>82</td>\n",
       "      <td>1518</td>\n",
       "      <td>1600</td>\n",
       "      <td>...</td>\n",
       "      <td>0</td>\n",
       "      <td>0</td>\n",
       "      <td>0</td>\n",
       "      <td>0</td>\n",
       "      <td>0</td>\n",
       "      <td>0</td>\n",
       "      <td>1</td>\n",
       "      <td>0</td>\n",
       "      <td>0</td>\n",
       "      <td>0</td>\n",
       "    </tr>\n",
       "  </tbody>\n",
       "</table>\n",
       "<p>5 rows × 33 columns</p>\n",
       "</div>"
      ],
      "text/plain": [
       "   holiday  workingday  weathersit      temp     atemp       hum  windspeed  \\\n",
       "0        0           0           2  0.344167  0.363625  0.805833   0.160446   \n",
       "1        0           0           2  0.363478  0.353739  0.696087   0.248539   \n",
       "2        0           1           1  0.196364  0.189405  0.437273   0.248309   \n",
       "3        0           1           1  0.200000  0.212122  0.590435   0.160296   \n",
       "4        0           1           1  0.226957  0.229270  0.436957   0.186900   \n",
       "\n",
       "   casual  registered   cnt  ...  mnth_10  mnth_11  mnth_12  weekday_0  \\\n",
       "0     331         654   985  ...        0        0        0          0   \n",
       "1     131         670   801  ...        0        0        0          1   \n",
       "2     120        1229  1349  ...        0        0        0          0   \n",
       "3     108        1454  1562  ...        0        0        0          0   \n",
       "4      82        1518  1600  ...        0        0        0          0   \n",
       "\n",
       "   weekday_1  weekday_2  weekday_3  weekday_4  weekday_5  weekday_6  \n",
       "0          0          0          0          0          0          1  \n",
       "1          0          0          0          0          0          0  \n",
       "2          1          0          0          0          0          0  \n",
       "3          0          1          0          0          0          0  \n",
       "4          0          0          1          0          0          0  \n",
       "\n",
       "[5 rows x 33 columns]"
      ]
     },
     "metadata": {},
     "output_type": "display_data"
    },
    {
     "name": "stdout",
     "output_type": "stream",
     "text": [
      "after label encoding the weathersit feature....\n"
     ]
    },
    {
     "data": {
      "text/html": [
       "<div>\n",
       "<style scoped>\n",
       "    .dataframe tbody tr th:only-of-type {\n",
       "        vertical-align: middle;\n",
       "    }\n",
       "\n",
       "    .dataframe tbody tr th {\n",
       "        vertical-align: top;\n",
       "    }\n",
       "\n",
       "    .dataframe thead th {\n",
       "        text-align: right;\n",
       "    }\n",
       "</style>\n",
       "<table border=\"1\" class=\"dataframe\">\n",
       "  <thead>\n",
       "    <tr style=\"text-align: right;\">\n",
       "      <th></th>\n",
       "      <th>holiday</th>\n",
       "      <th>workingday</th>\n",
       "      <th>weathersit</th>\n",
       "      <th>temp</th>\n",
       "      <th>atemp</th>\n",
       "      <th>hum</th>\n",
       "      <th>windspeed</th>\n",
       "      <th>casual</th>\n",
       "      <th>registered</th>\n",
       "      <th>cnt</th>\n",
       "      <th>...</th>\n",
       "      <th>mnth_10</th>\n",
       "      <th>mnth_11</th>\n",
       "      <th>mnth_12</th>\n",
       "      <th>weekday_0</th>\n",
       "      <th>weekday_1</th>\n",
       "      <th>weekday_2</th>\n",
       "      <th>weekday_3</th>\n",
       "      <th>weekday_4</th>\n",
       "      <th>weekday_5</th>\n",
       "      <th>weekday_6</th>\n",
       "    </tr>\n",
       "  </thead>\n",
       "  <tbody>\n",
       "    <tr>\n",
       "      <th>0</th>\n",
       "      <td>0</td>\n",
       "      <td>0</td>\n",
       "      <td>1</td>\n",
       "      <td>0.344167</td>\n",
       "      <td>0.363625</td>\n",
       "      <td>0.805833</td>\n",
       "      <td>0.160446</td>\n",
       "      <td>331</td>\n",
       "      <td>654</td>\n",
       "      <td>985</td>\n",
       "      <td>...</td>\n",
       "      <td>0</td>\n",
       "      <td>0</td>\n",
       "      <td>0</td>\n",
       "      <td>0</td>\n",
       "      <td>0</td>\n",
       "      <td>0</td>\n",
       "      <td>0</td>\n",
       "      <td>0</td>\n",
       "      <td>0</td>\n",
       "      <td>1</td>\n",
       "    </tr>\n",
       "    <tr>\n",
       "      <th>1</th>\n",
       "      <td>0</td>\n",
       "      <td>0</td>\n",
       "      <td>1</td>\n",
       "      <td>0.363478</td>\n",
       "      <td>0.353739</td>\n",
       "      <td>0.696087</td>\n",
       "      <td>0.248539</td>\n",
       "      <td>131</td>\n",
       "      <td>670</td>\n",
       "      <td>801</td>\n",
       "      <td>...</td>\n",
       "      <td>0</td>\n",
       "      <td>0</td>\n",
       "      <td>0</td>\n",
       "      <td>1</td>\n",
       "      <td>0</td>\n",
       "      <td>0</td>\n",
       "      <td>0</td>\n",
       "      <td>0</td>\n",
       "      <td>0</td>\n",
       "      <td>0</td>\n",
       "    </tr>\n",
       "    <tr>\n",
       "      <th>2</th>\n",
       "      <td>0</td>\n",
       "      <td>1</td>\n",
       "      <td>0</td>\n",
       "      <td>0.196364</td>\n",
       "      <td>0.189405</td>\n",
       "      <td>0.437273</td>\n",
       "      <td>0.248309</td>\n",
       "      <td>120</td>\n",
       "      <td>1229</td>\n",
       "      <td>1349</td>\n",
       "      <td>...</td>\n",
       "      <td>0</td>\n",
       "      <td>0</td>\n",
       "      <td>0</td>\n",
       "      <td>0</td>\n",
       "      <td>1</td>\n",
       "      <td>0</td>\n",
       "      <td>0</td>\n",
       "      <td>0</td>\n",
       "      <td>0</td>\n",
       "      <td>0</td>\n",
       "    </tr>\n",
       "    <tr>\n",
       "      <th>3</th>\n",
       "      <td>0</td>\n",
       "      <td>1</td>\n",
       "      <td>0</td>\n",
       "      <td>0.200000</td>\n",
       "      <td>0.212122</td>\n",
       "      <td>0.590435</td>\n",
       "      <td>0.160296</td>\n",
       "      <td>108</td>\n",
       "      <td>1454</td>\n",
       "      <td>1562</td>\n",
       "      <td>...</td>\n",
       "      <td>0</td>\n",
       "      <td>0</td>\n",
       "      <td>0</td>\n",
       "      <td>0</td>\n",
       "      <td>0</td>\n",
       "      <td>1</td>\n",
       "      <td>0</td>\n",
       "      <td>0</td>\n",
       "      <td>0</td>\n",
       "      <td>0</td>\n",
       "    </tr>\n",
       "    <tr>\n",
       "      <th>4</th>\n",
       "      <td>0</td>\n",
       "      <td>1</td>\n",
       "      <td>0</td>\n",
       "      <td>0.226957</td>\n",
       "      <td>0.229270</td>\n",
       "      <td>0.436957</td>\n",
       "      <td>0.186900</td>\n",
       "      <td>82</td>\n",
       "      <td>1518</td>\n",
       "      <td>1600</td>\n",
       "      <td>...</td>\n",
       "      <td>0</td>\n",
       "      <td>0</td>\n",
       "      <td>0</td>\n",
       "      <td>0</td>\n",
       "      <td>0</td>\n",
       "      <td>0</td>\n",
       "      <td>1</td>\n",
       "      <td>0</td>\n",
       "      <td>0</td>\n",
       "      <td>0</td>\n",
       "    </tr>\n",
       "  </tbody>\n",
       "</table>\n",
       "<p>5 rows × 33 columns</p>\n",
       "</div>"
      ],
      "text/plain": [
       "   holiday  workingday  weathersit      temp     atemp       hum  windspeed  \\\n",
       "0        0           0           1  0.344167  0.363625  0.805833   0.160446   \n",
       "1        0           0           1  0.363478  0.353739  0.696087   0.248539   \n",
       "2        0           1           0  0.196364  0.189405  0.437273   0.248309   \n",
       "3        0           1           0  0.200000  0.212122  0.590435   0.160296   \n",
       "4        0           1           0  0.226957  0.229270  0.436957   0.186900   \n",
       "\n",
       "   casual  registered   cnt  ...  mnth_10  mnth_11  mnth_12  weekday_0  \\\n",
       "0     331         654   985  ...        0        0        0          0   \n",
       "1     131         670   801  ...        0        0        0          1   \n",
       "2     120        1229  1349  ...        0        0        0          0   \n",
       "3     108        1454  1562  ...        0        0        0          0   \n",
       "4      82        1518  1600  ...        0        0        0          0   \n",
       "\n",
       "   weekday_1  weekday_2  weekday_3  weekday_4  weekday_5  weekday_6  \n",
       "0          0          0          0          0          0          1  \n",
       "1          0          0          0          0          0          0  \n",
       "2          1          0          0          0          0          0  \n",
       "3          0          1          0          0          0          0  \n",
       "4          0          0          1          0          0          0  \n",
       "\n",
       "[5 rows x 33 columns]"
      ]
     },
     "metadata": {},
     "output_type": "display_data"
    }
   ],
   "source": [
    "categorical_features = [\n",
    "    'season',\n",
    "    'mnth',\n",
    "    'weekday'\n",
    "]\n",
    "\n",
    "# notice categorical_features excludes weathersit.\n",
    "\n",
    "for feature in categorical_features:\n",
    "#     treatment_mat = pd.get_dummies(data_2011[feature], drop_first=True)\n",
    "    treatment_mat = pd.get_dummies(data_2011[feature])\n",
    "    current_categories = treatment_mat.columns\n",
    "    treatment_mat.columns = ['{}_{}'.format(feature, i) for i in current_categories]\n",
    "    data_2011.drop([feature], axis=1, inplace=True)\n",
    "    data_2011 = pd.concat([data_2011, treatment_mat], axis=1)\n",
    "\n",
    "print(\"after one-hot encoding all categorical features...\")\n",
    "display(data_2011.head())\n",
    "\n",
    "# label encode the weathersit feature\n",
    "\n",
    "from sklearn.preprocessing import LabelEncoder\n",
    "le = LabelEncoder()\n",
    "data_2011['weathersit'] = le.fit_transform(data_2011['weathersit'])\n",
    "\n",
    "print(\"after label encoding the weathersit feature....\")\n",
    "display(data_2011.head())"
   ]
  },
  {
   "cell_type": "markdown",
   "metadata": {},
   "source": [
    "## Renaming the months and weekday features for simplicity\n",
    "\n",
    "1. `mnth_1` to `mnth_12` correspond to January to December, thus will be accordingly renamed.\n",
    "2. `weekday_1` to `weekday_6` correspond to Tuesday to Sunday, thus will be accordingly renamed."
   ]
  },
  {
   "cell_type": "code",
   "execution_count": 11,
   "metadata": {},
   "outputs": [
    {
     "data": {
      "text/plain": [
       "Index(['holiday', 'workingday', 'weathersit', 'temp', 'atemp', 'hum',\n",
       "       'windspeed', 'casual', 'registered', 'cnt', 'winter', 'spring',\n",
       "       'summer', 'fall', 'January', 'February', 'March', 'April', 'May',\n",
       "       'June', 'July', 'August', 'September', 'October', 'November',\n",
       "       'December', 'sunday', 'monday', 'tuesday', 'wednesday', 'thursday',\n",
       "       'friday', 'saturday'],\n",
       "      dtype='object')"
      ]
     },
     "execution_count": 11,
     "metadata": {},
     "output_type": "execute_result"
    }
   ],
   "source": [
    "month_rename_map = dict(zip(['mnth_{}'.format(i) for i in range(1, 13)], calendar.month_name[1:]))\n",
    "\n",
    "weekday_rename_map = {\n",
    "    'weekday_0': 'sunday',\n",
    "    'weekday_1': 'monday',\n",
    "    'weekday_2': 'tuesday',\n",
    "    'weekday_3': 'wednesday',\n",
    "    'weekday_4': 'thursday',\n",
    "    'weekday_5': 'friday',\n",
    "    'weekday_6': 'saturday'\n",
    "}\n",
    "\n",
    "season_rename_map = {\n",
    "    'season_1':'winter', \n",
    "    'season_2':'spring', \n",
    "    'season_3':'summer', \n",
    "    'season_4':'fall'\n",
    "}\n",
    "\n",
    "\n",
    "data_2011.rename(month_rename_map, axis=1, inplace=True)\n",
    "data_2011.rename(weekday_rename_map, axis=1, inplace=True)\n",
    "data_2011.rename(season_rename_map, axis=1, inplace=True)\n",
    "\n",
    "data_2011.columns"
   ]
  },
  {
   "cell_type": "markdown",
   "metadata": {},
   "source": [
    "## normalize the numerical variables"
   ]
  },
  {
   "cell_type": "code",
   "execution_count": 12,
   "metadata": {},
   "outputs": [
    {
     "data": {
      "text/html": [
       "<div>\n",
       "<style scoped>\n",
       "    .dataframe tbody tr th:only-of-type {\n",
       "        vertical-align: middle;\n",
       "    }\n",
       "\n",
       "    .dataframe tbody tr th {\n",
       "        vertical-align: top;\n",
       "    }\n",
       "\n",
       "    .dataframe thead th {\n",
       "        text-align: right;\n",
       "    }\n",
       "</style>\n",
       "<table border=\"1\" class=\"dataframe\">\n",
       "  <thead>\n",
       "    <tr style=\"text-align: right;\">\n",
       "      <th></th>\n",
       "      <th>holiday</th>\n",
       "      <th>workingday</th>\n",
       "      <th>weathersit</th>\n",
       "      <th>temp</th>\n",
       "      <th>atemp</th>\n",
       "      <th>hum</th>\n",
       "      <th>windspeed</th>\n",
       "      <th>winter</th>\n",
       "      <th>spring</th>\n",
       "      <th>summer</th>\n",
       "      <th>...</th>\n",
       "      <th>October</th>\n",
       "      <th>November</th>\n",
       "      <th>December</th>\n",
       "      <th>sunday</th>\n",
       "      <th>monday</th>\n",
       "      <th>tuesday</th>\n",
       "      <th>wednesday</th>\n",
       "      <th>thursday</th>\n",
       "      <th>friday</th>\n",
       "      <th>saturday</th>\n",
       "    </tr>\n",
       "  </thead>\n",
       "  <tbody>\n",
       "    <tr>\n",
       "      <th>0</th>\n",
       "      <td>0.0</td>\n",
       "      <td>0.0</td>\n",
       "      <td>0.5</td>\n",
       "      <td>0.360789</td>\n",
       "      <td>0.373517</td>\n",
       "      <td>0.828620</td>\n",
       "      <td>0.284606</td>\n",
       "      <td>1.0</td>\n",
       "      <td>0.0</td>\n",
       "      <td>0.0</td>\n",
       "      <td>...</td>\n",
       "      <td>0.0</td>\n",
       "      <td>0.0</td>\n",
       "      <td>0.0</td>\n",
       "      <td>0.0</td>\n",
       "      <td>0.0</td>\n",
       "      <td>0.0</td>\n",
       "      <td>0.0</td>\n",
       "      <td>0.0</td>\n",
       "      <td>0.0</td>\n",
       "      <td>1.0</td>\n",
       "    </tr>\n",
       "    <tr>\n",
       "      <th>1</th>\n",
       "      <td>0.0</td>\n",
       "      <td>0.0</td>\n",
       "      <td>0.5</td>\n",
       "      <td>0.385232</td>\n",
       "      <td>0.360541</td>\n",
       "      <td>0.715771</td>\n",
       "      <td>0.466215</td>\n",
       "      <td>1.0</td>\n",
       "      <td>0.0</td>\n",
       "      <td>0.0</td>\n",
       "      <td>...</td>\n",
       "      <td>0.0</td>\n",
       "      <td>0.0</td>\n",
       "      <td>0.0</td>\n",
       "      <td>1.0</td>\n",
       "      <td>0.0</td>\n",
       "      <td>0.0</td>\n",
       "      <td>0.0</td>\n",
       "      <td>0.0</td>\n",
       "      <td>0.0</td>\n",
       "      <td>0.0</td>\n",
       "    </tr>\n",
       "    <tr>\n",
       "      <th>2</th>\n",
       "      <td>0.0</td>\n",
       "      <td>1.0</td>\n",
       "      <td>0.0</td>\n",
       "      <td>0.173705</td>\n",
       "      <td>0.144830</td>\n",
       "      <td>0.449638</td>\n",
       "      <td>0.465740</td>\n",
       "      <td>1.0</td>\n",
       "      <td>0.0</td>\n",
       "      <td>0.0</td>\n",
       "      <td>...</td>\n",
       "      <td>0.0</td>\n",
       "      <td>0.0</td>\n",
       "      <td>0.0</td>\n",
       "      <td>0.0</td>\n",
       "      <td>1.0</td>\n",
       "      <td>0.0</td>\n",
       "      <td>0.0</td>\n",
       "      <td>0.0</td>\n",
       "      <td>0.0</td>\n",
       "      <td>0.0</td>\n",
       "    </tr>\n",
       "    <tr>\n",
       "      <th>3</th>\n",
       "      <td>0.0</td>\n",
       "      <td>1.0</td>\n",
       "      <td>0.0</td>\n",
       "      <td>0.178308</td>\n",
       "      <td>0.174649</td>\n",
       "      <td>0.607131</td>\n",
       "      <td>0.284297</td>\n",
       "      <td>1.0</td>\n",
       "      <td>0.0</td>\n",
       "      <td>0.0</td>\n",
       "      <td>...</td>\n",
       "      <td>0.0</td>\n",
       "      <td>0.0</td>\n",
       "      <td>0.0</td>\n",
       "      <td>0.0</td>\n",
       "      <td>0.0</td>\n",
       "      <td>1.0</td>\n",
       "      <td>0.0</td>\n",
       "      <td>0.0</td>\n",
       "      <td>0.0</td>\n",
       "      <td>0.0</td>\n",
       "    </tr>\n",
       "    <tr>\n",
       "      <th>4</th>\n",
       "      <td>0.0</td>\n",
       "      <td>1.0</td>\n",
       "      <td>0.0</td>\n",
       "      <td>0.212429</td>\n",
       "      <td>0.197158</td>\n",
       "      <td>0.449313</td>\n",
       "      <td>0.339143</td>\n",
       "      <td>1.0</td>\n",
       "      <td>0.0</td>\n",
       "      <td>0.0</td>\n",
       "      <td>...</td>\n",
       "      <td>0.0</td>\n",
       "      <td>0.0</td>\n",
       "      <td>0.0</td>\n",
       "      <td>0.0</td>\n",
       "      <td>0.0</td>\n",
       "      <td>0.0</td>\n",
       "      <td>1.0</td>\n",
       "      <td>0.0</td>\n",
       "      <td>0.0</td>\n",
       "      <td>0.0</td>\n",
       "    </tr>\n",
       "  </tbody>\n",
       "</table>\n",
       "<p>5 rows × 30 columns</p>\n",
       "</div>"
      ],
      "text/plain": [
       "   holiday  workingday  weathersit      temp     atemp       hum  windspeed  \\\n",
       "0      0.0         0.0         0.5  0.360789  0.373517  0.828620   0.284606   \n",
       "1      0.0         0.0         0.5  0.385232  0.360541  0.715771   0.466215   \n",
       "2      0.0         1.0         0.0  0.173705  0.144830  0.449638   0.465740   \n",
       "3      0.0         1.0         0.0  0.178308  0.174649  0.607131   0.284297   \n",
       "4      0.0         1.0         0.0  0.212429  0.197158  0.449313   0.339143   \n",
       "\n",
       "   winter  spring  summer  ...  October  November  December  sunday  monday  \\\n",
       "0     1.0     0.0     0.0  ...      0.0       0.0       0.0     0.0     0.0   \n",
       "1     1.0     0.0     0.0  ...      0.0       0.0       0.0     1.0     0.0   \n",
       "2     1.0     0.0     0.0  ...      0.0       0.0       0.0     0.0     1.0   \n",
       "3     1.0     0.0     0.0  ...      0.0       0.0       0.0     0.0     0.0   \n",
       "4     1.0     0.0     0.0  ...      0.0       0.0       0.0     0.0     0.0   \n",
       "\n",
       "   tuesday  wednesday  thursday  friday  saturday  \n",
       "0      0.0        0.0       0.0     0.0       1.0  \n",
       "1      0.0        0.0       0.0     0.0       0.0  \n",
       "2      0.0        0.0       0.0     0.0       0.0  \n",
       "3      1.0        0.0       0.0     0.0       0.0  \n",
       "4      0.0        1.0       0.0     0.0       0.0  \n",
       "\n",
       "[5 rows x 30 columns]"
      ]
     },
     "metadata": {},
     "output_type": "display_data"
    }
   ],
   "source": [
    "from sklearn.preprocessing import MinMaxScaler\n",
    "mm = MinMaxScaler()\n",
    "\n",
    "numerical_features = [i for i in data_2011.columns if i not in ['cnt', 'registered', 'casual']]\n",
    "numerical_data_2011 = pd.DataFrame(mm.fit_transform(data_2011.loc[:, numerical_features]), columns=numerical_features)\n",
    "\n",
    "display(numerical_data_2011.head())"
   ]
  },
  {
   "cell_type": "markdown",
   "metadata": {},
   "source": [
    "as all features are now included, the `numerical_data_2011` is actually the normalized important dataset."
   ]
  },
  {
   "cell_type": "code",
   "execution_count": 13,
   "metadata": {},
   "outputs": [],
   "source": [
    "normalized_data_2011 = numerical_data_2011.copy()"
   ]
  },
  {
   "cell_type": "markdown",
   "metadata": {},
   "source": [
    "## Correlation plots\n",
    "1. since we have 2 problems, i.e. predict `casual` and `registered`, we would have 2 columns in the heatmap."
   ]
  },
  {
   "cell_type": "code",
   "execution_count": 14,
   "metadata": {},
   "outputs": [
    {
     "name": "stdout",
     "output_type": "stream",
     "text": [
      "['Monday', 'Tuesday', 'Wednesday', 'Thursday', 'Friday', 'Saturday', 'Sunday']\n"
     ]
    }
   ],
   "source": [
    "print(calendar.day_name[:])"
   ]
  },
  {
   "cell_type": "code",
   "execution_count": 35,
   "metadata": {},
   "outputs": [
    {
     "data": {
      "image/png": "[encoded data removed]",
      "text/plain": [
       "<Figure size 720x720 with 8 Axes>"
      ]
     },
     "metadata": {
      "needs_background": "light"
     },
     "output_type": "display_data"
    }
   ],
   "source": [
    "combined_data = pd.concat([numerical_data_2011, data_2011[['casual', 'registered']]], axis=1)\n",
    "corr = combined_data.corr()\n",
    "\n",
    "import matplotlib.gridspec as gridspec\n",
    "gridspec.GridSpec(2, 3) # 2 rows and 3 columns\n",
    "\n",
    "fig = plt.figure(1, figsize=(10, 10))\n",
    "\n",
    "# month wise correlation\n",
    "plt.subplot2grid((2, 3), (0,0), colspan=1, rowspan=2)\n",
    "sns.heatmap(corr.loc[calendar.month_name[1:], ['casual', 'registered']], annot=True)\n",
    "plt.title(\"monthwise correlation\")\n",
    "\n",
    "# day wise correlation\n",
    "days = list(weekday_rename_map.values())\n",
    "plt.subplot2grid((2, 3), (0,1), colspan=1, rowspan=1)\n",
    "sns.heatmap(corr.loc[days, ['casual', 'registered']], annot=True)\n",
    "plt.title(\"daywise correlation\")\n",
    "\n",
    "# seasonal correlation\n",
    "plt.subplot2grid((2, 3), (1,1), colspan=1, rowspan=1)\n",
    "sns.heatmap(corr.loc[list(season_rename_map.values()), ['casual', 'registered']], annot=True)\n",
    "plt.yticks(rotation='horizontal')\n",
    "plt.title(\"seasonal correlation\")\n",
    "\n",
    "# windspeed, humidity, temp, atemp, holiday, workingday, weathersit\n",
    "remaining_features = ['windspeed', 'hum', 'temp', 'atemp', 'weathersit', 'holiday', 'workingday']\n",
    "plt.subplot2grid((2, 3), (0, 2), colspan=1, rowspan=2)\n",
    "sns.heatmap(corr.loc[remaining_features, ['casual', 'registered']], annot=True)\n",
    "plt.yticks(rotation='horizontal')\n",
    "plt.title(\"other features\")\n",
    "\n",
    "plt.tight_layout()"
   ]
  },
  {
   "cell_type": "markdown",
   "metadata": {},
   "source": [
    "# Inferences from correlation plots\n",
    "\n",
    "## Common inferences for both `casual` and `registered`.\n",
    "\n",
    "\n",
    "| feature   | `casual`  |  `registered` |\n",
    "|---|---|---|\n",
    "| `workingday`  | negatively correlated(-0.54), as expected  | positively correlated(0.31), as expected.  |\n",
    "|  `holiday` | slight positive impact, self-explanatory. | slight negative impact, self-explanatory.  |\n",
    "|  `Sunday` | people are free, thus would love to rent out.  |  people are free, i.e. don't need to go to work, hence registered users don't rent out on Sundays. |\n",
    "| `May`, `June`, `July`, `august` and `September` slight positive effect.  |  may be all of these have pleasant weather. a distribution plot with `weathersit_2` shall give us a better idea.may be its less `windy` or less `humid` , <font color=\"red\">distribution of `humidity`</font> | <font color=\"red\">distribution of `temp` and `atemp`</font> can tell us whether temperature factors in here as well, or not.  |\n",
    "| `Feb` and `March` both have negative impacts. | lesser impact(-0.24, -0.14)  | more impact(-0.33, -0.31) |\n",
    "| `summer` has high positive correlation  | may be since the definition of summer is different in the USA(as compared to India). Its actually June 1 to August 31.  |  checking <font color=\"red\">distribution of `temp` and `atemp`</font> would be a good idea. |\n",
    "| `spring` has a comparatively lower correlation coefficient  | 0.17, may be due to hot temperatures, i.e. March 1 - May 31  | 0.11, may be due to hot temperatures, i.e. March 1 - May 31  |\n",
    "|  `windspeed` has an obvious small but **negative** correlation | wouldn't generally be a problem, except when they accompany bad weather  |  hence <font color=\"red\">check for distribution of weather against windspeed.</font> |\n",
    "|  `temp` and `atemp`both have strong(highest infact, in terms of magnitude) positive correlation. | this would mean that at higher temperatures, people tend to bike more.  | this could also mean that the max values for these features isn't that high to begin with, but the min. values may be quite low. <font color=\"red\">check `temp` and `atemp` histograms</font>.  |\n",
    "|  `weathersit` has a negative correlation | bad weather = higher number and the worse the weather the lesser bikes will be rented out.  |   |\n",
    "\n",
    "\n",
    "## peculiar to `casual`\n",
    "\n",
    "1. `Wednesday`, `Thursday` and `Friday` behave appropriately.\n",
    "    - surprisingly, `Tuesday` doesn't seem to have a positive correlation.<font color=\"red\">check this!!!</font>\n",
    "    \n",
    "2. `December` has a slight negative impact(-0.22)\n",
    "    - may be due to the comparatively cold weather. <font color=\"red\">check distribution plot against `temp` and `atemp`.</font>\n",
    "    \n",
    "    - could also be that `December` has more stormy weather or higher windspeeds. <font color=\"red\">check distribution plot against `weathersit` and `windspeed`.</font>\n",
    "\n",
    "\n",
    "## peculiar to `registered`\n",
    "\n",
    "1. `October` has a slight positive impact.\n",
    "    - may be due to the weather improving in the month of October, or some political events that may leave people to use bikes more frequently. <font color=\"red\">check distribution plot against `temp` and `atemp`.</font>\n",
    "    \n",
    "    - october comes in the season of `fall`.\n",
    "    \n",
    "2. `fall`, i.e. autumn has a positive impact.\n",
    "    - quite self-explanatory, due to pleasant weather.\n",
    "    \n",
    "    - `September`, `October` and `November` are the months of the fall season. and, for at least `September` and `October` high correlation exists.\n",
    "    \n",
    "3. `Tuesday` seems to have some abrupt correlation bump, in comparison to other days. <font color=\"red\">check this!!!</font>.\n",
    "\n",
    "\n",
    "    \n",
    "    \n",
    "## Other inferences\n",
    "1. `temp` and `atemp` are highly correlated, and we know that its better to exclude highly correlated features from training a linear model.\n",
    "    - hence we will proceed with dropping `temp` column."
   ]
  },
  {
   "cell_type": "code",
   "execution_count": null,
   "metadata": {},
   "outputs": [],
   "source": [
    "fig, ax = plt.subplots(1, 1, figsize=(6, 6))\n",
    "# temp in december vs temp throughout\n",
    "sns.distplot(data_2011[data_2011['December'] == 1]['temp'], label=\"december-temperature\", hist=False, ax=ax)\n",
    "sns.distplot(data_2011['temp'], label=\"annual-temperature\", hist=False, ax=ax)\n",
    "\n",
    "sns.jointplot(x='temp',y='casual',data=data_2011, kind='kde')\n",
    "plt.show()"
   ]
  },
  {
   "cell_type": "markdown",
   "metadata": {},
   "source": [
    "Checking for why tuesday has a slightly weird behavior"
   ]
  },
  {
   "cell_type": "code",
   "execution_count": null,
   "metadata": {},
   "outputs": [],
   "source": [
    "# sns.distplot(data_2011[data_2011['Tuesday'] == 1]['casual'], hist=False, label=\"casual\")\n",
    "# sns.distplot(data_2011[data_2011['Tuesday'] == 1]['registered'], hist=False, label=\"registered\")\n",
    "\n",
    "\n",
    "temp_data_2011 = data_2011.copy()\n",
    "temp_data_2011['weekday'] = temp_data_2011.loc[:, calendar.day_name[1:]].idxmax(1)\n",
    "print(temp_data_2011['weekday'].value_counts())\n",
    "\n",
    "# sns.violinplot(x='time', y='total_bill', data=df, hue='smoker', split=True)"
   ]
  },
  {
   "cell_type": "markdown",
   "metadata": {},
   "source": [
    "### Divide the dataset into training and test sets\n",
    "\n",
    "## we will be first dealing with casual renters"
   ]
  },
  {
   "cell_type": "code",
   "execution_count": null,
   "metadata": {},
   "outputs": [],
   "source": [
    "X, y = normalized_data_2011, data_2011['casual']\n",
    "\n",
    "from sklearn.model_selection import train_test_split\n",
    "x_train, x_test, y_train, y_test = train_test_split(X, y, test_size=0.3, random_state=2021)\n",
    "\n",
    "print(\"the shape of x-train is {}, y-train is {}, x-test is {}, y-test is {}.\".format(x_train.shape, y_train.shape, x_test.shape, y_test.shape))"
   ]
  },
  {
   "cell_type": "markdown",
   "metadata": {},
   "source": [
    "* Since scikit-learn doesn't provide with the results of the estimates , i.e. mean value and std. error in the estimation of weights, we resort to `statsmodels`.\n",
    "\n",
    "* OLS, i.e. ordinary least squares regression is used, from the [`statsmodels`](https://www.statsmodels.org/stable/generated/statsmodels.regression.linear_model.OLS.html?highlight=ols#statsmodels.regression.linear_model.OLS) module. "
   ]
  },
  {
   "cell_type": "code",
   "execution_count": null,
   "metadata": {
    "scrolled": true
   },
   "outputs": [],
   "source": [
    "import statsmodels.api as smapi\n",
    "\n",
    "model = smapi.OLS(y_train, x_train)\n",
    "results = model.fit()\n",
    "print(results.summary())"
   ]
  },
  {
   "cell_type": "markdown",
   "metadata": {},
   "source": [
    "## Conceptual interpretation of Confidence interval\n",
    "\n",
    "- Confidence intervals use the variability of your data to assess the precision or accuracy of your estimated statistics(here estimated statistic is the weight for each feature).\n",
    "\n",
    "- it captures the margin of error\n",
    "    - error = $\\frac{CI_{upper} - CI_{lower}}{2}$\n",
    "    \n",
    "- hence a wider confidence interval means that estimation has a larger margin of error.\n",
    "    - for instance, `temperature` has an interval from 181 to 2493, i.e. the `temperature` feature can have weights in this range, depending upon the data supplied.\n",
    "    \n",
    "    - Wide confidence intervals mean that your sample size was too small.\n",
    "- If the confidence interval is relatively narrow (e.g. 0.70 to 0.80), the effect size is known precisely.  \n",
    "    - If the interval is wider (e.g. 0.60 to 0.93) the uncertainty is greater. \n",
    "    - Intervals that are **very wide** (e.g. 0.50 to 1.10) indicate that we have **little knowledge about the effect and that further information is needed**."
   ]
  },
  {
   "cell_type": "code",
   "execution_count": null,
   "metadata": {
    "scrolled": false
   },
   "outputs": [],
   "source": [
    "def create_dataframe_from_confidence_intervals(confid_interv):\n",
    "    columns = ['feature', 'weight']\n",
    "    num_features = confid_interv.shape[0]\n",
    "    value_list = []\n",
    "    for i in range(num_features):\n",
    "        curr_row = confid_interv.iloc[i, :]\n",
    "        value_list.append([curr_row['index'], curr_row[0]])\n",
    "        value_list.append([curr_row['index'], curr_row[1]])\n",
    "    df = pd.DataFrame(columns=columns, data=value_list)\n",
    "    return df\n",
    "\n",
    "# confidence intervals\n",
    "confid_interv = results.conf_int().reset_index()\n",
    "display(confid_interv.head())"
   ]
  },
  {
   "cell_type": "markdown",
   "metadata": {},
   "source": [
    "it would be better, from the perspective of visualising weight plots, to sort all features in the decreasing order of the width of their confidence intervals."
   ]
  },
  {
   "cell_type": "code",
   "execution_count": null,
   "metadata": {
    "scrolled": true
   },
   "outputs": [],
   "source": [
    "confid_interv['interv_width'] = abs(confid_interv[0]-confid_interv[1])\n",
    "display(confid_interv.head())\n",
    "\n",
    "# reverse sort the confidence intervals based on the order of their widths\n",
    "confid_interv.sort_values(by='interv_width', ascending=False, inplace=True)\n",
    "print(\"\\n\\ndecrease sorted confidence intervals dataframe....\")\n",
    "display(confid_interv.head())\n",
    "\n",
    "modified_confid_interv = create_dataframe_from_confidence_intervals(confid_interv)\n",
    "display(modified_confid_interv.head())\n",
    "\n",
    "plt.style.use('ggplot')\n",
    "\n",
    "plt.figure(figsize=(15, 9))\n",
    "sns.pointplot(x=\"weight\", y=\"feature\", data=modified_confid_interv, join=False)"
   ]
  },
  {
   "cell_type": "code",
   "execution_count": null,
   "metadata": {},
   "outputs": [],
   "source": []
  },
  {
   "cell_type": "markdown",
   "metadata": {},
   "source": [
    "# 2012 dataset"
   ]
  },
  {
   "cell_type": "markdown",
   "metadata": {},
   "source": [
    "* check whether the following fields are normalized.\n",
    "    - `temp`\n",
    "    - `atemp`\n",
    "    - `windspeed`\n",
    "    - `hum`"
   ]
  },
  {
   "cell_type": "code",
   "execution_count": null,
   "metadata": {},
   "outputs": [],
   "source": [
    "feature_list = ['temp', 'atemp', 'windspeed', 'hum']\n",
    "for feature in feature_list:\n",
    "    print(\"for feature {}, min = {}, max = {}.\".format(feature, min(data_2012[feature]), max(data_2012[feature])))"
   ]
  },
  {
   "cell_type": "markdown",
   "metadata": {},
   "source": [
    "hence they <font color=\"red\">aren't truly normalized</font>.\n",
    "* though the values are between 0 and 1, the **min** and **max** should have been **exactly 0 and 1**.\n",
    "* thus we need to normalize(min-max normalization) all features."
   ]
  },
  {
   "cell_type": "code",
   "execution_count": null,
   "metadata": {},
   "outputs": [],
   "source": [
    "x = data_2012['casual']+data_2012['registered'] ==  data_2012['cnt']\n",
    "x.value_counts()"
   ]
  },
  {
   "cell_type": "markdown",
   "metadata": {},
   "source": [
    "Thus, casual+registered = total counts of bike rented for the day.\\\n",
    "Hence, we now have **2 problem statements(per year), instead of 1**.\n",
    "1. <font color=\"Red\">predict, based on these environmental conditions, how many **casual renters** rented a bike on a day?</font>\n",
    "2. <font color=\"Red\">predict, based on these environmental conditions, how many **registered renters** rented a bike on a day?</font>"
   ]
  },
  {
   "cell_type": "markdown",
   "metadata": {},
   "source": [
    "<font size=\"4\">Checking the monthly counts of the dataset</font>"
   ]
  },
  {
   "cell_type": "code",
   "execution_count": null,
   "metadata": {},
   "outputs": [],
   "source": [
    "print(\"months for 2012 = {}\".format(np.unique(data_2012['mnth'])))"
   ]
  },
  {
   "cell_type": "markdown",
   "metadata": {},
   "source": [
    "Hence we can now comfortably compare them."
   ]
  },
  {
   "cell_type": "code",
   "execution_count": null,
   "metadata": {
    "scrolled": true
   },
   "outputs": [],
   "source": [
    "print(\"monthly number of entries for 2012:\\n{}\".format(\n",
    "    dict(zip(calendar.month_name[1:], data_2012['mnth'].value_counts().sort_index().values))\n",
    "))"
   ]
  },
  {
   "cell_type": "markdown",
   "metadata": {},
   "source": [
    "## Handling Categorical features"
   ]
  },
  {
   "cell_type": "code",
   "execution_count": null,
   "metadata": {},
   "outputs": [],
   "source": [
    "print(\"categories for season:\", data['season'].unique())\n",
    "print(\"categories for year:\", data['yr'].unique())\n",
    "print(\"categories for month:\", data['mnth'].unique())\n",
    "print(\"categories for holiday:\", data['holiday'].unique())\n",
    "print(\"categories for weekday:\", data['weekday'].unique())\n",
    "print(\"categories for workingday:\", data['workingday'].unique())\n",
    "print(\"categories for weathersit:\", data['weathersit'].unique())"
   ]
  },
  {
   "cell_type": "markdown",
   "metadata": {},
   "source": [
    "Weather situtation(`weathersit`) **could be thought** of as an <u>ordinal variable</u>, since the encoding is based on the severity of weather."
   ]
  },
  {
   "cell_type": "code",
   "execution_count": null,
   "metadata": {},
   "outputs": [],
   "source": [
    "categorical_features = [\n",
    "    'season',\n",
    "    'mnth',\n",
    "    'holiday',\n",
    "    'weekday',\n",
    "    'workingday'\n",
    "]\n",
    "\n",
    "# notice categorical_features excludes weathersit.\n",
    "\n",
    "for feature in categorical_features:\n",
    "    treatment_mat = pd.get_dummies(data[feature], drop_first=True)\n",
    "    current_categories = treatment_mat.columns\n",
    "    treatment_mat.columns = ['{}_{}'.format(feature, i) for i in current_categories]\n",
    "    data.drop([feature], axis=1, inplace=True)\n",
    "    data = pd.concat([data, treatment_mat], axis=1)\n",
    "\n",
    "print(\"after one-hot encoding all categorical features...\")\n",
    "display(data.head())\n",
    "\n",
    "# label encode the weathersit feature\n",
    "\n",
    "from sklearn.preprocessing import LabelEncoder\n",
    "le = LabelEncoder()\n",
    "data['weathersit'] = le.fit_transform(data['weathersit'])\n",
    "\n",
    "print(\"after label encoding the weathersit feature....\")\n",
    "display(data.head())"
   ]
  },
  {
   "cell_type": "markdown",
   "metadata": {},
   "source": [
    "## normalize the numerical variables"
   ]
  },
  {
   "cell_type": "code",
   "execution_count": null,
   "metadata": {},
   "outputs": [],
   "source": [
    "from sklearn.preprocessing import MinMaxScaler\n",
    "mm = MinMaxScaler()\n",
    "\n",
    "numerical_features = [i for i in data.columns if i not in ['cnt', 'registered', 'casual']]\n",
    "numerical_data = pd.DataFrame(mm.fit_transform(data.loc[:, numerical_features]), columns=numerical_features)\n",
    "\n",
    "display(numerical_data.head())"
   ]
  },
  {
   "cell_type": "markdown",
   "metadata": {},
   "source": [
    "as all features are now included, the `numerical_data` is actually the normalized important dataset."
   ]
  },
  {
   "cell_type": "code",
   "execution_count": null,
   "metadata": {},
   "outputs": [],
   "source": [
    "normalized_data = numerical_data.copy()"
   ]
  },
  {
   "cell_type": "markdown",
   "metadata": {},
   "source": [
    "## New feature interpretation\n",
    "\n",
    "1. season_2, season_3, season_4 denote spring, summer and fall respectively.\n",
    "    1. when all the 3 are 0, it means winter.\n",
    "2. yr_1 means 2012, if 0 then thats 2011.\n",
    "3. mnth_2 to mnth_12 means Feb-December, when all of these are 0s, it means January.\n",
    "4. weekday_1 to weekday_6 means Monday to Saturday, all 0s means Sunday.\n",
    "5. `weathersit_2` means\n",
    "    - 2: Mist + Cloudy, Mist + Broken clouds, Mist + Few clouds, Mist\n",
    "6. `weathersit_3` : Light Snow, Light Rain + Thunderstorm + Scattered clouds, Light Rain + Scattered clouds\n",
    "    - when both are 0, it means Clear, Few clouds, Partly cloudy, Partly cloudy"
   ]
  },
  {
   "cell_type": "markdown",
   "metadata": {},
   "source": [
    "## Correlation plots\n",
    "1. since we have 2 problems, i.e. predict `casual` and `registered`, we would have 2 columns in the heatmap."
   ]
  },
  {
   "cell_type": "code",
   "execution_count": null,
   "metadata": {},
   "outputs": [],
   "source": [
    "complete_data = pd.concat([new_X, y], axis=1)\n",
    "corr = complete_data.corr()\n",
    "\n",
    "plt.figure(figsize=(6, 20))\n",
    "sns.heatmap(corr.loc[:, ['casual']], annot=True)\n",
    "plt.tight_layout()"
   ]
  },
  {
   "cell_type": "markdown",
   "metadata": {},
   "source": [
    "### Divide the dataset into training and test sets\n",
    "\n",
    "## we will be first dealing with casual renters"
   ]
  },
  {
   "cell_type": "code",
   "execution_count": null,
   "metadata": {},
   "outputs": [],
   "source": [
    "X, y = normalized_data, data['casual']\n",
    "\n",
    "from sklearn.model_selection import train_test_split\n",
    "x_train, x_test, y_train, y_test = train_test_split(X, y, test_size=0.3, random_state=2021)\n",
    "\n",
    "print(\"the shape of x-train is {}, y-train is {}, x-test is {}, y-test is {}.\".format(x_train.shape, y_train.shape, x_test.shape, y_test.shape))"
   ]
  },
  {
   "cell_type": "markdown",
   "metadata": {},
   "source": [
    "* Since <font  color=\"red\">scikit-learn doesn't provide with the results of the estimates , i.e. mean value and std. error in the estimation of weights</font>, we resort to **`statsmodels`**.\n",
    "\n",
    "* OLS, i.e. ordinary least squares regression is used, from the [`statsmodels`](https://www.statsmodels.org/stable/generated/statsmodels.regression.linear_model.OLS.html?highlight=ols#statsmodels.regression.linear_model.OLS) module. "
   ]
  },
  {
   "cell_type": "code",
   "execution_count": null,
   "metadata": {
    "scrolled": true
   },
   "outputs": [],
   "source": [
    "import statsmodels.api as smapi\n",
    "\n",
    "model = smapi.OLS(y_train, x_train)\n",
    "results = model.fit()\n",
    "print(results.summary())"
   ]
  },
  {
   "cell_type": "code",
   "execution_count": null,
   "metadata": {
    "scrolled": false
   },
   "outputs": [],
   "source": [
    "# confidence intervals\n",
    "confid_interv = results.conf_int().reset_index()\n",
    "display(confid_interv.head())"
   ]
  },
  {
   "cell_type": "markdown",
   "metadata": {},
   "source": [
    "it would be better, from the perspective of visualising weight plots, to sort all features in the decreasing order of the width of their confidence intervals."
   ]
  },
  {
   "cell_type": "code",
   "execution_count": null,
   "metadata": {
    "scrolled": true
   },
   "outputs": [],
   "source": [
    "confid_interv['interv_width'] = abs(confid_interv[0]-confid_interv[1])\n",
    "display(confid_interv.head())\n",
    "\n",
    "# reverse sort the confidence intervals based on the order of their widths\n",
    "confid_interv.sort_values(by='interv_width', ascending=False, inplace=True)\n",
    "print(\"\\n\\ndecrease sorted confidence intervals dataframe....\")\n",
    "display(confid_interv.head())\n",
    "\n",
    "modified_confid_interv = create_dataframe_from_confidence_intervals(confid_interv)\n",
    "display(modified_confid_interv.head())\n",
    "\n",
    "plt.style.use('ggplot')\n",
    "\n",
    "plt.figure(figsize=(15, 9))\n",
    "sns.pointplot(x=\"weight\", y=\"feature\", data=modified_confid_interv, join=False)"
   ]
  },
  {
   "cell_type": "markdown",
   "metadata": {},
   "source": [
    "# Interpretation of the observed interval data"
   ]
  },
  {
   "cell_type": "markdown",
   "metadata": {},
   "source": [
    "## Correlation plot of `casual` vs other features"
   ]
  },
  {
   "cell_type": "code",
   "execution_count": null,
   "metadata": {
    "scrolled": true
   },
   "outputs": [],
   "source": [
    "complete_train_data = pd.concat([x_train, y_train], axis=1)\n",
    "casual_corr = complete_train_data.corr().loc[:, ['casual']].copy()\n",
    "casual_corr.sort_values(by='casual', inplace=True)\n",
    "\n",
    "plt.figure(figsize=(6, 20))\n",
    "sns.heatmap(casual_corr, annot=True)\n",
    "plt.tight_layout()"
   ]
  },
  {
   "cell_type": "code",
   "execution_count": null,
   "metadata": {},
   "outputs": [],
   "source": [
    "interested_features = ['mnth_{}'.format(i) for i in range(2, 13)]\n",
    "interested_features += ['holiday_1', 'temp', 'atemp']\n",
    "interested_features_corr = complete_train_data.loc[:, interested_features].corr().copy()\n",
    "\n",
    "\n",
    "plt.figure(figsize=(15, 8))\n",
    "sns.heatmap(interested_features_corr, annot=True)\n",
    "plt.tight_layout()"
   ]
  },
  {
   "cell_type": "markdown",
   "metadata": {},
   "source": [
    "- as we can see, `mnth_2` is the least correlated with `temp` and `atemp`\n",
    "    - it was also in negative correlation(-0.27) with `casual`.\n",
    "    - this could mean that February is quite cold, thus people don't want to cycle out.\n",
    "    - this can be confirmed by plotting the distribution of `temp` and `atemp` for `mnth_2=1`."
   ]
  },
  {
   "cell_type": "code",
   "execution_count": null,
   "metadata": {
    "scrolled": true
   },
   "outputs": [],
   "source": [
    "# plot atemp and temp for mnth_2=1, against the overall temperature distribution.\n",
    "\n",
    "fig, ax = plt.subplots(1, 2, figsize=(20, 6))\n",
    "sns.distplot(\n",
    "    complete_train_data[complete_train_data['mnth_2'] == 1]['atemp'], \n",
    "    kde=True, \n",
    "    hist=False, \n",
    "    label=\"atemp-feb\",\n",
    "    ax=ax[0]\n",
    ")\n",
    "sns.distplot(\n",
    "    complete_train_data['atemp'], \n",
    "    kde=True, \n",
    "    hist=False, \n",
    "    label=\"atemp\",\n",
    "    ax=ax[0]\n",
    ")\n",
    "\n",
    "sns.distplot(\n",
    "    complete_train_data[complete_train_data['mnth_2'] == 1]['temp'], \n",
    "    kde=True, \n",
    "    hist=False, \n",
    "    label=\"temp-feb\",\n",
    "    ax=ax[1]\n",
    ")\n",
    "sns.distplot(\n",
    "    complete_train_data['temp'], \n",
    "    kde=True, \n",
    "    hist=False, \n",
    "    label=\"temp\",\n",
    "    ax=ax[1]\n",
    ")\n",
    "\n",
    "\n",
    "# number of holidays \n",
    "print(\"For the month of February(both years 2011 and 2012, % of holidays are value counts for holiday_1 are \\n{}\".format(\n",
    "    complete_train_data[complete_train_data['mnth_2']==1]['holiday_1'].value_counts())\n",
    "     )\n",
    "print(\"For the complete training data, value counts for holiday_1 are \\n{}\".format(\n",
    "    complete_train_data['holiday_1'].value_counts())\n",
    "     )\n",
    "\n",
    "display(complete_train_data[complete_train_data['mnth_2'] == 1]['yr_1'].value_counts())\n",
    "\n",
    "# # number of workdays\n",
    "\n",
    "\n",
    "# plt.tight_layout()"
   ]
  },
  {
   "cell_type": "markdown",
   "metadata": {},
   "source": [
    "- hence we clearly see that february has quite low temperatures, when compared to the generic temperature distribution."
   ]
  },
  {
   "cell_type": "markdown",
   "metadata": {},
   "source": [
    "### Histogram plots for `atemp` and `temp`"
   ]
  },
  {
   "cell_type": "code",
   "execution_count": null,
   "metadata": {},
   "outputs": [],
   "source": [
    "# sns.distplot(x_train['temp'], hist=False, bins=20)\n",
    "v = pd.DataFrame(data=mm.inverse_transform(x_train), columns=x_train.columns)\n",
    "sns.distplot(v['temp'], hist=False, kde=True, label=\"temp\")\n",
    "sns.distplot(v['atemp'], hist=False, kde=True, label=\"atemp\")\n",
    "plt.legend()"
   ]
  },
  {
   "cell_type": "markdown",
   "metadata": {},
   "source": [
    "- the plots should have displayed the actual temperature in $^{\\circ}$C, but since it was *normalized* by the UCI repository managers, even after inverse transforming the values are between 0 and 1.\n",
    "\n",
    "- [Kaggle](https://www.kaggle.com/c/bike-sharing-demand/data) has a similar dataset for bike sharing, obtained from the exact same source, the UCI repository, i.e. Capital Bikeshare's data.\n",
    "    - the only difference is that kaggle has the pre-normalized distribution of the dataset, hence it would be better to use kaggle."
   ]
  },
  {
   "cell_type": "markdown",
   "metadata": {},
   "source": [
    "## Treating `weathersit` as a nominal variable."
   ]
  },
  {
   "cell_type": "code",
   "execution_count": null,
   "metadata": {
    "scrolled": true
   },
   "outputs": [],
   "source": [
    "new_X = X.copy()\n",
    "new_X['weathersit'] = le.inverse_transform(data['weathersit'])\n",
    "display(new_X.head())\n",
    "\n",
    "ws_nominal_coded = pd.get_dummies(new_X['weathersit'], drop_first=True)\n",
    "current_categories = ws_nominal_coded.columns\n",
    "ws_nominal_coded.columns = ['{}_{}'.format('weathersit', i) for i in current_categories]\n",
    "new_X.drop(['weathersit'], axis=1, inplace=True)\n",
    "new_X = pd.concat([new_X, ws_nominal_coded], axis=1)\n",
    "\n",
    "print(\"After nominal encoding of weather situation...\")\n",
    "display(new_X.head())"
   ]
  },
  {
   "cell_type": "code",
   "execution_count": null,
   "metadata": {
    "scrolled": false
   },
   "outputs": [],
   "source": [
    "x_train, x_test, y_train, y_test = train_test_split(new_X, y, test_size=0.3, random_state=2021)\n",
    "print(\"the shape of x-train is {}, y-train is {}, x-test is {}, y-test is {}.\".format(x_train.shape, y_train.shape, x_test.shape, y_test.shape))\n",
    "\n",
    "model = smapi.OLS(y_train, x_train)\n",
    "results = model.fit()\n",
    "print(results.summary())\n",
    "\n",
    "# confidence intervals\n",
    "new_confid_interv = results.conf_int().reset_index()\n",
    "display(new_confid_interv.head())\n",
    "\n",
    "new_confid_interv['interv_width'] = abs(new_confid_interv[0]-new_confid_interv[1])\n",
    "display(new_confid_interv.head())\n",
    "\n",
    "# reverse sort the confidence intervals based on the order of their widths\n",
    "new_confid_interv.sort_values(by='interv_width', ascending=False, inplace=True)\n",
    "print(\"\\n\\ndecrease sorted confidence intervals dataframe....\")\n",
    "display(new_confid_interv.head())\n",
    "\n",
    "new_modified_confid_interv = create_dataframe_from_confidence_intervals(new_confid_interv)\n",
    "display(new_modified_confid_interv.head())\n",
    "\n",
    "plt.style.use('ggplot')\n",
    "\n",
    "plt.figure(figsize=(15, 9))\n",
    "\n",
    "sns.pointplot(x=\"weight\", y=\"feature\", data=new_modified_confid_interv, join=False)\n"
   ]
  },
  {
   "cell_type": "markdown",
   "metadata": {},
   "source": [
    "## Effect plot"
   ]
  },
  {
   "cell_type": "markdown",
   "metadata": {},
   "source": [
    "Construct the effect matrix from the weight vector and feature matrix."
   ]
  },
  {
   "cell_type": "code",
   "execution_count": null,
   "metadata": {},
   "outputs": [],
   "source": [
    "weights = results.params\n",
    "features = x_train.columns\n",
    "\n",
    "effect_data = x_train.copy()\n",
    "\n",
    "for feature in features:\n",
    "    effect_data[feature] *= weights[feature]"
   ]
  },
  {
   "cell_type": "code",
   "execution_count": null,
   "metadata": {},
   "outputs": [],
   "source": [
    "display(effect_data.head(10))"
   ]
  },
  {
   "cell_type": "code",
   "execution_count": null,
   "metadata": {},
   "outputs": [],
   "source": [
    "temp_data = []\n",
    "for j in range(len(features)):\n",
    "    for i in range(effect_data.shape[0]):\n",
    "        temp_data.append([features[j], effect_data.iloc[i, j]])\n",
    "\n",
    "temp_df = pd.DataFrame(columns=['feature_name', 'effect'], data=temp_data)\n",
    "display(temp_df.head())\n",
    "\n",
    "plt.figure(figsize=(15, 10))\n",
    "sns.boxplot(x='effect', y='feature_name', data=temp_df)"
   ]
  },
  {
   "cell_type": "markdown",
   "metadata": {},
   "source": [
    "- too many outliers for too many features.\n",
    "    - it would be better to plot them separately."
   ]
  },
  {
   "cell_type": "code",
   "execution_count": null,
   "metadata": {},
   "outputs": [],
   "source": [
    "good_features = [\n",
    "    'temp',\n",
    "    'atemp',\n",
    "    'hum',\n",
    "    'windspeed',\n",
    "    'season_2',\n",
    "    'season_3',\n",
    "    'yr_1',\n",
    "    'workingday_1',\n",
    "    'weathersit_2'\n",
    "]\n",
    "\n",
    "bad_features = [i for i in effect_data.columns if i not in good_features]\n",
    "\n",
    "def get_tempdf_given_effect_data(effect_data):\n",
    "    features = effect_data.columns\n",
    "    temp_data = []\n",
    "    for j in range(len(features)):\n",
    "        for i in range(effect_data.shape[0]):\n",
    "            temp_data.append([features[j], effect_data.iloc[i, j]])\n",
    "            \n",
    "    temp_df = pd.DataFrame(columns=['feature_name', 'effect'], data=temp_data)\n",
    "    return temp_df\n",
    "\n",
    "bad_feature_effect_df = get_tempdf_given_effect_data(effect_data.loc[:, bad_features])\n",
    "good_feature_effect_df = get_tempdf_given_effect_data(effect_data.loc[:, good_features])\n",
    "\n",
    "fig, ax = plt.subplots(2, 1, figsize=(15, 18))\n",
    "sns.boxplot(x='effect', y='feature_name', data=bad_feature_effect_df, ax=ax[0])\n",
    "sns.boxplot(x='effect', y='feature_name', data=good_feature_effect_df, ax=ax[1])"
   ]
  },
  {
   "cell_type": "markdown",
   "metadata": {},
   "source": [
    "## Inference from effect plots"
   ]
  },
  {
   "cell_type": "markdown",
   "metadata": {},
   "source": [
    "## correlation with `casual`"
   ]
  },
  {
   "cell_type": "code",
   "execution_count": null,
   "metadata": {
    "scrolled": true
   },
   "outputs": [],
   "source": [
    "complete_data = pd.concat([new_X, y], axis=1)\n",
    "corr = complete_data.corr()\n",
    "\n",
    "plt.figure(figsize=(6, 20))\n",
    "sns.heatmap(corr.loc[:, ['casual']], annot=True)\n",
    "plt.tight_layout()"
   ]
  },
  {
   "cell_type": "markdown",
   "metadata": {},
   "source": [
    "## inference from correlation map."
   ]
  },
  {
   "cell_type": "code",
   "execution_count": null,
   "metadata": {},
   "outputs": [],
   "source": []
  }
 ],
 "metadata": {
  "kernelspec": {
   "display_name": "Python [conda env:tensorflow_cpu] *",
   "language": "python",
   "name": "conda-env-tensorflow_cpu-py"
  },
  "language_info": {
   "codemirror_mode": {
    "name": "ipython",
    "version": 3
   },
   "file_extension": ".py",
   "mimetype": "text/x-python",
   "name": "python",
   "nbconvert_exporter": "python",
   "pygments_lexer": "ipython3",
   "version": "3.6.10"
  }
 },
 "nbformat": 4,
 "nbformat_minor": 4
}
