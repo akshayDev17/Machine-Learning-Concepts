{
 "cells": [
  {
   "cell_type": "code",
   "execution_count": 1,
   "metadata": {},
   "outputs": [],
   "source": [
    "import numpy as np\n",
    "\n",
    "# mapping month number to month name\n",
    "import calendar\n",
    "\n",
    "import seaborn as sns\n",
    "import pandas as pd\n",
    "from IPython.display import display\n",
    "import matplotlib.pyplot as plt\n",
    "%matplotlib inline"
   ]
  },
  {
   "cell_type": "markdown",
   "metadata": {},
   "source": [
    "[link to the bike rental dataset](http://archive.ics.uci.edu/ml/datasets/Bike+Sharing+Dataset#)\n",
    "\n",
    "## Lets begin with day-wise analysis"
   ]
  },
  {
   "cell_type": "code",
   "execution_count": 2,
   "metadata": {
    "scrolled": false
   },
   "outputs": [
    {
     "data": {
      "text/html": [
       "<div>\n",
       "<style scoped>\n",
       "    .dataframe tbody tr th:only-of-type {\n",
       "        vertical-align: middle;\n",
       "    }\n",
       "\n",
       "    .dataframe tbody tr th {\n",
       "        vertical-align: top;\n",
       "    }\n",
       "\n",
       "    .dataframe thead th {\n",
       "        text-align: right;\n",
       "    }\n",
       "</style>\n",
       "<table border=\"1\" class=\"dataframe\">\n",
       "  <thead>\n",
       "    <tr style=\"text-align: right;\">\n",
       "      <th></th>\n",
       "      <th>instant</th>\n",
       "      <th>dteday</th>\n",
       "      <th>season</th>\n",
       "      <th>yr</th>\n",
       "      <th>mnth</th>\n",
       "      <th>holiday</th>\n",
       "      <th>weekday</th>\n",
       "      <th>workingday</th>\n",
       "      <th>weathersit</th>\n",
       "      <th>temp</th>\n",
       "      <th>atemp</th>\n",
       "      <th>hum</th>\n",
       "      <th>windspeed</th>\n",
       "      <th>casual</th>\n",
       "      <th>registered</th>\n",
       "      <th>cnt</th>\n",
       "    </tr>\n",
       "  </thead>\n",
       "  <tbody>\n",
       "    <tr>\n",
       "      <th>0</th>\n",
       "      <td>1</td>\n",
       "      <td>2011-01-01</td>\n",
       "      <td>1</td>\n",
       "      <td>0</td>\n",
       "      <td>1</td>\n",
       "      <td>0</td>\n",
       "      <td>6</td>\n",
       "      <td>0</td>\n",
       "      <td>2</td>\n",
       "      <td>0.344167</td>\n",
       "      <td>0.363625</td>\n",
       "      <td>0.805833</td>\n",
       "      <td>0.160446</td>\n",
       "      <td>331</td>\n",
       "      <td>654</td>\n",
       "      <td>985</td>\n",
       "    </tr>\n",
       "    <tr>\n",
       "      <th>1</th>\n",
       "      <td>2</td>\n",
       "      <td>2011-01-02</td>\n",
       "      <td>1</td>\n",
       "      <td>0</td>\n",
       "      <td>1</td>\n",
       "      <td>0</td>\n",
       "      <td>0</td>\n",
       "      <td>0</td>\n",
       "      <td>2</td>\n",
       "      <td>0.363478</td>\n",
       "      <td>0.353739</td>\n",
       "      <td>0.696087</td>\n",
       "      <td>0.248539</td>\n",
       "      <td>131</td>\n",
       "      <td>670</td>\n",
       "      <td>801</td>\n",
       "    </tr>\n",
       "    <tr>\n",
       "      <th>2</th>\n",
       "      <td>3</td>\n",
       "      <td>2011-01-03</td>\n",
       "      <td>1</td>\n",
       "      <td>0</td>\n",
       "      <td>1</td>\n",
       "      <td>0</td>\n",
       "      <td>1</td>\n",
       "      <td>1</td>\n",
       "      <td>1</td>\n",
       "      <td>0.196364</td>\n",
       "      <td>0.189405</td>\n",
       "      <td>0.437273</td>\n",
       "      <td>0.248309</td>\n",
       "      <td>120</td>\n",
       "      <td>1229</td>\n",
       "      <td>1349</td>\n",
       "    </tr>\n",
       "    <tr>\n",
       "      <th>3</th>\n",
       "      <td>4</td>\n",
       "      <td>2011-01-04</td>\n",
       "      <td>1</td>\n",
       "      <td>0</td>\n",
       "      <td>1</td>\n",
       "      <td>0</td>\n",
       "      <td>2</td>\n",
       "      <td>1</td>\n",
       "      <td>1</td>\n",
       "      <td>0.200000</td>\n",
       "      <td>0.212122</td>\n",
       "      <td>0.590435</td>\n",
       "      <td>0.160296</td>\n",
       "      <td>108</td>\n",
       "      <td>1454</td>\n",
       "      <td>1562</td>\n",
       "    </tr>\n",
       "    <tr>\n",
       "      <th>4</th>\n",
       "      <td>5</td>\n",
       "      <td>2011-01-05</td>\n",
       "      <td>1</td>\n",
       "      <td>0</td>\n",
       "      <td>1</td>\n",
       "      <td>0</td>\n",
       "      <td>3</td>\n",
       "      <td>1</td>\n",
       "      <td>1</td>\n",
       "      <td>0.226957</td>\n",
       "      <td>0.229270</td>\n",
       "      <td>0.436957</td>\n",
       "      <td>0.186900</td>\n",
       "      <td>82</td>\n",
       "      <td>1518</td>\n",
       "      <td>1600</td>\n",
       "    </tr>\n",
       "  </tbody>\n",
       "</table>\n",
       "</div>"
      ],
      "text/plain": [
       "   instant      dteday  season  yr  mnth  holiday  weekday  workingday  \\\n",
       "0        1  2011-01-01       1   0     1        0        6           0   \n",
       "1        2  2011-01-02       1   0     1        0        0           0   \n",
       "2        3  2011-01-03       1   0     1        0        1           1   \n",
       "3        4  2011-01-04       1   0     1        0        2           1   \n",
       "4        5  2011-01-05       1   0     1        0        3           1   \n",
       "\n",
       "   weathersit      temp     atemp       hum  windspeed  casual  registered  \\\n",
       "0           2  0.344167  0.363625  0.805833   0.160446     331         654   \n",
       "1           2  0.363478  0.353739  0.696087   0.248539     131         670   \n",
       "2           1  0.196364  0.189405  0.437273   0.248309     120        1229   \n",
       "3           1  0.200000  0.212122  0.590435   0.160296     108        1454   \n",
       "4           1  0.226957  0.229270  0.436957   0.186900      82        1518   \n",
       "\n",
       "    cnt  \n",
       "0   985  \n",
       "1   801  \n",
       "2  1349  \n",
       "3  1562  \n",
       "4  1600  "
      ]
     },
     "metadata": {},
     "output_type": "display_data"
    }
   ],
   "source": [
    "data = pd.read_csv(\"./christophM_datasets/bike_sharing/day.csv\")\n",
    "display(data.head())"
   ]
  },
  {
   "cell_type": "markdown",
   "metadata": {},
   "source": [
    "## data description\n",
    "\n",
    "- instant: record index\n",
    "- dteday : date\n",
    "- season : season (1:winter, 2:spring, 3:summer, 4:fall)\n",
    "- yr : year (0: 2011, 1:2012)\n",
    "- mnth : month ( 1 to 12)\n",
    "- hr : hour (0 to 23)\n",
    "- holiday : weather day is holiday or not.\n",
    "- weekday : day of the week\n",
    "- workingday : if day is neither weekend nor holiday is 1, otherwise is 0.\n",
    "+ weathersit :\n",
    "- 1: Clear, Few clouds, Partly cloudy, Partly cloudy\n",
    "- 2: Mist + Cloudy, Mist + Broken clouds, Mist + Few clouds, Mist\n",
    "- 3: Light Snow, Light Rain + Thunderstorm + Scattered clouds, Light Rain + Scattered clouds\n",
    "- 4: Heavy Rain + Ice Pallets + Thunderstorm + Mist, Snow + Fog\n",
    "- temp : **Normalized** temperature in Celsius. The values are derived via (t-t_min)/(t_max-t_min), t_min=-8, t_max=+39 (only in hourly scale)\n",
    "- atemp: **Normalized** feeling(**feels like**) temperature in Celsius. The values are derived via (t-t_min)/(t_max-t_min), t_min=-16, t_max=+50 (only in hourly scale)\n",
    "- hum: **Normalized** humidity. The values are divided to 100 (max)\n",
    "- windspeed: **Normalized** wind speed. The values are divided to 67 (max)\n",
    "- casual: count of casual users\n",
    "- registered: count of registered users\n",
    "- cnt: count of total rental bikes including both casual and registered \n",
    "\n",
    "### Inferences and further operations\n",
    "1. `cnt` is the dependent variable, to be predicted.\n",
    "2. `instant` and `dteday` can be filtered out.\n",
    "3. all categorical variables will now be treatment-coded.\n",
    "4. since there are 2 years, 2011 and 2012, the problem statement is trifurcated into the following:\n",
    "    - predicts sales for 2011\n",
    "    - predicts sales for 2012\n",
    "    - check why are they different"
   ]
  },
  {
   "cell_type": "code",
   "execution_count": 3,
   "metadata": {
    "scrolled": true
   },
   "outputs": [
    {
     "data": {
      "text/html": [
       "<div>\n",
       "<style scoped>\n",
       "    .dataframe tbody tr th:only-of-type {\n",
       "        vertical-align: middle;\n",
       "    }\n",
       "\n",
       "    .dataframe tbody tr th {\n",
       "        vertical-align: top;\n",
       "    }\n",
       "\n",
       "    .dataframe thead th {\n",
       "        text-align: right;\n",
       "    }\n",
       "</style>\n",
       "<table border=\"1\" class=\"dataframe\">\n",
       "  <thead>\n",
       "    <tr style=\"text-align: right;\">\n",
       "      <th></th>\n",
       "      <th>season</th>\n",
       "      <th>yr</th>\n",
       "      <th>mnth</th>\n",
       "      <th>holiday</th>\n",
       "      <th>weekday</th>\n",
       "      <th>workingday</th>\n",
       "      <th>weathersit</th>\n",
       "      <th>temp</th>\n",
       "      <th>atemp</th>\n",
       "      <th>hum</th>\n",
       "      <th>windspeed</th>\n",
       "      <th>casual</th>\n",
       "      <th>registered</th>\n",
       "      <th>cnt</th>\n",
       "    </tr>\n",
       "  </thead>\n",
       "  <tbody>\n",
       "    <tr>\n",
       "      <th>0</th>\n",
       "      <td>1</td>\n",
       "      <td>0</td>\n",
       "      <td>1</td>\n",
       "      <td>0</td>\n",
       "      <td>6</td>\n",
       "      <td>0</td>\n",
       "      <td>2</td>\n",
       "      <td>0.344167</td>\n",
       "      <td>0.363625</td>\n",
       "      <td>0.805833</td>\n",
       "      <td>0.160446</td>\n",
       "      <td>331</td>\n",
       "      <td>654</td>\n",
       "      <td>985</td>\n",
       "    </tr>\n",
       "  </tbody>\n",
       "</table>\n",
       "</div>"
      ],
      "text/plain": [
       "   season  yr  mnth  holiday  weekday  workingday  weathersit      temp  \\\n",
       "0       1   0     1        0        6           0           2  0.344167   \n",
       "\n",
       "      atemp       hum  windspeed  casual  registered  cnt  \n",
       "0  0.363625  0.805833   0.160446     331         654  985  "
      ]
     },
     "metadata": {},
     "output_type": "display_data"
    },
    {
     "name": "stderr",
     "output_type": "stream",
     "text": [
      "/home/laferrari/anaconda3/envs/tensorflow_cpu/lib/python3.6/site-packages/pandas/core/frame.py:3997: SettingWithCopyWarning: \n",
      "A value is trying to be set on a copy of a slice from a DataFrame\n",
      "\n",
      "See the caveats in the documentation: https://pandas.pydata.org/pandas-docs/stable/user_guide/indexing.html#returning-a-view-versus-a-copy\n",
      "  errors=errors,\n"
     ]
    },
    {
     "data": {
      "text/html": [
       "<div>\n",
       "<style scoped>\n",
       "    .dataframe tbody tr th:only-of-type {\n",
       "        vertical-align: middle;\n",
       "    }\n",
       "\n",
       "    .dataframe tbody tr th {\n",
       "        vertical-align: top;\n",
       "    }\n",
       "\n",
       "    .dataframe thead th {\n",
       "        text-align: right;\n",
       "    }\n",
       "</style>\n",
       "<table border=\"1\" class=\"dataframe\">\n",
       "  <thead>\n",
       "    <tr style=\"text-align: right;\">\n",
       "      <th></th>\n",
       "      <th>season</th>\n",
       "      <th>mnth</th>\n",
       "      <th>holiday</th>\n",
       "      <th>weekday</th>\n",
       "      <th>workingday</th>\n",
       "      <th>weathersit</th>\n",
       "      <th>temp</th>\n",
       "      <th>atemp</th>\n",
       "      <th>hum</th>\n",
       "      <th>windspeed</th>\n",
       "      <th>casual</th>\n",
       "      <th>registered</th>\n",
       "      <th>cnt</th>\n",
       "    </tr>\n",
       "  </thead>\n",
       "  <tbody>\n",
       "    <tr>\n",
       "      <th>0</th>\n",
       "      <td>1</td>\n",
       "      <td>1</td>\n",
       "      <td>0</td>\n",
       "      <td>6</td>\n",
       "      <td>0</td>\n",
       "      <td>2</td>\n",
       "      <td>0.344167</td>\n",
       "      <td>0.363625</td>\n",
       "      <td>0.805833</td>\n",
       "      <td>0.160446</td>\n",
       "      <td>331</td>\n",
       "      <td>654</td>\n",
       "      <td>985</td>\n",
       "    </tr>\n",
       "  </tbody>\n",
       "</table>\n",
       "</div>"
      ],
      "text/plain": [
       "   season  mnth  holiday  weekday  workingday  weathersit      temp     atemp  \\\n",
       "0       1     1        0        6           0           2  0.344167  0.363625   \n",
       "\n",
       "        hum  windspeed  casual  registered  cnt  \n",
       "0  0.805833   0.160446     331         654  985  "
      ]
     },
     "metadata": {},
     "output_type": "display_data"
    },
    {
     "data": {
      "text/html": [
       "<div>\n",
       "<style scoped>\n",
       "    .dataframe tbody tr th:only-of-type {\n",
       "        vertical-align: middle;\n",
       "    }\n",
       "\n",
       "    .dataframe tbody tr th {\n",
       "        vertical-align: top;\n",
       "    }\n",
       "\n",
       "    .dataframe thead th {\n",
       "        text-align: right;\n",
       "    }\n",
       "</style>\n",
       "<table border=\"1\" class=\"dataframe\">\n",
       "  <thead>\n",
       "    <tr style=\"text-align: right;\">\n",
       "      <th></th>\n",
       "      <th>season</th>\n",
       "      <th>mnth</th>\n",
       "      <th>holiday</th>\n",
       "      <th>weekday</th>\n",
       "      <th>workingday</th>\n",
       "      <th>weathersit</th>\n",
       "      <th>temp</th>\n",
       "      <th>atemp</th>\n",
       "      <th>hum</th>\n",
       "      <th>windspeed</th>\n",
       "      <th>casual</th>\n",
       "      <th>registered</th>\n",
       "      <th>cnt</th>\n",
       "    </tr>\n",
       "  </thead>\n",
       "  <tbody>\n",
       "    <tr>\n",
       "      <th>365</th>\n",
       "      <td>1</td>\n",
       "      <td>1</td>\n",
       "      <td>0</td>\n",
       "      <td>0</td>\n",
       "      <td>0</td>\n",
       "      <td>1</td>\n",
       "      <td>0.37</td>\n",
       "      <td>0.375621</td>\n",
       "      <td>0.6925</td>\n",
       "      <td>0.192167</td>\n",
       "      <td>686</td>\n",
       "      <td>1608</td>\n",
       "      <td>2294</td>\n",
       "    </tr>\n",
       "  </tbody>\n",
       "</table>\n",
       "</div>"
      ],
      "text/plain": [
       "     season  mnth  holiday  weekday  workingday  weathersit  temp     atemp  \\\n",
       "365       1     1        0        0           0           1  0.37  0.375621   \n",
       "\n",
       "        hum  windspeed  casual  registered   cnt  \n",
       "365  0.6925   0.192167     686        1608  2294  "
      ]
     },
     "metadata": {},
     "output_type": "display_data"
    }
   ],
   "source": [
    "# drop instant and dteday\n",
    "data.drop(['instant', 'dteday'], axis=1, inplace=True)\n",
    "display(data.head(1))\n",
    "\n",
    "# year separation of dataset\n",
    "data_2011, data_2012 = data[data['yr'] == 0], data[data['yr'] == 1]\n",
    "\n",
    "# we can now drop the yr column\n",
    "data_2011.drop(['yr'], axis=1, inplace=True)\n",
    "data_2012.drop(['yr'], axis=1, inplace=True)\n",
    "\n",
    "display(data_2011.head(1))\n",
    "display(data_2012.head(1))"
   ]
  },
  {
   "cell_type": "markdown",
   "metadata": {},
   "source": [
    "# handling the 2011 dataset initially"
   ]
  },
  {
   "cell_type": "markdown",
   "metadata": {},
   "source": [
    "* check whether the following fields are normalized.\n",
    "    - `temp`\n",
    "    - `atemp`\n",
    "    - `windspeed`\n",
    "    - `hum`"
   ]
  },
  {
   "cell_type": "code",
   "execution_count": 4,
   "metadata": {},
   "outputs": [
    {
     "name": "stdout",
     "output_type": "stream",
     "text": [
      "for feature temp, min = 0.0591304, max = 0.861667.\n",
      "for feature atemp, min = 0.0790696, max = 0.8408959999999999.\n",
      "for feature windspeed, min = 0.0223917, max = 0.507463.\n",
      "for feature hum, min = 0.0, max = 0.9725.\n"
     ]
    }
   ],
   "source": [
    "feature_list = ['temp', 'atemp', 'windspeed', 'hum']\n",
    "for feature in feature_list:\n",
    "    print(\"for feature {}, min = {}, max = {}.\".format(feature, min(data_2011[feature]), max(data_2011[feature])))"
   ]
  },
  {
   "cell_type": "markdown",
   "metadata": {},
   "source": [
    "hence they <font color=\"red\">aren't truly normalized</font>.\n",
    "* though the values are between 0 and 1, the **min** and **max** should have been **exactly 0 and 1**.\n",
    "* thus we need to normalize(min-max normalization) all features."
   ]
  },
  {
   "cell_type": "code",
   "execution_count": 5,
   "metadata": {},
   "outputs": [
    {
     "data": {
      "text/plain": [
       "True    731\n",
       "dtype: int64"
      ]
     },
     "execution_count": 5,
     "metadata": {},
     "output_type": "execute_result"
    }
   ],
   "source": [
    "x = data_2011['casual']+data_2011['registered'] ==  data_2011['cnt']\n",
    "x.value_counts()"
   ]
  },
  {
   "cell_type": "markdown",
   "metadata": {},
   "source": [
    "Thus, casual+registered = total counts of bike rented for the day.\\\n",
    "Hence, we now have **2 problem statements(per year), instead of 1**.\n",
    "1. <font color=\"Red\">predict, based on these environmental conditions, how many **casual renters** rented a bike on a day?</font>\n",
    "2. <font color=\"Red\">predict, based on these environmental conditions, how many **registered renters** rented a bike on a day?</font>"
   ]
  },
  {
   "cell_type": "markdown",
   "metadata": {},
   "source": [
    "<font size=\"4\">Checking the monthly counts of the dataset</font>"
   ]
  },
  {
   "cell_type": "code",
   "execution_count": 9,
   "metadata": {
    "scrolled": true
   },
   "outputs": [
    {
     "name": "stdout",
     "output_type": "stream",
     "text": [
      "months for 2011 = [ 1  2  3  4  5  6  7  8  9 10 11 12]\n"
     ]
    }
   ],
   "source": [
    "print(\"months for 2011 = {}\".format(np.unique(data_2011['mnth'])))"
   ]
  },
  {
   "cell_type": "code",
   "execution_count": 11,
   "metadata": {},
   "outputs": [
    {
     "name": "stdout",
     "output_type": "stream",
     "text": [
      "monthly number of entries for 2011:\n",
      "{'January': 31, 'February': 28, 'March': 31, 'April': 30, 'May': 31, 'June': 30, 'July': 31, 'August': 31, 'September': 30, 'October': 31, 'November': 30, 'December': 31}\n",
      "\n"
     ]
    }
   ],
   "source": [
    "print(\"monthly number of entries for 2011:\\n{}\\n\".format(\n",
    "    dict(zip(calendar.month_name[1:], data_2011['mnth'].value_counts().sort_index().values))\n",
    "))"
   ]
  },
  {
   "cell_type": "code",
   "execution_count": 28,
   "metadata": {},
   "outputs": [
    {
     "name": "stdout",
     "output_type": "stream",
     "text": [
      "(365, 30)\n"
     ]
    }
   ],
   "source": [
    "print(data_2011.shape)"
   ]
  },
  {
   "cell_type": "markdown",
   "metadata": {},
   "source": [
    "## Handling Categorical features"
   ]
  },
  {
   "cell_type": "code",
   "execution_count": 14,
   "metadata": {},
   "outputs": [
    {
     "name": "stdout",
     "output_type": "stream",
     "text": [
      "categories for season: [1 2 3 4]\n",
      "categories for month: [ 1  2  3  4  5  6  7  8  9 10 11 12]\n",
      "categories for holiday: [0 1]\n",
      "categories for weekday: [6 0 1 2 3 4 5]\n",
      "categories for workingday: [0 1]\n",
      "categories for weathersit: [2 1 3]\n"
     ]
    }
   ],
   "source": [
    "print(\"categories for season:\", data_2011['season'].unique())\n",
    "print(\"categories for month:\", data_2011['mnth'].unique())\n",
    "print(\"categories for holiday:\", data_2011['holiday'].unique())\n",
    "print(\"categories for weekday:\", data_2011['weekday'].unique())\n",
    "print(\"categories for workingday:\", data_2011['workingday'].unique())\n",
    "print(\"categories for weathersit:\", data_2011['weathersit'].unique())"
   ]
  },
  {
   "cell_type": "markdown",
   "metadata": {},
   "source": [
    "Weather situtation(`weathersit`) **could be thought** of as an <u>ordinal variable</u>, since the encoding is based on the severity of weather."
   ]
  },
  {
   "cell_type": "code",
   "execution_count": 15,
   "metadata": {
    "scrolled": true
   },
   "outputs": [
    {
     "name": "stdout",
     "output_type": "stream",
     "text": [
      "after one-hot encoding all categorical features...\n"
     ]
    },
    {
     "name": "stderr",
     "output_type": "stream",
     "text": [
      "/home/laferrari/anaconda3/envs/tensorflow_cpu/lib/python3.6/site-packages/pandas/core/frame.py:3997: SettingWithCopyWarning: \n",
      "A value is trying to be set on a copy of a slice from a DataFrame\n",
      "\n",
      "See the caveats in the documentation: https://pandas.pydata.org/pandas-docs/stable/user_guide/indexing.html#returning-a-view-versus-a-copy\n",
      "  errors=errors,\n"
     ]
    },
    {
     "data": {
      "text/html": [
       "<div>\n",
       "<style scoped>\n",
       "    .dataframe tbody tr th:only-of-type {\n",
       "        vertical-align: middle;\n",
       "    }\n",
       "\n",
       "    .dataframe tbody tr th {\n",
       "        vertical-align: top;\n",
       "    }\n",
       "\n",
       "    .dataframe thead th {\n",
       "        text-align: right;\n",
       "    }\n",
       "</style>\n",
       "<table border=\"1\" class=\"dataframe\">\n",
       "  <thead>\n",
       "    <tr style=\"text-align: right;\">\n",
       "      <th></th>\n",
       "      <th>weathersit</th>\n",
       "      <th>temp</th>\n",
       "      <th>atemp</th>\n",
       "      <th>hum</th>\n",
       "      <th>windspeed</th>\n",
       "      <th>casual</th>\n",
       "      <th>registered</th>\n",
       "      <th>cnt</th>\n",
       "      <th>season_2</th>\n",
       "      <th>season_3</th>\n",
       "      <th>...</th>\n",
       "      <th>mnth_11</th>\n",
       "      <th>mnth_12</th>\n",
       "      <th>holiday_1</th>\n",
       "      <th>weekday_1</th>\n",
       "      <th>weekday_2</th>\n",
       "      <th>weekday_3</th>\n",
       "      <th>weekday_4</th>\n",
       "      <th>weekday_5</th>\n",
       "      <th>weekday_6</th>\n",
       "      <th>workingday_1</th>\n",
       "    </tr>\n",
       "  </thead>\n",
       "  <tbody>\n",
       "    <tr>\n",
       "      <th>0</th>\n",
       "      <td>2</td>\n",
       "      <td>0.344167</td>\n",
       "      <td>0.363625</td>\n",
       "      <td>0.805833</td>\n",
       "      <td>0.160446</td>\n",
       "      <td>331</td>\n",
       "      <td>654</td>\n",
       "      <td>985</td>\n",
       "      <td>0</td>\n",
       "      <td>0</td>\n",
       "      <td>...</td>\n",
       "      <td>0</td>\n",
       "      <td>0</td>\n",
       "      <td>0</td>\n",
       "      <td>0</td>\n",
       "      <td>0</td>\n",
       "      <td>0</td>\n",
       "      <td>0</td>\n",
       "      <td>0</td>\n",
       "      <td>1</td>\n",
       "      <td>0</td>\n",
       "    </tr>\n",
       "    <tr>\n",
       "      <th>1</th>\n",
       "      <td>2</td>\n",
       "      <td>0.363478</td>\n",
       "      <td>0.353739</td>\n",
       "      <td>0.696087</td>\n",
       "      <td>0.248539</td>\n",
       "      <td>131</td>\n",
       "      <td>670</td>\n",
       "      <td>801</td>\n",
       "      <td>0</td>\n",
       "      <td>0</td>\n",
       "      <td>...</td>\n",
       "      <td>0</td>\n",
       "      <td>0</td>\n",
       "      <td>0</td>\n",
       "      <td>0</td>\n",
       "      <td>0</td>\n",
       "      <td>0</td>\n",
       "      <td>0</td>\n",
       "      <td>0</td>\n",
       "      <td>0</td>\n",
       "      <td>0</td>\n",
       "    </tr>\n",
       "    <tr>\n",
       "      <th>2</th>\n",
       "      <td>1</td>\n",
       "      <td>0.196364</td>\n",
       "      <td>0.189405</td>\n",
       "      <td>0.437273</td>\n",
       "      <td>0.248309</td>\n",
       "      <td>120</td>\n",
       "      <td>1229</td>\n",
       "      <td>1349</td>\n",
       "      <td>0</td>\n",
       "      <td>0</td>\n",
       "      <td>...</td>\n",
       "      <td>0</td>\n",
       "      <td>0</td>\n",
       "      <td>0</td>\n",
       "      <td>1</td>\n",
       "      <td>0</td>\n",
       "      <td>0</td>\n",
       "      <td>0</td>\n",
       "      <td>0</td>\n",
       "      <td>0</td>\n",
       "      <td>1</td>\n",
       "    </tr>\n",
       "    <tr>\n",
       "      <th>3</th>\n",
       "      <td>1</td>\n",
       "      <td>0.200000</td>\n",
       "      <td>0.212122</td>\n",
       "      <td>0.590435</td>\n",
       "      <td>0.160296</td>\n",
       "      <td>108</td>\n",
       "      <td>1454</td>\n",
       "      <td>1562</td>\n",
       "      <td>0</td>\n",
       "      <td>0</td>\n",
       "      <td>...</td>\n",
       "      <td>0</td>\n",
       "      <td>0</td>\n",
       "      <td>0</td>\n",
       "      <td>0</td>\n",
       "      <td>1</td>\n",
       "      <td>0</td>\n",
       "      <td>0</td>\n",
       "      <td>0</td>\n",
       "      <td>0</td>\n",
       "      <td>1</td>\n",
       "    </tr>\n",
       "    <tr>\n",
       "      <th>4</th>\n",
       "      <td>1</td>\n",
       "      <td>0.226957</td>\n",
       "      <td>0.229270</td>\n",
       "      <td>0.436957</td>\n",
       "      <td>0.186900</td>\n",
       "      <td>82</td>\n",
       "      <td>1518</td>\n",
       "      <td>1600</td>\n",
       "      <td>0</td>\n",
       "      <td>0</td>\n",
       "      <td>...</td>\n",
       "      <td>0</td>\n",
       "      <td>0</td>\n",
       "      <td>0</td>\n",
       "      <td>0</td>\n",
       "      <td>0</td>\n",
       "      <td>1</td>\n",
       "      <td>0</td>\n",
       "      <td>0</td>\n",
       "      <td>0</td>\n",
       "      <td>1</td>\n",
       "    </tr>\n",
       "  </tbody>\n",
       "</table>\n",
       "<p>5 rows × 30 columns</p>\n",
       "</div>"
      ],
      "text/plain": [
       "   weathersit      temp     atemp       hum  windspeed  casual  registered  \\\n",
       "0           2  0.344167  0.363625  0.805833   0.160446     331         654   \n",
       "1           2  0.363478  0.353739  0.696087   0.248539     131         670   \n",
       "2           1  0.196364  0.189405  0.437273   0.248309     120        1229   \n",
       "3           1  0.200000  0.212122  0.590435   0.160296     108        1454   \n",
       "4           1  0.226957  0.229270  0.436957   0.186900      82        1518   \n",
       "\n",
       "    cnt  season_2  season_3  ...  mnth_11  mnth_12  holiday_1  weekday_1  \\\n",
       "0   985         0         0  ...        0        0          0          0   \n",
       "1   801         0         0  ...        0        0          0          0   \n",
       "2  1349         0         0  ...        0        0          0          1   \n",
       "3  1562         0         0  ...        0        0          0          0   \n",
       "4  1600         0         0  ...        0        0          0          0   \n",
       "\n",
       "   weekday_2  weekday_3  weekday_4  weekday_5  weekday_6  workingday_1  \n",
       "0          0          0          0          0          1             0  \n",
       "1          0          0          0          0          0             0  \n",
       "2          0          0          0          0          0             1  \n",
       "3          1          0          0          0          0             1  \n",
       "4          0          1          0          0          0             1  \n",
       "\n",
       "[5 rows x 30 columns]"
      ]
     },
     "metadata": {},
     "output_type": "display_data"
    },
    {
     "name": "stdout",
     "output_type": "stream",
     "text": [
      "after label encoding the weathersit feature....\n"
     ]
    },
    {
     "data": {
      "text/html": [
       "<div>\n",
       "<style scoped>\n",
       "    .dataframe tbody tr th:only-of-type {\n",
       "        vertical-align: middle;\n",
       "    }\n",
       "\n",
       "    .dataframe tbody tr th {\n",
       "        vertical-align: top;\n",
       "    }\n",
       "\n",
       "    .dataframe thead th {\n",
       "        text-align: right;\n",
       "    }\n",
       "</style>\n",
       "<table border=\"1\" class=\"dataframe\">\n",
       "  <thead>\n",
       "    <tr style=\"text-align: right;\">\n",
       "      <th></th>\n",
       "      <th>weathersit</th>\n",
       "      <th>temp</th>\n",
       "      <th>atemp</th>\n",
       "      <th>hum</th>\n",
       "      <th>windspeed</th>\n",
       "      <th>casual</th>\n",
       "      <th>registered</th>\n",
       "      <th>cnt</th>\n",
       "      <th>season_2</th>\n",
       "      <th>season_3</th>\n",
       "      <th>...</th>\n",
       "      <th>mnth_11</th>\n",
       "      <th>mnth_12</th>\n",
       "      <th>holiday_1</th>\n",
       "      <th>weekday_1</th>\n",
       "      <th>weekday_2</th>\n",
       "      <th>weekday_3</th>\n",
       "      <th>weekday_4</th>\n",
       "      <th>weekday_5</th>\n",
       "      <th>weekday_6</th>\n",
       "      <th>workingday_1</th>\n",
       "    </tr>\n",
       "  </thead>\n",
       "  <tbody>\n",
       "    <tr>\n",
       "      <th>0</th>\n",
       "      <td>1</td>\n",
       "      <td>0.344167</td>\n",
       "      <td>0.363625</td>\n",
       "      <td>0.805833</td>\n",
       "      <td>0.160446</td>\n",
       "      <td>331</td>\n",
       "      <td>654</td>\n",
       "      <td>985</td>\n",
       "      <td>0</td>\n",
       "      <td>0</td>\n",
       "      <td>...</td>\n",
       "      <td>0</td>\n",
       "      <td>0</td>\n",
       "      <td>0</td>\n",
       "      <td>0</td>\n",
       "      <td>0</td>\n",
       "      <td>0</td>\n",
       "      <td>0</td>\n",
       "      <td>0</td>\n",
       "      <td>1</td>\n",
       "      <td>0</td>\n",
       "    </tr>\n",
       "    <tr>\n",
       "      <th>1</th>\n",
       "      <td>1</td>\n",
       "      <td>0.363478</td>\n",
       "      <td>0.353739</td>\n",
       "      <td>0.696087</td>\n",
       "      <td>0.248539</td>\n",
       "      <td>131</td>\n",
       "      <td>670</td>\n",
       "      <td>801</td>\n",
       "      <td>0</td>\n",
       "      <td>0</td>\n",
       "      <td>...</td>\n",
       "      <td>0</td>\n",
       "      <td>0</td>\n",
       "      <td>0</td>\n",
       "      <td>0</td>\n",
       "      <td>0</td>\n",
       "      <td>0</td>\n",
       "      <td>0</td>\n",
       "      <td>0</td>\n",
       "      <td>0</td>\n",
       "      <td>0</td>\n",
       "    </tr>\n",
       "    <tr>\n",
       "      <th>2</th>\n",
       "      <td>0</td>\n",
       "      <td>0.196364</td>\n",
       "      <td>0.189405</td>\n",
       "      <td>0.437273</td>\n",
       "      <td>0.248309</td>\n",
       "      <td>120</td>\n",
       "      <td>1229</td>\n",
       "      <td>1349</td>\n",
       "      <td>0</td>\n",
       "      <td>0</td>\n",
       "      <td>...</td>\n",
       "      <td>0</td>\n",
       "      <td>0</td>\n",
       "      <td>0</td>\n",
       "      <td>1</td>\n",
       "      <td>0</td>\n",
       "      <td>0</td>\n",
       "      <td>0</td>\n",
       "      <td>0</td>\n",
       "      <td>0</td>\n",
       "      <td>1</td>\n",
       "    </tr>\n",
       "    <tr>\n",
       "      <th>3</th>\n",
       "      <td>0</td>\n",
       "      <td>0.200000</td>\n",
       "      <td>0.212122</td>\n",
       "      <td>0.590435</td>\n",
       "      <td>0.160296</td>\n",
       "      <td>108</td>\n",
       "      <td>1454</td>\n",
       "      <td>1562</td>\n",
       "      <td>0</td>\n",
       "      <td>0</td>\n",
       "      <td>...</td>\n",
       "      <td>0</td>\n",
       "      <td>0</td>\n",
       "      <td>0</td>\n",
       "      <td>0</td>\n",
       "      <td>1</td>\n",
       "      <td>0</td>\n",
       "      <td>0</td>\n",
       "      <td>0</td>\n",
       "      <td>0</td>\n",
       "      <td>1</td>\n",
       "    </tr>\n",
       "    <tr>\n",
       "      <th>4</th>\n",
       "      <td>0</td>\n",
       "      <td>0.226957</td>\n",
       "      <td>0.229270</td>\n",
       "      <td>0.436957</td>\n",
       "      <td>0.186900</td>\n",
       "      <td>82</td>\n",
       "      <td>1518</td>\n",
       "      <td>1600</td>\n",
       "      <td>0</td>\n",
       "      <td>0</td>\n",
       "      <td>...</td>\n",
       "      <td>0</td>\n",
       "      <td>0</td>\n",
       "      <td>0</td>\n",
       "      <td>0</td>\n",
       "      <td>0</td>\n",
       "      <td>1</td>\n",
       "      <td>0</td>\n",
       "      <td>0</td>\n",
       "      <td>0</td>\n",
       "      <td>1</td>\n",
       "    </tr>\n",
       "  </tbody>\n",
       "</table>\n",
       "<p>5 rows × 30 columns</p>\n",
       "</div>"
      ],
      "text/plain": [
       "   weathersit      temp     atemp       hum  windspeed  casual  registered  \\\n",
       "0           1  0.344167  0.363625  0.805833   0.160446     331         654   \n",
       "1           1  0.363478  0.353739  0.696087   0.248539     131         670   \n",
       "2           0  0.196364  0.189405  0.437273   0.248309     120        1229   \n",
       "3           0  0.200000  0.212122  0.590435   0.160296     108        1454   \n",
       "4           0  0.226957  0.229270  0.436957   0.186900      82        1518   \n",
       "\n",
       "    cnt  season_2  season_3  ...  mnth_11  mnth_12  holiday_1  weekday_1  \\\n",
       "0   985         0         0  ...        0        0          0          0   \n",
       "1   801         0         0  ...        0        0          0          0   \n",
       "2  1349         0         0  ...        0        0          0          1   \n",
       "3  1562         0         0  ...        0        0          0          0   \n",
       "4  1600         0         0  ...        0        0          0          0   \n",
       "\n",
       "   weekday_2  weekday_3  weekday_4  weekday_5  weekday_6  workingday_1  \n",
       "0          0          0          0          0          1             0  \n",
       "1          0          0          0          0          0             0  \n",
       "2          0          0          0          0          0             1  \n",
       "3          1          0          0          0          0             1  \n",
       "4          0          1          0          0          0             1  \n",
       "\n",
       "[5 rows x 30 columns]"
      ]
     },
     "metadata": {},
     "output_type": "display_data"
    }
   ],
   "source": [
    "categorical_features = [\n",
    "    'season',\n",
    "    'mnth',\n",
    "    'holiday',\n",
    "    'weekday',\n",
    "    'workingday'\n",
    "]\n",
    "\n",
    "# notice categorical_features excludes weathersit.\n",
    "\n",
    "for feature in categorical_features:\n",
    "    treatment_mat = pd.get_dummies(data_2011[feature], drop_first=True)\n",
    "    current_categories = treatment_mat.columns\n",
    "    treatment_mat.columns = ['{}_{}'.format(feature, i) for i in current_categories]\n",
    "    data_2011.drop([feature], axis=1, inplace=True)\n",
    "    data_2011 = pd.concat([data_2011, treatment_mat], axis=1)\n",
    "\n",
    "print(\"after one-hot encoding all categorical features...\")\n",
    "display(data_2011.head())\n",
    "\n",
    "# label encode the weathersit feature\n",
    "\n",
    "from sklearn.preprocessing import LabelEncoder\n",
    "le = LabelEncoder()\n",
    "data_2011['weathersit'] = le.fit_transform(data_2011['weathersit'])\n",
    "\n",
    "print(\"after label encoding the weathersit feature....\")\n",
    "display(data_2011.head())"
   ]
  },
  {
   "cell_type": "markdown",
   "metadata": {},
   "source": [
    "## normalize the numerical variables"
   ]
  },
  {
   "cell_type": "code",
   "execution_count": 17,
   "metadata": {},
   "outputs": [
    {
     "data": {
      "text/html": [
       "<div>\n",
       "<style scoped>\n",
       "    .dataframe tbody tr th:only-of-type {\n",
       "        vertical-align: middle;\n",
       "    }\n",
       "\n",
       "    .dataframe tbody tr th {\n",
       "        vertical-align: top;\n",
       "    }\n",
       "\n",
       "    .dataframe thead th {\n",
       "        text-align: right;\n",
       "    }\n",
       "</style>\n",
       "<table border=\"1\" class=\"dataframe\">\n",
       "  <thead>\n",
       "    <tr style=\"text-align: right;\">\n",
       "      <th></th>\n",
       "      <th>weathersit</th>\n",
       "      <th>temp</th>\n",
       "      <th>atemp</th>\n",
       "      <th>hum</th>\n",
       "      <th>windspeed</th>\n",
       "      <th>season_2</th>\n",
       "      <th>season_3</th>\n",
       "      <th>season_4</th>\n",
       "      <th>mnth_2</th>\n",
       "      <th>mnth_3</th>\n",
       "      <th>...</th>\n",
       "      <th>mnth_11</th>\n",
       "      <th>mnth_12</th>\n",
       "      <th>holiday_1</th>\n",
       "      <th>weekday_1</th>\n",
       "      <th>weekday_2</th>\n",
       "      <th>weekday_3</th>\n",
       "      <th>weekday_4</th>\n",
       "      <th>weekday_5</th>\n",
       "      <th>weekday_6</th>\n",
       "      <th>workingday_1</th>\n",
       "    </tr>\n",
       "  </thead>\n",
       "  <tbody>\n",
       "    <tr>\n",
       "      <th>0</th>\n",
       "      <td>0.5</td>\n",
       "      <td>0.360789</td>\n",
       "      <td>0.373517</td>\n",
       "      <td>0.828620</td>\n",
       "      <td>0.284606</td>\n",
       "      <td>0.0</td>\n",
       "      <td>0.0</td>\n",
       "      <td>0.0</td>\n",
       "      <td>0.0</td>\n",
       "      <td>0.0</td>\n",
       "      <td>...</td>\n",
       "      <td>0.0</td>\n",
       "      <td>0.0</td>\n",
       "      <td>0.0</td>\n",
       "      <td>0.0</td>\n",
       "      <td>0.0</td>\n",
       "      <td>0.0</td>\n",
       "      <td>0.0</td>\n",
       "      <td>0.0</td>\n",
       "      <td>1.0</td>\n",
       "      <td>0.0</td>\n",
       "    </tr>\n",
       "    <tr>\n",
       "      <th>1</th>\n",
       "      <td>0.5</td>\n",
       "      <td>0.385232</td>\n",
       "      <td>0.360541</td>\n",
       "      <td>0.715771</td>\n",
       "      <td>0.466215</td>\n",
       "      <td>0.0</td>\n",
       "      <td>0.0</td>\n",
       "      <td>0.0</td>\n",
       "      <td>0.0</td>\n",
       "      <td>0.0</td>\n",
       "      <td>...</td>\n",
       "      <td>0.0</td>\n",
       "      <td>0.0</td>\n",
       "      <td>0.0</td>\n",
       "      <td>0.0</td>\n",
       "      <td>0.0</td>\n",
       "      <td>0.0</td>\n",
       "      <td>0.0</td>\n",
       "      <td>0.0</td>\n",
       "      <td>0.0</td>\n",
       "      <td>0.0</td>\n",
       "    </tr>\n",
       "    <tr>\n",
       "      <th>2</th>\n",
       "      <td>0.0</td>\n",
       "      <td>0.173705</td>\n",
       "      <td>0.144830</td>\n",
       "      <td>0.449638</td>\n",
       "      <td>0.465740</td>\n",
       "      <td>0.0</td>\n",
       "      <td>0.0</td>\n",
       "      <td>0.0</td>\n",
       "      <td>0.0</td>\n",
       "      <td>0.0</td>\n",
       "      <td>...</td>\n",
       "      <td>0.0</td>\n",
       "      <td>0.0</td>\n",
       "      <td>0.0</td>\n",
       "      <td>1.0</td>\n",
       "      <td>0.0</td>\n",
       "      <td>0.0</td>\n",
       "      <td>0.0</td>\n",
       "      <td>0.0</td>\n",
       "      <td>0.0</td>\n",
       "      <td>1.0</td>\n",
       "    </tr>\n",
       "    <tr>\n",
       "      <th>3</th>\n",
       "      <td>0.0</td>\n",
       "      <td>0.178308</td>\n",
       "      <td>0.174649</td>\n",
       "      <td>0.607131</td>\n",
       "      <td>0.284297</td>\n",
       "      <td>0.0</td>\n",
       "      <td>0.0</td>\n",
       "      <td>0.0</td>\n",
       "      <td>0.0</td>\n",
       "      <td>0.0</td>\n",
       "      <td>...</td>\n",
       "      <td>0.0</td>\n",
       "      <td>0.0</td>\n",
       "      <td>0.0</td>\n",
       "      <td>0.0</td>\n",
       "      <td>1.0</td>\n",
       "      <td>0.0</td>\n",
       "      <td>0.0</td>\n",
       "      <td>0.0</td>\n",
       "      <td>0.0</td>\n",
       "      <td>1.0</td>\n",
       "    </tr>\n",
       "    <tr>\n",
       "      <th>4</th>\n",
       "      <td>0.0</td>\n",
       "      <td>0.212429</td>\n",
       "      <td>0.197158</td>\n",
       "      <td>0.449313</td>\n",
       "      <td>0.339143</td>\n",
       "      <td>0.0</td>\n",
       "      <td>0.0</td>\n",
       "      <td>0.0</td>\n",
       "      <td>0.0</td>\n",
       "      <td>0.0</td>\n",
       "      <td>...</td>\n",
       "      <td>0.0</td>\n",
       "      <td>0.0</td>\n",
       "      <td>0.0</td>\n",
       "      <td>0.0</td>\n",
       "      <td>0.0</td>\n",
       "      <td>1.0</td>\n",
       "      <td>0.0</td>\n",
       "      <td>0.0</td>\n",
       "      <td>0.0</td>\n",
       "      <td>1.0</td>\n",
       "    </tr>\n",
       "  </tbody>\n",
       "</table>\n",
       "<p>5 rows × 27 columns</p>\n",
       "</div>"
      ],
      "text/plain": [
       "   weathersit      temp     atemp       hum  windspeed  season_2  season_3  \\\n",
       "0         0.5  0.360789  0.373517  0.828620   0.284606       0.0       0.0   \n",
       "1         0.5  0.385232  0.360541  0.715771   0.466215       0.0       0.0   \n",
       "2         0.0  0.173705  0.144830  0.449638   0.465740       0.0       0.0   \n",
       "3         0.0  0.178308  0.174649  0.607131   0.284297       0.0       0.0   \n",
       "4         0.0  0.212429  0.197158  0.449313   0.339143       0.0       0.0   \n",
       "\n",
       "   season_4  mnth_2  mnth_3  ...  mnth_11  mnth_12  holiday_1  weekday_1  \\\n",
       "0       0.0     0.0     0.0  ...      0.0      0.0        0.0        0.0   \n",
       "1       0.0     0.0     0.0  ...      0.0      0.0        0.0        0.0   \n",
       "2       0.0     0.0     0.0  ...      0.0      0.0        0.0        1.0   \n",
       "3       0.0     0.0     0.0  ...      0.0      0.0        0.0        0.0   \n",
       "4       0.0     0.0     0.0  ...      0.0      0.0        0.0        0.0   \n",
       "\n",
       "   weekday_2  weekday_3  weekday_4  weekday_5  weekday_6  workingday_1  \n",
       "0        0.0        0.0        0.0        0.0        1.0           0.0  \n",
       "1        0.0        0.0        0.0        0.0        0.0           0.0  \n",
       "2        0.0        0.0        0.0        0.0        0.0           1.0  \n",
       "3        1.0        0.0        0.0        0.0        0.0           1.0  \n",
       "4        0.0        1.0        0.0        0.0        0.0           1.0  \n",
       "\n",
       "[5 rows x 27 columns]"
      ]
     },
     "metadata": {},
     "output_type": "display_data"
    }
   ],
   "source": [
    "from sklearn.preprocessing import MinMaxScaler\n",
    "mm = MinMaxScaler()\n",
    "\n",
    "numerical_features = [i for i in data_2011.columns if i not in ['cnt', 'registered', 'casual']]\n",
    "numerical_data_2011 = pd.DataFrame(mm.fit_transform(data_2011.loc[:, numerical_features]), columns=numerical_features)\n",
    "\n",
    "display(numerical_data_2011.head())"
   ]
  },
  {
   "cell_type": "markdown",
   "metadata": {},
   "source": [
    "as all features are now included, the `numerical_data_2011` is actually the normalized important dataset."
   ]
  },
  {
   "cell_type": "code",
   "execution_count": 18,
   "metadata": {},
   "outputs": [],
   "source": [
    "normalized_data_2011 = numerical_data_2011.copy()"
   ]
  },
  {
   "cell_type": "markdown",
   "metadata": {},
   "source": [
    "## Correlation plots\n",
    "1. since we have 2 problems, i.e. predict `casual` and `registered`, we would have 2 columns in the heatmap."
   ]
  },
  {
   "cell_type": "code",
   "execution_count": 27,
   "metadata": {},
   "outputs": [
    {
     "data": {
      "image/png": "[encoded data removed]",
      "text/plain": [
       "<Figure size 432x864 with 2 Axes>"
      ]
     },
     "metadata": {},
     "output_type": "display_data"
    }
   ],
   "source": [
    "combined_data = pd.concat([numerical_data_2011, data_2011[['casual', 'registered']]], axis=1)\n",
    "corr = combined_data.corr()\n",
    "\n",
    "\n",
    "plt.figure(figsize=(6, 12))\n",
    "sns.heatmap(corr.loc[:, ['casual', 'registered']], annot=True)\n",
    "plt.tight_layout()"
   ]
  },
  {
   "cell_type": "markdown",
   "metadata": {},
   "source": [
    "## Inferences from correlation plots\n",
    "\n",
    "### Casual.\n",
    "1. `workingday_1` is negatively correlated(-0.54), as expected.\n",
    "2. even `weekday_6`, i.e. Sunday behaves as expected.\n",
    "    - people are free, thus would love to rent out.\n",
    "3. `weekday_2`, `weekday_3` and `weekday_4` behave appropriately.\n",
    "    - these are Wednesday, Thursday and Friday.\n",
    "    - surprisingly, tuesday doesn't seem to have a positive correlation.<font color=\"red\">check this!!!</font>\n",
    "    \n",
    "4. \n",
    "\n",
    "### Registered.\n",
    "1. `workingday_1` is positively correlated(0.31), as expected.\n",
    "2. even `weekday_6`, i.e. Sunday behaves as expected.\n",
    "    - people are free, i.e. don't need to go to work, hence registered users don't rent out on Sundays.\n",
    "    - Wednesday seems to have some abrupt correlation bump, in comparison to other days. <font color=\"red\">check this!!!</font>\n",
    "    "
   ]
  },
  {
   "cell_type": "markdown",
   "metadata": {},
   "source": [
    "### Divide the dataset into training and test sets\n",
    "\n",
    "## we will be first dealing with casual renters"
   ]
  },
  {
   "cell_type": "code",
   "execution_count": 19,
   "metadata": {},
   "outputs": [
    {
     "name": "stdout",
     "output_type": "stream",
     "text": [
      "the shape of x-train is (255, 27), y-train is (255,), x-test is (110, 27), y-test is (110,).\n"
     ]
    }
   ],
   "source": [
    "X, y = normalized_data_2011, data_2011['casual']\n",
    "\n",
    "from sklearn.model_selection import train_test_split\n",
    "x_train, x_test, y_train, y_test = train_test_split(X, y, test_size=0.3, random_state=2021)\n",
    "\n",
    "print(\"the shape of x-train is {}, y-train is {}, x-test is {}, y-test is {}.\".format(x_train.shape, y_train.shape, x_test.shape, y_test.shape))"
   ]
  },
  {
   "cell_type": "markdown",
   "metadata": {},
   "source": [
    "* Since scikit-learn doesn't provide with the results of the estimates , i.e. mean value and std. error in the estimation of weights, we resort to `statsmodels`.\n",
    "\n",
    "* OLS, i.e. ordinary least squares regression is used, from the [`statsmodels`](https://www.statsmodels.org/stable/generated/statsmodels.regression.linear_model.OLS.html?highlight=ols#statsmodels.regression.linear_model.OLS) module. "
   ]
  },
  {
   "cell_type": "code",
   "execution_count": 20,
   "metadata": {
    "scrolled": true
   },
   "outputs": [
    {
     "name": "stdout",
     "output_type": "stream",
     "text": [
      "                                 OLS Regression Results                                \n",
      "=======================================================================================\n",
      "Dep. Variable:                 casual   R-squared (uncentered):                   0.895\n",
      "Model:                            OLS   Adj. R-squared (uncentered):              0.883\n",
      "Method:                 Least Squares   F-statistic:                              74.72\n",
      "Date:                Thu, 01 Apr 2021   Prob (F-statistic):                    7.45e-97\n",
      "Time:                        15:08:17   Log-Likelihood:                         -1805.2\n",
      "No. Observations:                 255   AIC:                                      3662.\n",
      "Df Residuals:                     229   BIC:                                      3754.\n",
      "Df Model:                          26                                                  \n",
      "Covariance Type:            nonrobust                                                  \n",
      "================================================================================\n",
      "                   coef    std err          t      P>|t|      [0.025      0.975]\n",
      "--------------------------------------------------------------------------------\n",
      "weathersit    -502.8744     85.611     -5.874      0.000    -671.560    -334.189\n",
      "temp          2085.0259   1190.166      1.752      0.081    -260.050    4430.102\n",
      "atemp        -1109.8717   1244.345     -0.892      0.373   -3561.701    1341.958\n",
      "hum            609.4429    136.972      4.449      0.000     339.557     879.329\n",
      "windspeed     -143.2702    131.773     -1.087      0.278    -402.913     116.372\n",
      "season_2        90.4107    116.083      0.779      0.437    -138.317     319.138\n",
      "season_3       135.8392    138.517      0.981      0.328    -137.092     408.770\n",
      "season_4        42.7257    119.667      0.357      0.721    -193.063     278.514\n",
      "mnth_2         157.7172     98.400      1.603      0.110     -36.168     351.602\n",
      "mnth_3         264.1696    111.539      2.368      0.019      44.395     483.944\n",
      "mnth_4         273.8176    181.906      1.505      0.134     -84.606     632.241\n",
      "mnth_5         319.2732    197.890      1.613      0.108     -70.646     709.192\n",
      "mnth_6         228.5268    220.570      1.036      0.301    -206.079     663.133\n",
      "mnth_7         206.9647    249.167      0.831      0.407    -283.988     697.918\n",
      "mnth_8          61.4082    236.892      0.259      0.796    -405.359     528.176\n",
      "mnth_9         181.1890    211.270      0.858      0.392    -235.093     597.471\n",
      "mnth_10        321.7758    180.226      1.785      0.076     -33.338     676.890\n",
      "mnth_11        172.5858    171.157      1.008      0.314    -164.658     509.830\n",
      "mnth_12         16.1093    128.508      0.125      0.900    -237.101     269.319\n",
      "holiday_1      155.0326    112.961      1.372      0.171     -67.544     377.609\n",
      "weekday_1      -57.0086     47.056     -1.212      0.227    -149.726      35.709\n",
      "weekday_2      -70.3449     51.844     -1.357      0.176    -172.496      31.807\n",
      "weekday_3     -175.2823     52.846     -3.317      0.001    -279.409     -71.156\n",
      "weekday_4     -113.9135     51.112     -2.229      0.027    -214.623     -13.204\n",
      "weekday_5       61.5989     55.800      1.104      0.271     -48.348     171.546\n",
      "weekday_6      119.5894     70.709      1.691      0.092     -19.734     258.913\n",
      "workingday_1  -509.9830     44.571    -11.442      0.000    -597.804    -422.162\n",
      "==============================================================================\n",
      "Omnibus:                       45.767   Durbin-Watson:                   2.092\n",
      "Prob(Omnibus):                  0.000   Jarque-Bera (JB):              209.446\n",
      "Skew:                           0.603   Prob(JB):                     3.31e-46\n",
      "Kurtosis:                       7.273   Cond. No.                     1.34e+16\n",
      "==============================================================================\n",
      "\n",
      "Warnings:\n",
      "[1] Standard Errors assume that the covariance matrix of the errors is correctly specified.\n",
      "[2] The smallest eigenvalue is 3.14e-30. This might indicate that there are\n",
      "strong multicollinearity problems or that the design matrix is singular.\n"
     ]
    }
   ],
   "source": [
    "import statsmodels.api as smapi\n",
    "\n",
    "model = smapi.OLS(y_train, x_train)\n",
    "results = model.fit()\n",
    "print(results.summary())"
   ]
  },
  {
   "cell_type": "markdown",
   "metadata": {},
   "source": [
    "## Conceptual interpretation of Confidence interval\n",
    "\n",
    "- Confidence intervals use the variability of your data to assess the precision or accuracy of your estimated statistics(here estimated statistic is the weight for each feature).\n",
    "\n",
    "- it captures the margin of error\n",
    "    - error = $\\frac{CI_{upper} - CI_{lower}}{2}$\n",
    "    \n",
    "- hence a wider confidence interval means that estimation has a larger margin of error.\n",
    "    - for instance, `temperature` has an interval from 181 to 2493, i.e. the `temperature` feature can have weights in this range, depending upon the data supplied.\n",
    "    \n",
    "    - Wide confidence intervals mean that your sample size was too small.\n",
    "- If the confidence interval is relatively narrow (e.g. 0.70 to 0.80), the effect size is known precisely.  \n",
    "    - If the interval is wider (e.g. 0.60 to 0.93) the uncertainty is greater. \n",
    "    - Intervals that are **very wide** (e.g. 0.50 to 1.10) indicate that we have **little knowledge about the effect and that further information is needed**."
   ]
  },
  {
   "cell_type": "code",
   "execution_count": 21,
   "metadata": {
    "scrolled": false
   },
   "outputs": [
    {
     "data": {
      "text/html": [
       "<div>\n",
       "<style scoped>\n",
       "    .dataframe tbody tr th:only-of-type {\n",
       "        vertical-align: middle;\n",
       "    }\n",
       "\n",
       "    .dataframe tbody tr th {\n",
       "        vertical-align: top;\n",
       "    }\n",
       "\n",
       "    .dataframe thead th {\n",
       "        text-align: right;\n",
       "    }\n",
       "</style>\n",
       "<table border=\"1\" class=\"dataframe\">\n",
       "  <thead>\n",
       "    <tr style=\"text-align: right;\">\n",
       "      <th></th>\n",
       "      <th>index</th>\n",
       "      <th>0</th>\n",
       "      <th>1</th>\n",
       "    </tr>\n",
       "  </thead>\n",
       "  <tbody>\n",
       "    <tr>\n",
       "      <th>0</th>\n",
       "      <td>weathersit</td>\n",
       "      <td>-671.559540</td>\n",
       "      <td>-334.189199</td>\n",
       "    </tr>\n",
       "    <tr>\n",
       "      <th>1</th>\n",
       "      <td>temp</td>\n",
       "      <td>-260.050133</td>\n",
       "      <td>4430.101840</td>\n",
       "    </tr>\n",
       "    <tr>\n",
       "      <th>2</th>\n",
       "      <td>atemp</td>\n",
       "      <td>-3561.701371</td>\n",
       "      <td>1341.958065</td>\n",
       "    </tr>\n",
       "    <tr>\n",
       "      <th>3</th>\n",
       "      <td>hum</td>\n",
       "      <td>339.557340</td>\n",
       "      <td>879.328541</td>\n",
       "    </tr>\n",
       "    <tr>\n",
       "      <th>4</th>\n",
       "      <td>windspeed</td>\n",
       "      <td>-402.912893</td>\n",
       "      <td>116.372499</td>\n",
       "    </tr>\n",
       "  </tbody>\n",
       "</table>\n",
       "</div>"
      ],
      "text/plain": [
       "        index            0            1\n",
       "0  weathersit  -671.559540  -334.189199\n",
       "1        temp  -260.050133  4430.101840\n",
       "2       atemp -3561.701371  1341.958065\n",
       "3         hum   339.557340   879.328541\n",
       "4   windspeed  -402.912893   116.372499"
      ]
     },
     "metadata": {},
     "output_type": "display_data"
    }
   ],
   "source": [
    "def create_dataframe_from_confidence_intervals(confid_interv):\n",
    "    columns = ['feature', 'weight']\n",
    "    num_features = confid_interv.shape[0]\n",
    "    value_list = []\n",
    "    for i in range(num_features):\n",
    "        curr_row = confid_interv.iloc[i, :]\n",
    "        value_list.append([curr_row['index'], curr_row[0]])\n",
    "        value_list.append([curr_row['index'], curr_row[1]])\n",
    "    df = pd.DataFrame(columns=columns, data=value_list)\n",
    "    return df\n",
    "\n",
    "# confidence intervals\n",
    "confid_interv = results.conf_int().reset_index()\n",
    "display(confid_interv.head())"
   ]
  },
  {
   "cell_type": "markdown",
   "metadata": {},
   "source": [
    "it would be better, from the perspective of visualising weight plots, to sort all features in the decreasing order of the width of their confidence intervals."
   ]
  },
  {
   "cell_type": "code",
   "execution_count": 22,
   "metadata": {
    "scrolled": true
   },
   "outputs": [
    {
     "data": {
      "text/html": [
       "<div>\n",
       "<style scoped>\n",
       "    .dataframe tbody tr th:only-of-type {\n",
       "        vertical-align: middle;\n",
       "    }\n",
       "\n",
       "    .dataframe tbody tr th {\n",
       "        vertical-align: top;\n",
       "    }\n",
       "\n",
       "    .dataframe thead th {\n",
       "        text-align: right;\n",
       "    }\n",
       "</style>\n",
       "<table border=\"1\" class=\"dataframe\">\n",
       "  <thead>\n",
       "    <tr style=\"text-align: right;\">\n",
       "      <th></th>\n",
       "      <th>index</th>\n",
       "      <th>0</th>\n",
       "      <th>1</th>\n",
       "      <th>interv_width</th>\n",
       "    </tr>\n",
       "  </thead>\n",
       "  <tbody>\n",
       "    <tr>\n",
       "      <th>0</th>\n",
       "      <td>weathersit</td>\n",
       "      <td>-671.559540</td>\n",
       "      <td>-334.189199</td>\n",
       "      <td>337.370342</td>\n",
       "    </tr>\n",
       "    <tr>\n",
       "      <th>1</th>\n",
       "      <td>temp</td>\n",
       "      <td>-260.050133</td>\n",
       "      <td>4430.101840</td>\n",
       "      <td>4690.151973</td>\n",
       "    </tr>\n",
       "    <tr>\n",
       "      <th>2</th>\n",
       "      <td>atemp</td>\n",
       "      <td>-3561.701371</td>\n",
       "      <td>1341.958065</td>\n",
       "      <td>4903.659436</td>\n",
       "    </tr>\n",
       "    <tr>\n",
       "      <th>3</th>\n",
       "      <td>hum</td>\n",
       "      <td>339.557340</td>\n",
       "      <td>879.328541</td>\n",
       "      <td>539.771201</td>\n",
       "    </tr>\n",
       "    <tr>\n",
       "      <th>4</th>\n",
       "      <td>windspeed</td>\n",
       "      <td>-402.912893</td>\n",
       "      <td>116.372499</td>\n",
       "      <td>519.285392</td>\n",
       "    </tr>\n",
       "  </tbody>\n",
       "</table>\n",
       "</div>"
      ],
      "text/plain": [
       "        index            0            1  interv_width\n",
       "0  weathersit  -671.559540  -334.189199    337.370342\n",
       "1        temp  -260.050133  4430.101840   4690.151973\n",
       "2       atemp -3561.701371  1341.958065   4903.659436\n",
       "3         hum   339.557340   879.328541    539.771201\n",
       "4   windspeed  -402.912893   116.372499    519.285392"
      ]
     },
     "metadata": {},
     "output_type": "display_data"
    },
    {
     "name": "stdout",
     "output_type": "stream",
     "text": [
      "\n",
      "\n",
      "decrease sorted confidence intervals dataframe....\n"
     ]
    },
    {
     "data": {
      "text/html": [
       "<div>\n",
       "<style scoped>\n",
       "    .dataframe tbody tr th:only-of-type {\n",
       "        vertical-align: middle;\n",
       "    }\n",
       "\n",
       "    .dataframe tbody tr th {\n",
       "        vertical-align: top;\n",
       "    }\n",
       "\n",
       "    .dataframe thead th {\n",
       "        text-align: right;\n",
       "    }\n",
       "</style>\n",
       "<table border=\"1\" class=\"dataframe\">\n",
       "  <thead>\n",
       "    <tr style=\"text-align: right;\">\n",
       "      <th></th>\n",
       "      <th>index</th>\n",
       "      <th>0</th>\n",
       "      <th>1</th>\n",
       "      <th>interv_width</th>\n",
       "    </tr>\n",
       "  </thead>\n",
       "  <tbody>\n",
       "    <tr>\n",
       "      <th>2</th>\n",
       "      <td>atemp</td>\n",
       "      <td>-3561.701371</td>\n",
       "      <td>1341.958065</td>\n",
       "      <td>4903.659436</td>\n",
       "    </tr>\n",
       "    <tr>\n",
       "      <th>1</th>\n",
       "      <td>temp</td>\n",
       "      <td>-260.050133</td>\n",
       "      <td>4430.101840</td>\n",
       "      <td>4690.151973</td>\n",
       "    </tr>\n",
       "    <tr>\n",
       "      <th>13</th>\n",
       "      <td>mnth_7</td>\n",
       "      <td>-283.988118</td>\n",
       "      <td>697.917557</td>\n",
       "      <td>981.905676</td>\n",
       "    </tr>\n",
       "    <tr>\n",
       "      <th>14</th>\n",
       "      <td>mnth_8</td>\n",
       "      <td>-405.359285</td>\n",
       "      <td>528.175627</td>\n",
       "      <td>933.534912</td>\n",
       "    </tr>\n",
       "    <tr>\n",
       "      <th>12</th>\n",
       "      <td>mnth_6</td>\n",
       "      <td>-206.079166</td>\n",
       "      <td>663.132832</td>\n",
       "      <td>869.211998</td>\n",
       "    </tr>\n",
       "  </tbody>\n",
       "</table>\n",
       "</div>"
      ],
      "text/plain": [
       "     index            0            1  interv_width\n",
       "2    atemp -3561.701371  1341.958065   4903.659436\n",
       "1     temp  -260.050133  4430.101840   4690.151973\n",
       "13  mnth_7  -283.988118   697.917557    981.905676\n",
       "14  mnth_8  -405.359285   528.175627    933.534912\n",
       "12  mnth_6  -206.079166   663.132832    869.211998"
      ]
     },
     "metadata": {},
     "output_type": "display_data"
    },
    {
     "data": {
      "text/html": [
       "<div>\n",
       "<style scoped>\n",
       "    .dataframe tbody tr th:only-of-type {\n",
       "        vertical-align: middle;\n",
       "    }\n",
       "\n",
       "    .dataframe tbody tr th {\n",
       "        vertical-align: top;\n",
       "    }\n",
       "\n",
       "    .dataframe thead th {\n",
       "        text-align: right;\n",
       "    }\n",
       "</style>\n",
       "<table border=\"1\" class=\"dataframe\">\n",
       "  <thead>\n",
       "    <tr style=\"text-align: right;\">\n",
       "      <th></th>\n",
       "      <th>feature</th>\n",
       "      <th>weight</th>\n",
       "    </tr>\n",
       "  </thead>\n",
       "  <tbody>\n",
       "    <tr>\n",
       "      <th>0</th>\n",
       "      <td>atemp</td>\n",
       "      <td>-3561.701371</td>\n",
       "    </tr>\n",
       "    <tr>\n",
       "      <th>1</th>\n",
       "      <td>atemp</td>\n",
       "      <td>1341.958065</td>\n",
       "    </tr>\n",
       "    <tr>\n",
       "      <th>2</th>\n",
       "      <td>temp</td>\n",
       "      <td>-260.050133</td>\n",
       "    </tr>\n",
       "    <tr>\n",
       "      <th>3</th>\n",
       "      <td>temp</td>\n",
       "      <td>4430.101840</td>\n",
       "    </tr>\n",
       "    <tr>\n",
       "      <th>4</th>\n",
       "      <td>mnth_7</td>\n",
       "      <td>-283.988118</td>\n",
       "    </tr>\n",
       "  </tbody>\n",
       "</table>\n",
       "</div>"
      ],
      "text/plain": [
       "  feature       weight\n",
       "0   atemp -3561.701371\n",
       "1   atemp  1341.958065\n",
       "2    temp  -260.050133\n",
       "3    temp  4430.101840\n",
       "4  mnth_7  -283.988118"
      ]
     },
     "metadata": {},
     "output_type": "display_data"
    },
    {
     "data": {
      "text/plain": [
       "<matplotlib.axes._subplots.AxesSubplot at 0x7f786904e4e0>"
      ]
     },
     "execution_count": 22,
     "metadata": {},
     "output_type": "execute_result"
    },
    {
     "data": {
      "image/png": "[encoded data removed]",
      "text/plain": [
       "<Figure size 1080x648 with 1 Axes>"
      ]
     },
     "metadata": {},
     "output_type": "display_data"
    }
   ],
   "source": [
    "confid_interv['interv_width'] = abs(confid_interv[0]-confid_interv[1])\n",
    "display(confid_interv.head())\n",
    "\n",
    "# reverse sort the confidence intervals based on the order of their widths\n",
    "confid_interv.sort_values(by='interv_width', ascending=False, inplace=True)\n",
    "print(\"\\n\\ndecrease sorted confidence intervals dataframe....\")\n",
    "display(confid_interv.head())\n",
    "\n",
    "modified_confid_interv = create_dataframe_from_confidence_intervals(confid_interv)\n",
    "display(modified_confid_interv.head())\n",
    "\n",
    "plt.style.use('ggplot')\n",
    "\n",
    "plt.figure(figsize=(15, 9))\n",
    "sns.pointplot(x=\"weight\", y=\"feature\", data=modified_confid_interv, join=False)"
   ]
  },
  {
   "cell_type": "code",
   "execution_count": null,
   "metadata": {},
   "outputs": [],
   "source": []
  },
  {
   "cell_type": "markdown",
   "metadata": {},
   "source": [
    "# 2012 dataset"
   ]
  },
  {
   "cell_type": "markdown",
   "metadata": {},
   "source": [
    "* check whether the following fields are normalized.\n",
    "    - `temp`\n",
    "    - `atemp`\n",
    "    - `windspeed`\n",
    "    - `hum`"
   ]
  },
  {
   "cell_type": "code",
   "execution_count": 4,
   "metadata": {},
   "outputs": [
    {
     "name": "stdout",
     "output_type": "stream",
     "text": [
      "for feature temp, min = 0.0591304, max = 0.861667.\n",
      "for feature atemp, min = 0.0790696, max = 0.8408959999999999.\n",
      "for feature windspeed, min = 0.0223917, max = 0.507463.\n",
      "for feature hum, min = 0.0, max = 0.9725.\n"
     ]
    }
   ],
   "source": [
    "feature_list = ['temp', 'atemp', 'windspeed', 'hum']\n",
    "for feature in feature_list:\n",
    "    print(\"for feature {}, min = {}, max = {}.\".format(feature, min(data_2012[feature]), max(data_2012[feature])))"
   ]
  },
  {
   "cell_type": "markdown",
   "metadata": {},
   "source": [
    "hence they <font color=\"red\">aren't truly normalized</font>.\n",
    "* though the values are between 0 and 1, the **min** and **max** should have been **exactly 0 and 1**.\n",
    "* thus we need to normalize(min-max normalization) all features."
   ]
  },
  {
   "cell_type": "code",
   "execution_count": 5,
   "metadata": {},
   "outputs": [
    {
     "data": {
      "text/plain": [
       "True    731\n",
       "dtype: int64"
      ]
     },
     "execution_count": 5,
     "metadata": {},
     "output_type": "execute_result"
    }
   ],
   "source": [
    "x = data_2012['casual']+data_2012['registered'] ==  data_2012['cnt']\n",
    "x.value_counts()"
   ]
  },
  {
   "cell_type": "markdown",
   "metadata": {},
   "source": [
    "Thus, casual+registered = total counts of bike rented for the day.\\\n",
    "Hence, we now have **2 problem statements(per year), instead of 1**.\n",
    "1. <font color=\"Red\">predict, based on these environmental conditions, how many **casual renters** rented a bike on a day?</font>\n",
    "2. <font color=\"Red\">predict, based on these environmental conditions, how many **registered renters** rented a bike on a day?</font>"
   ]
  },
  {
   "cell_type": "markdown",
   "metadata": {},
   "source": [
    "<font size=\"4\">Checking the monthly counts of the dataset</font>"
   ]
  },
  {
   "cell_type": "code",
   "execution_count": 10,
   "metadata": {},
   "outputs": [
    {
     "name": "stdout",
     "output_type": "stream",
     "text": [
      "months for 2012 = [ 1  2  3  4  5  6  7  8  9 10 11 12]\n"
     ]
    }
   ],
   "source": [
    "print(\"months for 2012 = {}\".format(np.unique(data_2012['mnth'])))"
   ]
  },
  {
   "cell_type": "markdown",
   "metadata": {},
   "source": [
    "Hence we can now comfortably compare them."
   ]
  },
  {
   "cell_type": "code",
   "execution_count": 12,
   "metadata": {
    "scrolled": true
   },
   "outputs": [
    {
     "name": "stdout",
     "output_type": "stream",
     "text": [
      "monthly number of entries for 2012:\n",
      "{'January': 31, 'February': 29, 'March': 31, 'April': 30, 'May': 31, 'June': 30, 'July': 31, 'August': 31, 'September': 30, 'October': 31, 'November': 30, 'December': 31}\n"
     ]
    }
   ],
   "source": [
    "print(\"monthly number of entries for 2012:\\n{}\".format(\n",
    "    dict(zip(calendar.month_name[1:], data_2012['mnth'].value_counts().sort_index().values))\n",
    "))"
   ]
  },
  {
   "cell_type": "markdown",
   "metadata": {},
   "source": [
    "## Handling Categorical features"
   ]
  },
  {
   "cell_type": "code",
   "execution_count": 8,
   "metadata": {},
   "outputs": [
    {
     "name": "stdout",
     "output_type": "stream",
     "text": [
      "categories for season: [1 2 3 4]\n",
      "categories for year: [0 1]\n",
      "categories for month: [ 1  2  3  4  5  6  7  8  9 10 11 12]\n",
      "categories for holiday: [0 1]\n",
      "categories for weekday: [6 0 1 2 3 4 5]\n",
      "categories for workingday: [0 1]\n",
      "categories for weathersit: [2 1 3]\n"
     ]
    }
   ],
   "source": [
    "print(\"categories for season:\", data['season'].unique())\n",
    "print(\"categories for year:\", data['yr'].unique())\n",
    "print(\"categories for month:\", data['mnth'].unique())\n",
    "print(\"categories for holiday:\", data['holiday'].unique())\n",
    "print(\"categories for weekday:\", data['weekday'].unique())\n",
    "print(\"categories for workingday:\", data['workingday'].unique())\n",
    "print(\"categories for weathersit:\", data['weathersit'].unique())"
   ]
  },
  {
   "cell_type": "markdown",
   "metadata": {},
   "source": [
    "Weather situtation(`weathersit`) **could be thought** of as an <u>ordinal variable</u>, since the encoding is based on the severity of weather."
   ]
  },
  {
   "cell_type": "code",
   "execution_count": null,
   "metadata": {},
   "outputs": [],
   "source": [
    "categorical_features = [\n",
    "    'season',\n",
    "    'mnth',\n",
    "    'holiday',\n",
    "    'weekday',\n",
    "    'workingday'\n",
    "]\n",
    "\n",
    "# notice categorical_features excludes weathersit.\n",
    "\n",
    "for feature in categorical_features:\n",
    "    treatment_mat = pd.get_dummies(data[feature], drop_first=True)\n",
    "    current_categories = treatment_mat.columns\n",
    "    treatment_mat.columns = ['{}_{}'.format(feature, i) for i in current_categories]\n",
    "    data.drop([feature], axis=1, inplace=True)\n",
    "    data = pd.concat([data, treatment_mat], axis=1)\n",
    "\n",
    "print(\"after one-hot encoding all categorical features...\")\n",
    "display(data.head())\n",
    "\n",
    "# label encode the weathersit feature\n",
    "\n",
    "from sklearn.preprocessing import LabelEncoder\n",
    "le = LabelEncoder()\n",
    "data['weathersit'] = le.fit_transform(data['weathersit'])\n",
    "\n",
    "print(\"after label encoding the weathersit feature....\")\n",
    "display(data.head())"
   ]
  },
  {
   "cell_type": "markdown",
   "metadata": {},
   "source": [
    "## normalize the numerical variables"
   ]
  },
  {
   "cell_type": "code",
   "execution_count": null,
   "metadata": {},
   "outputs": [],
   "source": [
    "from sklearn.preprocessing import MinMaxScaler\n",
    "mm = MinMaxScaler()\n",
    "\n",
    "numerical_features = [i for i in data.columns if i not in ['cnt', 'registered', 'casual']]\n",
    "numerical_data = pd.DataFrame(mm.fit_transform(data.loc[:, numerical_features]), columns=numerical_features)\n",
    "\n",
    "display(numerical_data.head())"
   ]
  },
  {
   "cell_type": "markdown",
   "metadata": {},
   "source": [
    "as all features are now included, the `numerical_data` is actually the normalized important dataset."
   ]
  },
  {
   "cell_type": "code",
   "execution_count": null,
   "metadata": {},
   "outputs": [],
   "source": [
    "normalized_data = numerical_data.copy()"
   ]
  },
  {
   "cell_type": "markdown",
   "metadata": {},
   "source": [
    "## New feature interpretation\n",
    "\n",
    "1. season_2, season_3, season_4 denote spring, summer and fall respectively.\n",
    "    1. when all the 3 are 0, it means winter.\n",
    "2. yr_1 means 2012, if 0 then thats 2011.\n",
    "3. mnth_2 to mnth_12 means Feb-December, when all of these are 0s, it means January.\n",
    "4. weekday_1 to weekday_6 means Monday to Saturday, all 0s means Sunday.\n",
    "5. `weathersit_2` means\n",
    "    - 2: Mist + Cloudy, Mist + Broken clouds, Mist + Few clouds, Mist\n",
    "6. `weathersit_3` : Light Snow, Light Rain + Thunderstorm + Scattered clouds, Light Rain + Scattered clouds\n",
    "    - when both are 0, it means Clear, Few clouds, Partly cloudy, Partly cloudy"
   ]
  },
  {
   "cell_type": "markdown",
   "metadata": {},
   "source": [
    "## Correlation plots\n",
    "1. since we have 2 problems, i.e. predict `casual` and `registered`, we would have 2 columns in the heatmap."
   ]
  },
  {
   "cell_type": "code",
   "execution_count": null,
   "metadata": {},
   "outputs": [],
   "source": [
    "complete_data = pd.concat([new_X, y], axis=1)\n",
    "corr = complete_data.corr()\n",
    "\n",
    "plt.figure(figsize=(6, 20))\n",
    "sns.heatmap(corr.loc[:, ['casual']], annot=True)\n",
    "plt.tight_layout()"
   ]
  },
  {
   "cell_type": "markdown",
   "metadata": {},
   "source": [
    "### Divide the dataset into training and test sets\n",
    "\n",
    "## we will be first dealing with casual renters"
   ]
  },
  {
   "cell_type": "code",
   "execution_count": null,
   "metadata": {},
   "outputs": [],
   "source": [
    "X, y = normalized_data, data['casual']\n",
    "\n",
    "from sklearn.model_selection import train_test_split\n",
    "x_train, x_test, y_train, y_test = train_test_split(X, y, test_size=0.3, random_state=2021)\n",
    "\n",
    "print(\"the shape of x-train is {}, y-train is {}, x-test is {}, y-test is {}.\".format(x_train.shape, y_train.shape, x_test.shape, y_test.shape))"
   ]
  },
  {
   "cell_type": "markdown",
   "metadata": {},
   "source": [
    "* Since scikit-learn doesn't provide with the results of the estimates , i.e. mean value and std. error in the estimation of weights, we resort to `statsmodels`.\n",
    "\n",
    "* OLS, i.e. ordinary least squares regression is used, from the [`statsmodels`](https://www.statsmodels.org/stable/generated/statsmodels.regression.linear_model.OLS.html?highlight=ols#statsmodels.regression.linear_model.OLS) module. "
   ]
  },
  {
   "cell_type": "code",
   "execution_count": null,
   "metadata": {
    "scrolled": true
   },
   "outputs": [],
   "source": [
    "import statsmodels.api as smapi\n",
    "\n",
    "model = smapi.OLS(y_train, x_train)\n",
    "results = model.fit()\n",
    "print(results.summary())"
   ]
  },
  {
   "cell_type": "code",
   "execution_count": null,
   "metadata": {
    "scrolled": false
   },
   "outputs": [],
   "source": [
    "# confidence intervals\n",
    "confid_interv = results.conf_int().reset_index()\n",
    "display(confid_interv.head())"
   ]
  },
  {
   "cell_type": "markdown",
   "metadata": {},
   "source": [
    "it would be better, from the perspective of visualising weight plots, to sort all features in the decreasing order of the width of their confidence intervals."
   ]
  },
  {
   "cell_type": "code",
   "execution_count": null,
   "metadata": {
    "scrolled": true
   },
   "outputs": [],
   "source": [
    "confid_interv['interv_width'] = abs(confid_interv[0]-confid_interv[1])\n",
    "display(confid_interv.head())\n",
    "\n",
    "# reverse sort the confidence intervals based on the order of their widths\n",
    "confid_interv.sort_values(by='interv_width', ascending=False, inplace=True)\n",
    "print(\"\\n\\ndecrease sorted confidence intervals dataframe....\")\n",
    "display(confid_interv.head())\n",
    "\n",
    "modified_confid_interv = create_dataframe_from_confidence_intervals(confid_interv)\n",
    "display(modified_confid_interv.head())\n",
    "\n",
    "plt.style.use('ggplot')\n",
    "\n",
    "plt.figure(figsize=(15, 9))\n",
    "sns.pointplot(x=\"weight\", y=\"feature\", data=modified_confid_interv, join=False)"
   ]
  },
  {
   "cell_type": "markdown",
   "metadata": {},
   "source": [
    "## Interpretation of the observed interval data\n",
    "\n",
    "1. `yr_1` is the one with the least width of confidence interval, i.e. its weight is the easiest to determine.\n",
    "    - notice that this has a high positive weight of 329.536(from results.summary()) hence if the year was 2011, a positive effect was observed on the number of casual renters, i.e. they increased.\n",
    "    - this basically means that their sales on casual renters increased in 2011, as opposed to 2010.\n",
    "    - this could be attributed to the fact that Capital Bikeshare could have become famous in 2011.\n",
    "\n",
    "\n",
    "2. the `workingday_1`, i.e. whether the day was a working day or not had the least confidence interval, i.e. lest difficult to estimate its importance/weight.\n",
    "    - its further observed that this feature has a negative weight, i.e. if its a work day, number of casual renters decreases.\n",
    "    - this is quite logical, since such casual renters could be thought of as office goers(who have considerably high chances of being *registered* users) who rent out to occasionally go out for a bike ride, on non-working days.\n",
    "\n",
    "\n",
    "3. `weekdays` are from 0-6, i.e. day of the week, from Monday to Sunday.\n",
    "    - among these, weekday_5 and weekday_6, i.e. Saturday and Sunday have been given a positive large weights, with wider confidence intervals.\n",
    "    - this can be supported by the generic logic that the propensity of people to bike during the weekends is greater since they don't have any job to go to.\n",
    "\n",
    "\n",
    "4. `weathersit` has been given a **<font color=\"Red\">negative weight</font>**, and has a wider confidence intervals than the features previously talked about.\n",
    "    \n",
    "    - it may be that many entries have a higher weathersit value, meaning bad/severe weather, and a corresponding lower `casual` value.\n",
    "    - this could be explored by <font color=\"green\">treating this as a nominal variable</font><font color=\"red\"> rather than an ordinal one</font>.\n",
    "\n",
    "\n",
    "5. `months`\n",
    "    - are from 1 - 12, i.e. january to december.\n",
    "    - as we go from february(`mnth_2`) to march(`mnth_3`), the weight and the width of the confidence interval changes, signifying that people love to rent out bikes and go when the season of spring arrives, i.e. pleasant weather.\n",
    "    - again, `mnth_4` to `mnth_5`(april to may), the weight estimates decreases but the confidence interval width increases. this may signifiy that increasing heat of the environment is also a negative sign in terms of casual renters.\n",
    "    - `mnth_10`, i.e. October, i.e. October-heat is where the weather gets pleasant again, is what may be the reason behind a large positive weight.\n",
    "        - additionally, right from `mnth_7` to `mnth_10`, the weights increase but the confidence interval-width decreases.\n",
    "        - this may mean bettering of weather is increasing renting propensity, and from the P.O.V. of the model, it becomes more clear to estimate the importance of a particular month.\n",
    "        \n",
    "    - checking <font color=\"red\">number of workdays per month</font> and <font color=\"red\">number of holidays per month</font> could help in assessing why a particular month may have a greater number of casual renters.\n",
    "    \n",
    "    - checking <font color=\"red\">temperature and month correlation</font> may help this as well.\n",
    "\n",
    "6. `holiday_1`\n",
    "    - this surprisingly has a quite small weight estimate, and the corresponding confidence interval even spans negative weight values.\n",
    "    \n",
    "\n",
    "\n",
    "7. `temp` and `atemp` have the largest confidence intervals.\n",
    "    - `temp` has the largest weight, meaning the model thinks that temperature of the day was the most important factor in determining the number of casusal renters.\n",
    "    - its quite weird that the model put a high **positive** weight on the temperature feature, whereas in reality it should have a negative impact.\n",
    "    - this is unless lower temperatures mean **lower temperatures** , i.e. below 18$^{\\circ}$C $\\approx $\n",
    "    - this could be checked by **<font color=\"Red\">plotting histogram distributions and correlation plots for `temp vs casual` and `atemp vs casual`</font>**.\n"
   ]
  },
  {
   "cell_type": "markdown",
   "metadata": {},
   "source": [
    "## Correlation plot of `casual` vs other features"
   ]
  },
  {
   "cell_type": "code",
   "execution_count": null,
   "metadata": {
    "scrolled": true
   },
   "outputs": [],
   "source": [
    "complete_train_data = pd.concat([x_train, y_train], axis=1)\n",
    "casual_corr = complete_train_data.corr().loc[:, ['casual']].copy()\n",
    "casual_corr.sort_values(by='casual', inplace=True)\n",
    "\n",
    "plt.figure(figsize=(6, 20))\n",
    "sns.heatmap(casual_corr, annot=True)\n",
    "plt.tight_layout()"
   ]
  },
  {
   "cell_type": "code",
   "execution_count": null,
   "metadata": {},
   "outputs": [],
   "source": [
    "interested_features = ['mnth_{}'.format(i) for i in range(2, 13)]\n",
    "interested_features += ['holiday_1', 'temp', 'atemp']\n",
    "interested_features_corr = complete_train_data.loc[:, interested_features].corr().copy()\n",
    "\n",
    "\n",
    "plt.figure(figsize=(15, 8))\n",
    "sns.heatmap(interested_features_corr, annot=True)\n",
    "plt.tight_layout()"
   ]
  },
  {
   "cell_type": "markdown",
   "metadata": {},
   "source": [
    "- as we can see, `mnth_2` is the least correlated with `temp` and `atemp`\n",
    "    - it was also in negative correlation(-0.27) with `casual`.\n",
    "    - this could mean that February is quite cold, thus people don't want to cycle out.\n",
    "    - this can be confirmed by plotting the distribution of `temp` and `atemp` for `mnth_2=1`."
   ]
  },
  {
   "cell_type": "code",
   "execution_count": null,
   "metadata": {
    "scrolled": true
   },
   "outputs": [],
   "source": [
    "# plot atemp and temp for mnth_2=1, against the overall temperature distribution.\n",
    "\n",
    "fig, ax = plt.subplots(1, 2, figsize=(20, 6))\n",
    "sns.distplot(\n",
    "    complete_train_data[complete_train_data['mnth_2'] == 1]['atemp'], \n",
    "    kde=True, \n",
    "    hist=False, \n",
    "    label=\"atemp-feb\",\n",
    "    ax=ax[0]\n",
    ")\n",
    "sns.distplot(\n",
    "    complete_train_data['atemp'], \n",
    "    kde=True, \n",
    "    hist=False, \n",
    "    label=\"atemp\",\n",
    "    ax=ax[0]\n",
    ")\n",
    "\n",
    "sns.distplot(\n",
    "    complete_train_data[complete_train_data['mnth_2'] == 1]['temp'], \n",
    "    kde=True, \n",
    "    hist=False, \n",
    "    label=\"temp-feb\",\n",
    "    ax=ax[1]\n",
    ")\n",
    "sns.distplot(\n",
    "    complete_train_data['temp'], \n",
    "    kde=True, \n",
    "    hist=False, \n",
    "    label=\"temp\",\n",
    "    ax=ax[1]\n",
    ")\n",
    "\n",
    "\n",
    "# number of holidays \n",
    "print(\"For the month of February(both years 2011 and 2012, % of holidays are value counts for holiday_1 are \\n{}\".format(\n",
    "    complete_train_data[complete_train_data['mnth_2']==1]['holiday_1'].value_counts())\n",
    "     )\n",
    "print(\"For the complete training data, value counts for holiday_1 are \\n{}\".format(\n",
    "    complete_train_data['holiday_1'].value_counts())\n",
    "     )\n",
    "\n",
    "display(complete_train_data[complete_train_data['mnth_2'] == 1]['yr_1'].value_counts())\n",
    "\n",
    "# # number of workdays\n",
    "\n",
    "\n",
    "# plt.tight_layout()"
   ]
  },
  {
   "cell_type": "markdown",
   "metadata": {},
   "source": [
    "- hence we clearly see that february has quite low temperatures, when compared to the generic temperature distribution."
   ]
  },
  {
   "cell_type": "markdown",
   "metadata": {},
   "source": [
    "### Histogram plots for `atemp` and `temp`"
   ]
  },
  {
   "cell_type": "code",
   "execution_count": null,
   "metadata": {},
   "outputs": [],
   "source": [
    "# sns.distplot(x_train['temp'], hist=False, bins=20)\n",
    "v = pd.DataFrame(data=mm.inverse_transform(x_train), columns=x_train.columns)\n",
    "sns.distplot(v['temp'], hist=False, kde=True, label=\"temp\")\n",
    "sns.distplot(v['atemp'], hist=False, kde=True, label=\"atemp\")\n",
    "plt.legend()"
   ]
  },
  {
   "cell_type": "markdown",
   "metadata": {},
   "source": [
    "- the plots should have displayed the actual temperature in $^{\\circ}$C, but since it was *normalized* by the UCI repository managers, even after inverse transforming the values are between 0 and 1.\n",
    "\n",
    "- [Kaggle](https://www.kaggle.com/c/bike-sharing-demand/data) has a similar dataset for bike sharing, obtained from the exact same source, the UCI repository, i.e. Capital Bikeshare's data.\n",
    "    - the only difference is that kaggle has the pre-normalized distribution of the dataset, hence it would be better to use kaggle."
   ]
  },
  {
   "cell_type": "markdown",
   "metadata": {},
   "source": [
    "## Treating `weathersit` as a nominal variable."
   ]
  },
  {
   "cell_type": "code",
   "execution_count": null,
   "metadata": {
    "scrolled": true
   },
   "outputs": [],
   "source": [
    "new_X = X.copy()\n",
    "new_X['weathersit'] = le.inverse_transform(data['weathersit'])\n",
    "display(new_X.head())\n",
    "\n",
    "ws_nominal_coded = pd.get_dummies(new_X['weathersit'], drop_first=True)\n",
    "current_categories = ws_nominal_coded.columns\n",
    "ws_nominal_coded.columns = ['{}_{}'.format('weathersit', i) for i in current_categories]\n",
    "new_X.drop(['weathersit'], axis=1, inplace=True)\n",
    "new_X = pd.concat([new_X, ws_nominal_coded], axis=1)\n",
    "\n",
    "print(\"After nominal encoding of weather situation...\")\n",
    "display(new_X.head())"
   ]
  },
  {
   "cell_type": "code",
   "execution_count": null,
   "metadata": {
    "scrolled": false
   },
   "outputs": [],
   "source": [
    "x_train, x_test, y_train, y_test = train_test_split(new_X, y, test_size=0.3, random_state=2021)\n",
    "print(\"the shape of x-train is {}, y-train is {}, x-test is {}, y-test is {}.\".format(x_train.shape, y_train.shape, x_test.shape, y_test.shape))\n",
    "\n",
    "model = smapi.OLS(y_train, x_train)\n",
    "results = model.fit()\n",
    "print(results.summary())\n",
    "\n",
    "# confidence intervals\n",
    "new_confid_interv = results.conf_int().reset_index()\n",
    "display(new_confid_interv.head())\n",
    "\n",
    "new_confid_interv['interv_width'] = abs(new_confid_interv[0]-new_confid_interv[1])\n",
    "display(new_confid_interv.head())\n",
    "\n",
    "# reverse sort the confidence intervals based on the order of their widths\n",
    "new_confid_interv.sort_values(by='interv_width', ascending=False, inplace=True)\n",
    "print(\"\\n\\ndecrease sorted confidence intervals dataframe....\")\n",
    "display(new_confid_interv.head())\n",
    "\n",
    "new_modified_confid_interv = create_dataframe_from_confidence_intervals(new_confid_interv)\n",
    "display(new_modified_confid_interv.head())\n",
    "\n",
    "plt.style.use('ggplot')\n",
    "\n",
    "plt.figure(figsize=(15, 9))\n",
    "\n",
    "sns.pointplot(x=\"weight\", y=\"feature\", data=new_modified_confid_interv, join=False)\n"
   ]
  },
  {
   "cell_type": "markdown",
   "metadata": {},
   "source": [
    "## Effect plot"
   ]
  },
  {
   "cell_type": "markdown",
   "metadata": {},
   "source": [
    "Construct the effect matrix from the weight vector and feature matrix."
   ]
  },
  {
   "cell_type": "code",
   "execution_count": null,
   "metadata": {},
   "outputs": [],
   "source": [
    "weights = results.params\n",
    "features = x_train.columns\n",
    "\n",
    "effect_data = x_train.copy()\n",
    "\n",
    "for feature in features:\n",
    "    effect_data[feature] *= weights[feature]"
   ]
  },
  {
   "cell_type": "code",
   "execution_count": null,
   "metadata": {},
   "outputs": [],
   "source": [
    "display(effect_data.head(10))"
   ]
  },
  {
   "cell_type": "code",
   "execution_count": null,
   "metadata": {},
   "outputs": [],
   "source": [
    "temp_data = []\n",
    "for j in range(len(features)):\n",
    "    for i in range(effect_data.shape[0]):\n",
    "        temp_data.append([features[j], effect_data.iloc[i, j]])\n",
    "\n",
    "temp_df = pd.DataFrame(columns=['feature_name', 'effect'], data=temp_data)\n",
    "display(temp_df.head())\n",
    "\n",
    "plt.figure(figsize=(15, 10))\n",
    "sns.boxplot(x='effect', y='feature_name', data=temp_df)"
   ]
  },
  {
   "cell_type": "markdown",
   "metadata": {},
   "source": [
    "- too many outliers for too many features.\n",
    "    - it would be better to plot them separately."
   ]
  },
  {
   "cell_type": "code",
   "execution_count": null,
   "metadata": {},
   "outputs": [],
   "source": [
    "good_features = [\n",
    "    'temp',\n",
    "    'atemp',\n",
    "    'hum',\n",
    "    'windspeed',\n",
    "    'season_2',\n",
    "    'season_3',\n",
    "    'yr_1',\n",
    "    'workingday_1',\n",
    "    'weathersit_2'\n",
    "]\n",
    "\n",
    "bad_features = [i for i in effect_data.columns if i not in good_features]\n",
    "\n",
    "def get_tempdf_given_effect_data(effect_data):\n",
    "    features = effect_data.columns\n",
    "    temp_data = []\n",
    "    for j in range(len(features)):\n",
    "        for i in range(effect_data.shape[0]):\n",
    "            temp_data.append([features[j], effect_data.iloc[i, j]])\n",
    "            \n",
    "    temp_df = pd.DataFrame(columns=['feature_name', 'effect'], data=temp_data)\n",
    "    return temp_df\n",
    "\n",
    "bad_feature_effect_df = get_tempdf_given_effect_data(effect_data.loc[:, bad_features])\n",
    "good_feature_effect_df = get_tempdf_given_effect_data(effect_data.loc[:, good_features])\n",
    "\n",
    "fig, ax = plt.subplots(2, 1, figsize=(15, 18))\n",
    "sns.boxplot(x='effect', y='feature_name', data=bad_feature_effect_df, ax=ax[0])\n",
    "sns.boxplot(x='effect', y='feature_name', data=good_feature_effect_df, ax=ax[1])"
   ]
  },
  {
   "cell_type": "markdown",
   "metadata": {},
   "source": [
    "## Inference from effect plots"
   ]
  },
  {
   "cell_type": "markdown",
   "metadata": {},
   "source": [
    "## correlation with `casual`"
   ]
  },
  {
   "cell_type": "code",
   "execution_count": null,
   "metadata": {
    "scrolled": true
   },
   "outputs": [],
   "source": [
    "complete_data = pd.concat([new_X, y], axis=1)\n",
    "corr = complete_data.corr()\n",
    "\n",
    "plt.figure(figsize=(6, 20))\n",
    "sns.heatmap(corr.loc[:, ['casual']], annot=True)\n",
    "plt.tight_layout()"
   ]
  },
  {
   "cell_type": "markdown",
   "metadata": {},
   "source": [
    "## inference from correlation map."
   ]
  },
  {
   "cell_type": "code",
   "execution_count": null,
   "metadata": {},
   "outputs": [],
   "source": []
  }
 ],
 "metadata": {
  "kernelspec": {
   "display_name": "Python [conda env:tensorflow_cpu] *",
   "language": "python",
   "name": "conda-env-tensorflow_cpu-py"
  },
  "language_info": {
   "codemirror_mode": {
    "name": "ipython",
    "version": 3
   },
   "file_extension": ".py",
   "mimetype": "text/x-python",
   "name": "python",
   "nbconvert_exporter": "python",
   "pygments_lexer": "ipython3",
   "version": "3.6.10"
  }
 },
 "nbformat": 4,
 "nbformat_minor": 4
}
