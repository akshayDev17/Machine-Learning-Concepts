{
 "cells": [
  {
   "cell_type": "code",
   "execution_count": 1,
   "metadata": {},
   "outputs": [],
   "source": [
    "from sklearn.datasets import make_classification\n",
    "from sklearn.model_selection import train_test_split\n",
    "\n",
    "# generate two class dataset\n",
    "# for binary-classification dummy task\n",
    "X, y = make_classification(n_samples=1000, n_classes=2, n_features=20, random_state=27)\n",
    "\n",
    "# split into train-test sets\n",
    "X_train, X_test, y_train, y_test = train_test_split(X, y, test_size=0.3, random_state=27)"
   ]
  },
  {
   "cell_type": "code",
   "execution_count": 2,
   "metadata": {},
   "outputs": [],
   "source": [
    "# train models\n",
    "from sklearn.linear_model import LogisticRegression\n",
    "from sklearn.neighbors import KNeighborsClassifier\n",
    "\n",
    "# 2 models used to test which\n",
    "# will yield better results\n",
    "\n",
    "# logistic regression\n",
    "model1 = LogisticRegression()\n",
    "# knn\n",
    "model2 = KNeighborsClassifier(n_neighbors=4)\n",
    "\n",
    "# fit model\n",
    "model1.fit(X_train, y_train)\n",
    "model2.fit(X_train, y_train)\n",
    "\n",
    "# predict probabilities\n",
    "# for each class, what is the probability of\n",
    "# a sample being classfied into that class\n",
    "pred_prob1 = model1.predict_proba(X_test)\n",
    "pred_prob2 = model2.predict_proba(X_test)"
   ]
  },
  {
   "cell_type": "code",
   "execution_count": 3,
   "metadata": {},
   "outputs": [
    {
     "name": "stdout",
     "output_type": "stream",
     "text": [
      "{0, 1}\n"
     ]
    }
   ],
   "source": [
    "print(set(y_test))"
   ]
  },
  {
   "cell_type": "code",
   "execution_count": 4,
   "metadata": {},
   "outputs": [
    {
     "data": {
      "image/png": "[encoded data removed]",
      "text/plain": [
       "<Figure size 432x288 with 1 Axes>"
      ]
     },
     "metadata": {
      "needs_background": "light"
     },
     "output_type": "display_data"
    }
   ],
   "source": [
    "import matplotlib.pyplot as plt\n",
    "\n",
    "# predicted probability of model-1\n",
    "plt.plot(pred_prob1[:, 0], pred_prob1[:, 1], c='g', label='model-1')\n",
    "\n",
    "# predicted probability of model-2\n",
    "plt.plot(pred_prob2[:, 0], pred_prob2[:, 1], c='r', label='model-2')\n",
    "\n",
    "plt.legend()\n",
    "plt.show()"
   ]
  },
  {
   "cell_type": "code",
   "execution_count": 5,
   "metadata": {},
   "outputs": [
    {
     "name": "stdout",
     "output_type": "stream",
     "text": [
      "Threshold for LogReg is (26,)\n",
      "Threshold for kNN is (6,)     \n"
     ]
    }
   ],
   "source": [
    "from sklearn.metrics import roc_curve\n",
    "\n",
    "# roc curve for models\n",
    "# fpr1, tpr1, thresh1 = roc_curve(y_test, pred_prob1[:,1], pos_label=1)\n",
    "# fpr2, tpr2, thresh2 = roc_curve(y_test, pred_prob2[:,1], pos_label=1)\n",
    "\n",
    "# dont need to set pos_label if y_true is {-1,1} or {0,1}\n",
    "# here, y = {0, 1}\n",
    "fpr1, tpr1, thresh1 = roc_curve(y_test, pred_prob1[:,1])\n",
    "fpr2, tpr2, thresh2 = roc_curve(y_test, pred_prob2[:,1])\n",
    "\n",
    "# roc curve for tpr = fpr \n",
    "random_probs = [0 for i in range(len(y_test))]\n",
    "p_fpr, p_tpr, _ = roc_curve(y_test, random_probs, pos_label=1)\n",
    "\n",
    "print(\n",
    "    \"Threshold for LogReg is {}\\n\\\n",
    "Threshold for kNN is {} \\\n",
    "    \".format(\n",
    "        thresh1.shape,\n",
    "        thresh2.shape\n",
    "    )\n",
    ")"
   ]
  },
  {
   "cell_type": "markdown",
   "metadata": {},
   "source": [
    "sklearn.metric.roc_curve itself computes threshold for classification(probability threshold for lying in one class), and returns the list of *Decreasing thresholds* that it decided, w.r.t. the prediction probabilities and target-outputs given to it"
   ]
  },
  {
   "cell_type": "code",
   "execution_count": 6,
   "metadata": {},
   "outputs": [
    {
     "name": "stdout",
     "output_type": "stream",
     "text": [
      "AUC score for class-0:\n",
      " LogReg = 0.02376255380200861\n",
      " KNN = 0.07662302725968435\n",
      "\n",
      "AUC score for class-1:\n",
      " LogReg = 0.9762374461979914\n",
      " KNN = 0.9233769727403157\n"
     ]
    }
   ],
   "source": [
    "from sklearn.metrics import roc_auc_score\n",
    "\n",
    "# auc scores\n",
    "\n",
    "# auc scores for class-1\n",
    "auc_score1_1 = roc_auc_score(y_test, pred_prob1[:,1])\n",
    "auc_score2_1 = roc_auc_score(y_test, pred_prob2[:,1])\n",
    "\n",
    "# auc scores for class-0\n",
    "auc_score1_0 = roc_auc_score(y_test, pred_prob1[:,0])\n",
    "auc_score2_0 = roc_auc_score(y_test, pred_prob2[:,0])\n",
    "\n",
    "print(\n",
    "    \"AUC score for class-0:\\n LogReg = {}\\n KNN = {}\".format(\n",
    "        auc_score1_0,\n",
    "        auc_score2_0\n",
    "    )\n",
    ")\n",
    "print(\n",
    "    \"\\nAUC score for class-1:\\n LogReg = {}\\n KNN = {}\".format(\n",
    "        auc_score1_1,\n",
    "        auc_score2_1\n",
    "    )\n",
    ")"
   ]
  },
  {
   "cell_type": "code",
   "execution_count": 7,
   "metadata": {
    "scrolled": true
   },
   "outputs": [
    {
     "data": {
      "image/png": "[encoded data removed]",
      "text/plain": [
       "<Figure size 432x288 with 1 Axes>"
      ]
     },
     "metadata": {
      "needs_background": "light"
     },
     "output_type": "display_data"
    }
   ],
   "source": [
    "# plt.style.use('seaborn')\n",
    "\n",
    "# plot roc curves\n",
    "# plt.plot(fpr1, tpr1, linestyle='--',color='orange', label='Logistic Regression')\n",
    "# plt.plot(fpr2, tpr2, linestyle='--',color='green', label='KNN')\n",
    "# plt.plot(p_fpr, p_tpr, linestyle='--', color='blue')\n",
    "\n",
    "plt.plot(fpr1, tpr1, color='orange', label='Logistic Regression')\n",
    "plt.plot(fpr2, tpr2, color='green', label='KNN')\n",
    "plt.plot(p_fpr, p_tpr, color='blue')\n",
    "# title\n",
    "plt.title('ROC curve')\n",
    "# x label\n",
    "plt.xlabel('False Positive Rate')\n",
    "# y label\n",
    "plt.ylabel('True Positive rate')\n",
    "\n",
    "plt.legend(loc='best')\n",
    "plt.savefig('ROC', dpi=300)\n",
    "plt.show()"
   ]
  },
  {
   "cell_type": "markdown",
   "metadata": {},
   "source": [
    "since the roc_curve *method* from sklearn.metrics is limited to binary classfication only, for determining auc-roc for multi-class classification problems, a one-vs-all approach is followed"
   ]
  },
  {
   "cell_type": "code",
   "execution_count": 8,
   "metadata": {},
   "outputs": [
    {
     "name": "stdout",
     "output_type": "stream",
     "text": [
      "Possible labels are {0, 1, 2}\n",
      "All possible test labels are {0, 1, 2}\n"
     ]
    },
    {
     "data": {
      "image/png": "[encoded data removed]",
      "text/plain": [
       "<Figure size 432x432 with 1 Axes>"
      ]
     },
     "metadata": {
      "needs_background": "light"
     },
     "output_type": "display_data"
    }
   ],
   "source": [
    "# multi-class classification\n",
    "from sklearn.multiclass import OneVsRestClassifier\n",
    "from sklearn.linear_model import LogisticRegression\n",
    "from sklearn.model_selection import train_test_split\n",
    "from sklearn.metrics import roc_curve\n",
    "from sklearn.metrics import roc_auc_score\n",
    "\n",
    "# generate 3 class dataset(multi-class)\n",
    "X, y = make_classification(n_samples=1000, n_classes=3, n_features=20, n_informative=3, random_state=42)\n",
    "\n",
    "print(\"Possible labels are {}\".format(set(y)))\n",
    "\n",
    "# split into train/test sets\n",
    "X_train, X_test, y_train, y_test = train_test_split(X, y, test_size=0.4, random_state=42)\n",
    "\n",
    "# fit model\n",
    "# clf = OneVsRestClassifier(LogisticRegression())\n",
    "clf = LogisticRegression()\n",
    "clf.fit(X_train, y_train)\n",
    "pred = clf.predict(X_test)\n",
    "pred_prob = clf.predict_proba(X_test)\n",
    "\n",
    "print(\"All possible test labels are {}\".format(set(pred)))\n",
    "\n",
    "# roc curve for classes\n",
    "fpr = {}\n",
    "tpr = {}\n",
    "thresh = {}\n",
    "\n",
    "n_class = 3\n",
    "\n",
    "for i in range(n_class):    \n",
    "    fpr[i], tpr[i], thresh[i] = roc_curve(y_test, pred_prob[:,i], pos_label=i)\n",
    "    \n",
    "# plotting\n",
    "fig = plt.figure(figsize=(6, 6))\n",
    "plt.plot(fpr[0], tpr[0], linestyle='--',color='orange', label='Class 0 vs Rest')\n",
    "plt.plot(fpr[1], tpr[1], linestyle='--',color='green', label='Class 1 vs Rest')\n",
    "plt.plot(fpr[2], tpr[2], linestyle='--',color='blue', label='Class 2 vs Rest')\n",
    "plt.title('Multiclass ROC curve')\n",
    "plt.xlabel('False Positive Rate')\n",
    "plt.ylabel('True Positive rate')\n",
    "plt.legend(loc='best')\n",
    "fig.savefig('Multiclass ROC',dpi=300)"
   ]
  },
  {
   "cell_type": "code",
   "execution_count": 9,
   "metadata": {},
   "outputs": [
    {
     "name": "stdout",
     "output_type": "stream",
     "text": [
      "All possible test labels are {0, 1, 2}\n"
     ]
    },
    {
     "data": {
      "image/png": "[encoded data removed]",
      "text/plain": [
       "<Figure size 432x432 with 1 Axes>"
      ]
     },
     "metadata": {
      "needs_background": "light"
     },
     "output_type": "display_data"
    }
   ],
   "source": [
    "# fit model\n",
    "clf = OneVsRestClassifier(LogisticRegression())\n",
    "clf.fit(X_train, y_train)\n",
    "pred = clf.predict(X_test)\n",
    "pred_prob = clf.predict_proba(X_test)\n",
    "\n",
    "print(\"All possible test labels are {}\".format(set(pred)))\n",
    "\n",
    "# roc curve for classes\n",
    "fpr = {}\n",
    "tpr = {}\n",
    "thresh = {}\n",
    "\n",
    "n_class = 3\n",
    "\n",
    "for i in range(n_class):    \n",
    "    fpr[i], tpr[i], thresh[i] = roc_curve(y_test, pred_prob[:,i], pos_label=i)\n",
    "    \n",
    "# plotting\n",
    "fig = plt.figure(figsize=(6, 6))\n",
    "plt.plot(fpr[0], tpr[0], linestyle='--',color='orange', label='Class 0 vs Rest')\n",
    "plt.plot(fpr[1], tpr[1], linestyle='--',color='green', label='Class 1 vs Rest')\n",
    "plt.plot(fpr[2], tpr[2], linestyle='--',color='blue', label='Class 2 vs Rest')\n",
    "plt.title('Multiclass ROC curve')\n",
    "plt.xlabel('False Positive Rate')\n",
    "plt.ylabel('True Positive rate')\n",
    "plt.legend(loc='best')\n",
    "fig.savefig('Multiclass ROC one vs rest',dpi=300)"
   ]
  },
  {
   "cell_type": "code",
   "execution_count": 10,
   "metadata": {},
   "outputs": [
    {
     "name": "stdout",
     "output_type": "stream",
     "text": [
      "0.7107538471860392\n"
     ]
    }
   ],
   "source": [
    "from sklearn.preprocessing import LabelBinarizer\n",
    "\n",
    "lb = LabelBinarizer()\n",
    "lb.fit(y_test)\n",
    "y_test_binarized = lb.transform(y_test)\n",
    "y_pred_binarized = lb.transform(pred)\n",
    "\n",
    "auc_model1 = roc_auc_score(y_test_binarized, y_pred_binarized, average=\"macro\")\n",
    "\n",
    "print(auc_model1)"
   ]
  },
  {
   "cell_type": "code",
   "execution_count": 11,
   "metadata": {},
   "outputs": [],
   "source": [
    "import tensorflow as tf\n",
    "from tensorflow.keras.backend import clear_session"
   ]
  },
  {
   "cell_type": "code",
   "execution_count": 12,
   "metadata": {},
   "outputs": [
    {
     "name": "stdout",
     "output_type": "stream",
     "text": [
      "(600,) (400,)\n"
     ]
    }
   ],
   "source": [
    "print(y_train.shape, y_test.shape)"
   ]
  },
  {
   "cell_type": "code",
   "execution_count": 13,
   "metadata": {},
   "outputs": [
    {
     "name": "stdout",
     "output_type": "stream",
     "text": [
      "{0, 1, 2}\n"
     ]
    }
   ],
   "source": [
    "print(set(y))"
   ]
  },
  {
   "cell_type": "code",
   "execution_count": 14,
   "metadata": {
    "scrolled": true
   },
   "outputs": [
    {
     "name": "stdout",
     "output_type": "stream",
     "text": [
      "(None, 20)\n",
      "(None, 32)\n",
      "(None, 16)\n",
      "(None, 3)\n"
     ]
    }
   ],
   "source": [
    "clear_session()\n",
    "\n",
    "from tensorflow.keras import Sequential\n",
    "from tensorflow.keras.layers import Dense, InputLayer, Flatten\n",
    "from tensorflow.nn import relu, softmax\n",
    "\n",
    "model = Sequential()\n",
    "model.add(InputLayer(input_shape=X_train.shape[1:]))\n",
    "print(model.output_shape)\n",
    "\n",
    "# model.add(Flatten())\n",
    "# print(model.output_shape)\n",
    "\n",
    "model.add(Dense(32, activation=relu))\n",
    "print(model.output_shape)\n",
    "\n",
    "model.add(Dense(16, activation=relu))\n",
    "print(model.output_shape)\n",
    "\n",
    "model.add(Dense(3, activation=softmax))\n",
    "print(model.output_shape)"
   ]
  },
  {
   "cell_type": "code",
   "execution_count": 15,
   "metadata": {},
   "outputs": [],
   "source": [
    "model.compile(optimizer=\"adam\", loss=\"sparse_categorical_crossentropy\", metrics=[\"accuracy\"])"
   ]
  },
  {
   "cell_type": "code",
   "execution_count": 16,
   "metadata": {},
   "outputs": [
    {
     "name": "stdout",
     "output_type": "stream",
     "text": [
      "Epoch 1/5\n",
      "34/34 [==============================] - 1s 17ms/step - loss: 1.1119 - accuracy: 0.4093 - val_loss: 1.0084 - val_accuracy: 0.4667\n",
      "Epoch 2/5\n",
      "34/34 [==============================] - 0s 5ms/step - loss: 0.9715 - accuracy: 0.5463 - val_loss: 0.9200 - val_accuracy: 0.4833\n",
      "Epoch 3/5\n",
      "34/34 [==============================] - 0s 8ms/step - loss: 0.8769 - accuracy: 0.6278 - val_loss: 0.8656 - val_accuracy: 0.5333\n",
      "Epoch 4/5\n",
      "34/34 [==============================] - 0s 7ms/step - loss: 0.8012 - accuracy: 0.6704 - val_loss: 0.8355 - val_accuracy: 0.6333\n",
      "Epoch 5/5\n",
      "34/34 [==============================] - 0s 12ms/step - loss: 0.7392 - accuracy: 0.7204 - val_loss: 0.8191 - val_accuracy: 0.6000\n"
     ]
    }
   ],
   "source": [
    "history = model.fit(X_train, y_train, batch_size=16, validation_split=0.1, epochs=5)"
   ]
  },
  {
   "cell_type": "code",
   "execution_count": 17,
   "metadata": {},
   "outputs": [
    {
     "name": "stdout",
     "output_type": "stream",
     "text": [
      "Model: \"sequential\"\n",
      "_________________________________________________________________\n",
      "Layer (type)                 Output Shape              Param #   \n",
      "=================================================================\n",
      "dense (Dense)                (None, 32)                672       \n",
      "_________________________________________________________________\n",
      "dense_1 (Dense)              (None, 16)                528       \n",
      "_________________________________________________________________\n",
      "dense_2 (Dense)              (None, 3)                 51        \n",
      "=================================================================\n",
      "Total params: 1,251\n",
      "Trainable params: 1,251\n",
      "Non-trainable params: 0\n",
      "_________________________________________________________________\n"
     ]
    }
   ],
   "source": [
    "model.summary()"
   ]
  },
  {
   "cell_type": "code",
   "execution_count": 18,
   "metadata": {},
   "outputs": [
    {
     "name": "stdout",
     "output_type": "stream",
     "text": [
      "{'loss': [1.1119272708892822, 0.9715415835380554, 0.8769105672836304, 0.8011835217475891, 0.7392055988311768], 'accuracy': [0.40925925970077515, 0.5462962985038757, 0.6277777552604675, 0.6703703999519348, 0.720370352268219], 'val_loss': [1.0084446668624878, 0.9200270771980286, 0.865622878074646, 0.8354946374893188, 0.8190600275993347], 'val_accuracy': [0.46666666865348816, 0.4833333194255829, 0.5333333611488342, 0.6333333253860474, 0.6000000238418579]}\n"
     ]
    }
   ],
   "source": [
    "print(history.history)"
   ]
  },
  {
   "cell_type": "code",
   "execution_count": 19,
   "metadata": {},
   "outputs": [],
   "source": [
    "c = model.predict(X_test)"
   ]
  },
  {
   "cell_type": "code",
   "execution_count": 20,
   "metadata": {},
   "outputs": [
    {
     "name": "stdout",
     "output_type": "stream",
     "text": [
      "(400, 3)\n"
     ]
    }
   ],
   "source": [
    "print(c.shape)"
   ]
  },
  {
   "cell_type": "code",
   "execution_count": 21,
   "metadata": {},
   "outputs": [
    {
     "name": "stdout",
     "output_type": "stream",
     "text": [
      "[0.26138732 0.35928658 0.37932622]\n"
     ]
    }
   ],
   "source": [
    "import numpy as np\n",
    "\n",
    "l = list(c)\n",
    "print(l[0])"
   ]
  },
  {
   "cell_type": "code",
   "execution_count": 22,
   "metadata": {},
   "outputs": [
    {
     "name": "stdout",
     "output_type": "stream",
     "text": [
      "[2, 0, 0, 0, 2, 0, 2, 2, 2, 1, 0, 2, 2, 2, 2, 2, 2, 0, 2, 2, 0, 1, 2, 2, 0, 1, 1, 1, 0, 2, 2, 2, 2, 0, 1, 2, 2, 0, 2, 0, 2, 0, 0, 0, 0, 0, 1, 2, 1, 2, 1, 0, 2, 0, 1, 0, 0, 0, 0, 1, 0, 2, 1, 2, 0, 2, 2, 0, 2, 1, 0, 2, 2, 0, 1, 1, 2, 2, 1, 1, 2, 2, 0, 1, 1, 1, 0, 0, 2, 0, 2, 2, 2, 0, 2, 0, 0, 0, 2, 0, 2, 0, 0, 0, 2, 2, 2, 2, 2, 2, 2, 1, 2, 0, 1, 2, 0, 2, 1, 0, 2, 1, 0, 0, 1, 2, 1, 2, 1, 2, 0, 2, 2, 2, 1, 1, 0, 2, 1, 1, 2, 1, 2, 2, 0, 2, 2, 2, 0, 1, 2, 1, 2, 0, 0, 1, 0, 1, 0, 2, 2, 0, 2, 2, 2, 1, 0, 0, 0, 2, 1, 0, 0, 0, 2, 2, 1, 2, 1, 0, 2, 1, 2, 2, 0, 1, 2, 2, 0, 0, 0, 2, 0, 2, 2, 0, 2, 1, 2, 0, 0, 0, 2, 2, 2, 2, 1, 2, 0, 2, 0, 0, 2, 2, 1, 1, 2, 0, 1, 2, 2, 0, 2, 2, 0, 0, 2, 2, 0, 2, 2, 1, 0, 2, 0, 0, 2, 2, 1, 1, 1, 2, 2, 1, 1, 0, 1, 1, 2, 2, 0, 2, 2, 2, 1, 0, 2, 1, 1, 2, 2, 1, 2, 2, 0, 2, 0, 0, 0, 0, 2, 2, 1, 0, 0, 0, 2, 1, 2, 0, 2, 0, 0, 0, 2, 1, 2, 2, 1, 1, 0, 1, 2, 0, 2, 2, 2, 2, 1, 0, 1, 2, 2, 2, 1, 1, 2, 2, 0, 0, 2, 1, 2, 0, 0, 1, 2, 1, 1, 0, 1, 0, 1, 0, 2, 2, 2, 2, 0, 1, 1, 0, 0, 1, 2, 0, 0, 2, 0, 0, 1, 1, 2, 1, 2, 2, 1, 0, 2, 0, 2, 0, 0, 2, 1, 0, 1, 2, 2, 0, 1, 2, 1, 2, 2, 1, 2, 0, 2, 2, 1, 0, 2, 1, 0, 2, 2, 2, 0, 2, 0, 0, 1, 2, 1, 2, 2, 1, 0, 2, 1, 0, 0, 0, 1, 0, 2, 1, 0, 2]\n"
     ]
    }
   ],
   "source": [
    "y_pred = list(map(lambda x: np.argmax(x), l))\n",
    "print(y_pred)"
   ]
  },
  {
   "cell_type": "code",
   "execution_count": 23,
   "metadata": {},
   "outputs": [
    {
     "name": "stdout",
     "output_type": "stream",
     "text": [
      "400 (400,)\n"
     ]
    }
   ],
   "source": [
    "print(len(y_pred), y_test.shape)"
   ]
  },
  {
   "cell_type": "code",
   "execution_count": 24,
   "metadata": {},
   "outputs": [
    {
     "name": "stdout",
     "output_type": "stream",
     "text": [
      "[1 0 1 0 2 0 2 1 1 0 0 1 1 2 2 0 1 0 2 1 0 2 1 2 1 1 0 1 0 2 1 0 2 0 0 0 2\n",
      " 0 2 1 2 0 0 1 0 1 0 1 1 2 0 0 1 0 1 0 0 1 0 1 0 2 0 2 2 1 2 0 2 1 0 2 1 0\n",
      " 1 1 2 2 1 1 1 2 2 2 1 0 1 0 2 0 2 2 1 2 2 0 1 1 2 1 1 1 0 0 2 2 1 2 1 2 2\n",
      " 2 1 0 2 2 0 2 1 1 2 1 0 1 1 0 1 2 1 2 0 0 2 2 0 1 1 2 1 1 2 2 2 2 0 2 2 2\n",
      " 0 1 1 0 2 0 0 1 0 1 0 2 2 1 2 2 2 1 0 0 2 1 0 0 0 0 2 2 1 1 1 0 2 1 2 2 0\n",
      " 1 1 2 2 0 0 0 0 2 2 0 1 1 2 2 1 0 1 2 2 1 1 2 1 2 0 0 2 2 1 1 2 0 1 2 2 0\n",
      " 2 2 0 0 1 2 0 2 2 1 0 2 0 0 2 1 0 0 1 1 2 0 1 0 1 1 2 2 1 1 2 2 1 0 2 0 2\n",
      " 2 2 0 2 0 1 2 0 0 0 0 1 0 1 0 0 0 2 2 0 0 1 0 0 1 1 2 1 2 1 0 0 1 2 0 2 0\n",
      " 2 2 1 0 2 1 2 1 1 1 2 2 0 0 2 1 1 0 0 1 1 1 1 0 1 0 2 0 0 2 2 2 0 2 1 1 1\n",
      " 1 2 0 0 2 1 0 2 1 0 1 2 1 1 0 2 0 2 1 0 2 0 0 1 2 2 0 1 1 0 2 2 1 1 1 2 2\n",
      " 1 0 2 0 0 0 2 2 1 2 1 0 1 2 2 2 0 1 0 0 0 0 0 0 1 0 1 2 0 2]\n"
     ]
    }
   ],
   "source": [
    "print(y_test)"
   ]
  },
  {
   "cell_type": "code",
   "execution_count": 25,
   "metadata": {},
   "outputs": [
    {
     "name": "stdout",
     "output_type": "stream",
     "text": [
      "All possible test labels are {0, 1, 2}\n"
     ]
    },
    {
     "data": {
      "image/png": "[encoded data removed]",
      "text/plain": [
       "<Figure size 432x432 with 1 Axes>"
      ]
     },
     "metadata": {
      "needs_background": "light"
     },
     "output_type": "display_data"
    }
   ],
   "source": [
    "print(\"All possible test labels are {}\".format(set(pred)))\n",
    "\n",
    "# roc curve for classes\n",
    "fpr = {}\n",
    "tpr = {}\n",
    "thresh = {}\n",
    "\n",
    "n_class = len(set(y_pred))\n",
    "\n",
    "for i in range(n_class):    \n",
    "    fpr[i], tpr[i], thresh[i] = roc_curve(y_test, c[:, i], pos_label=i)\n",
    "    \n",
    "# plotting\n",
    "fig = plt.figure(figsize=(6, 6))\n",
    "plt.plot(fpr[0], tpr[0], linestyle='--',color='orange', label='Class 0 vs Rest')\n",
    "plt.plot(fpr[1], tpr[1], linestyle='--',color='green', label='Class 1 vs Rest')\n",
    "plt.plot(fpr[2], tpr[2], linestyle='--',color='blue', label='Class 2 vs Rest')\n",
    "plt.title('Multiclass ROC curve for neural network classfier')\n",
    "plt.xlabel('False Positive Rate')\n",
    "plt.ylabel('True Positive rate')\n",
    "plt.legend(loc='best')\n",
    "fig.savefig('Multiclass ROC NN',dpi=300)"
   ]
  },
  {
   "cell_type": "code",
   "execution_count": 26,
   "metadata": {},
   "outputs": [
    {
     "name": "stdout",
     "output_type": "stream",
     "text": [
      "0.7107538471860392\n"
     ]
    }
   ],
   "source": [
    "from sklearn.preprocessing import LabelBinarizer\n",
    "\n",
    "lb = LabelBinarizer()\n",
    "lb.fit(y_test)\n",
    "y_test_nn = lb.transform(y_test)\n",
    "y_pred_nn = lb.transform(pred)\n",
    "\n",
    "auc_model1 = roc_auc_score(y_test_nn, y_pred_nn, average=\"macro\")\n",
    "\n",
    "print(auc_model1)"
   ]
  }
 ],
 "metadata": {
  "kernelspec": {
   "display_name": "Python [conda env:tensorflow_cpu] *",
   "language": "python",
   "name": "conda-env-tensorflow_cpu-py"
  },
  "language_info": {
   "codemirror_mode": {
    "name": "ipython",
    "version": 3
   },
   "file_extension": ".py",
   "mimetype": "text/x-python",
   "name": "python",
   "nbconvert_exporter": "python",
   "pygments_lexer": "ipython3",
   "version": "3.6.10"
  }
 },
 "nbformat": 4,
 "nbformat_minor": 4
}
