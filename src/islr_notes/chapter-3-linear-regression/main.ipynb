{
 "cells": [
  {
   "cell_type": "code",
   "execution_count": 1,
   "metadata": {},
   "outputs": [],
   "source": [
    "import numpy as np"
   ]
  },
  {
   "cell_type": "code",
   "execution_count": 2,
   "metadata": {},
   "outputs": [],
   "source": [
    "b_0, b_1 = 2, 5\n",
    "\n",
    "# sample 100 points\n",
    "x = np.linspace(0, 10, 100)\n",
    "\n",
    "def f(x):\n",
    "    # true function\n",
    "    return b_0 + b_1*x\n",
    "\n",
    "# irreducible error\n",
    "e = np.random.normal(0, 3, 100)\n",
    "\n",
    "# using true function, obtain y\n",
    "y= f(x) + e"
   ]
  },
  {
   "cell_type": "code",
   "execution_count": 3,
   "metadata": {},
   "outputs": [],
   "source": [
    "from sklearn.linear_model import LinearRegression\n",
    "\n",
    "lr = LinearRegression()\n",
    "X = x.reshape((-1, 1))\n",
    "lr.fit(X, y)\n",
    "y_hat = lr.predict(X)"
   ]
  },
  {
   "cell_type": "code",
   "execution_count": 4,
   "metadata": {},
   "outputs": [
    {
     "name": "stdout",
     "output_type": "stream",
     "text": [
      "from the sklearn linear regression model, beta-1 = [5.00129082]\n",
      "from calculations, beta-0 = 2.064, beta-1 = 5.001\n"
     ]
    }
   ],
   "source": [
    "def return_params(y, x):\n",
    "    y_bar = np.mean(y)\n",
    "    y_prime = y - y_bar\n",
    "    n = x.shape[0]\n",
    "    beta_hat_1 = np.sum(y_prime*x)/(np.sum(x ** 2) - n*(np.mean(x) ** 2))\n",
    "    beta_hat_0 = y_bar - beta_hat_1*np.mean(x)\n",
    "    return beta_hat_0, beta_hat_1\n",
    "\n",
    "print(\"from the sklearn linear regression model, beta-1 = {}\".format(\n",
    "    lr.coef_))\n",
    "beta_hat_0, beta_hat_1 = return_params(y, x)\n",
    "print(\"from calculations, beta-0 = {}, beta-1 = {}\".format(\n",
    "    round(beta_hat_0, 3),round(beta_hat_1, 3)\n",
    "))"
   ]
  },
  {
   "cell_type": "code",
   "execution_count": 5,
   "metadata": {},
   "outputs": [
    {
     "name": "stdout",
     "output_type": "stream",
     "text": [
      "7.886079058187248\n",
      "7.886079058187246\n"
     ]
    }
   ],
   "source": [
    "from sklearn.metrics import mean_squared_error as mse\n",
    "print(mse(y_hat, y))\n",
    "\n",
    "# obtain predictions from calculated parameters\n",
    "y_hat_2 = beta_hat_0 + beta_hat_1*x\n",
    "print(mse(y_hat_2, y))"
   ]
  },
  {
   "cell_type": "markdown",
   "metadata": {},
   "source": [
    "hence, the calculations check out."
   ]
  },
  {
   "cell_type": "code",
   "execution_count": 6,
   "metadata": {},
   "outputs": [
    {
     "name": "stdout",
     "output_type": "stream",
     "text": [
      "0.009275919554253597\n"
     ]
    }
   ],
   "source": [
    "x_bar = np.mean(x)\n",
    "x_prime = x - x_bar\n",
    "var_e = np.var(e)\n",
    "variance_beta_hat_1 = var_e/(np.sum(x_prime ** 2))\n",
    "\n",
    "print(variance_beta_hat_1)"
   ]
  },
  {
   "cell_type": "code",
   "execution_count": 7,
   "metadata": {},
   "outputs": [
    {
     "name": "stdout",
     "output_type": "stream",
     "text": [
      "SSE = 788.608, SSR = 21265.184, SST = 22053.792\n",
      "SSE+SSR = 22053.792\tSST = 22053.792\n"
     ]
    }
   ],
   "source": [
    "y_bar = np.mean(y)\n",
    "\n",
    "sse = round(np.sum((y - y_hat_2)**2), 3)\n",
    "ssr = round(np.sum((y_hat_2 - y_bar) ** 2), 3)\n",
    "sst = round(np.sum((y - y_bar) ** 2), 3)\n",
    "\n",
    "print(\"SSE = {}, SSR = {}, SST = {}\\n\\\n",
    "SSE+SSR = {}\\tSST = {}\".format(sse, ssr, sst, round(sse+ssr, 3), sst))"
   ]
  },
  {
   "cell_type": "markdown",
   "metadata": {},
   "source": [
    "hence $SSE+SSR = SST$ checks out"
   ]
  },
  {
   "cell_type": "code",
   "execution_count": 8,
   "metadata": {},
   "outputs": [
    {
     "name": "stdout",
     "output_type": "stream",
     "text": [
      "t-statistic = 51.928242221247814, p-value = 9.403973428021995e-73\n"
     ]
    }
   ],
   "source": [
    "def t_distro(t_value):\n",
    "    # dof = n-p-1 , p = 1, hence dof = n-2\n",
    "    dof = 98\n",
    "    temp_1 = -(1+dof)/2\n",
    "    temp_2 = (t_value ** 2)/dof\n",
    "    return (1 + temp_2) ** temp_1\n",
    "\n",
    "t_statistic = beta_hat_1/np.sqrt(variance_beta_hat_1)\n",
    "p_value = t_distro(t_statistic)\n",
    "print(\"t-statistic = {}, p-value = {}\".format(t_statistic, p_value))"
   ]
  }
 ],
 "metadata": {
  "kernelspec": {
   "display_name": "Python [conda env:tensorflow_cpu] *",
   "language": "python",
   "name": "conda-env-tensorflow_cpu-py"
  },
  "language_info": {
   "codemirror_mode": {
    "name": "ipython",
    "version": 3
   },
   "file_extension": ".py",
   "mimetype": "text/x-python",
   "name": "python",
   "nbconvert_exporter": "python",
   "pygments_lexer": "ipython3",
   "version": "3.6.10"
  }
 },
 "nbformat": 4,
 "nbformat_minor": 4
}
