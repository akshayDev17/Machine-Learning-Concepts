{
 "cells": [
  {
   "cell_type": "markdown",
   "metadata": {},
   "source": [
    "[Please follow this.](https://towardsdatascience.com/simple-guide-for-ensemble-learning-methods-d87cc68705a2)\n",
    "\n",
    "A collection of several models working together on a single set is called an Ensemble.\n",
    "\n",
    "# Voting\n",
    "\n",
    "1. usage of multiple classifier/regression models to predict and selection of output based on some voting scheme\n",
    "\n",
    "## Hard Voting\n",
    "1. model is selected from an ensemble to make the final prediction by a simple majority vote for accuracy.\n",
    "\n",
    "## Soft Voting\n",
    "1.  arrives at the best result by averaging out the probabilities calculated by individual algorithms.\n",
    "\n",
    "2. can only be done when all your classifiers can calculate probabilities for the outcomes.\n",
    "\n",
    "\n",
    "[`sklearn.VotingClassifier`](https://scikit-learn.org/stable/modules/generated/sklearn.ensemble.VotingClassifier.html) and [`sklearn.VotingRegressor`](https://scikit-learn.org/1.5/modules/generated/sklearn.ensemble.VotingRegressor.html) accepts all kinds of estimators , and notice that its a non-default argument, meaning the user has to provide a list of estimators."
   ]
  },
  {
   "cell_type": "markdown",
   "metadata": {},
   "source": [
    "An analogy\n",
    "\n",
    "Take a look at the following picture; we can see a group of blindfolded children playing the game of “Touch and tell” while examining an elephant which none of them had ever seen before. Each of them will have a different version as to how does an elephant looks like because each of them is exposed to a different part of the elephant. Now, if we give them a task of submitting a report on elephant description, their individual reports will be able to describe only one part accurately as per their experience but collectively they can combine their observations to give a very accurate report on the description of an elephant.\n",
    "Similarly, ensemble learning methods employ a group of models where the combined result out of them is almost always better in terms of prediction accuracy as compared to using a single model.\n",
    "\n",
    "<img src=\"elephant-ensemble.png\" />"
   ]
  },
  {
   "cell_type": "code",
   "execution_count": null,
   "metadata": {},
   "outputs": [],
   "source": [
    "from sklearn.svm import SVC\n",
    "from sklearn.linear_model import LogisticRegression\n",
    "from sklearn.ensemble import RandomForestClassifier\n",
    "from sklearn.ensemble import VotingClassifier\n",
    "\n",
    "log_clf = LogisticRegression()\n",
    "rnd_clf = RandomForestClassifier()\n",
    "svm_clf = SVC()\n",
    "\n",
    "voting_clf = VotingClassifier(\n",
    "\testimators = [('lr', log_clf), ('rf', rnd_clf), ('svc',svm_clf)],\n",
    "\tvoting = 'hard')"
   ]
  },
  {
   "cell_type": "markdown",
   "metadata": {},
   "source": [
    "* The accuracy of the VotingClassifier is generally higher than the individual classifiers. \n",
    "\n",
    "* Make sure to include diverse classifiers so that models which fall prey to similar types of errors do not aggregate the errors."
   ]
  },
  {
   "cell_type": "markdown",
   "metadata": {},
   "source": [
    "# Simple Ensemble Techniques\n",
    "\n",
    "## Taking MODE of results\n",
    "1. most frequently occurring output from all regressors/classifiers\n",
    "\n",
    "2. can be for both regression and classification type problems, but more suitable for the latter. \n",
    "\n",
    "## Taking MEAN of results\n",
    "1. take an average of predictions from all the models and use it to make the final prediction.\n",
    "\n",
    "2. Naturally possible for regression-type problems.\n",
    "\n",
    "## Taking WEIGHTED MEAN of the results\n",
    "\n",
    "1. All models are assigned different weights defining the importance of each model for prediction."
   ]
  }
 ],
 "metadata": {
  "language_info": {
   "name": "python"
  }
 },
 "nbformat": 4,
 "nbformat_minor": 2
}
