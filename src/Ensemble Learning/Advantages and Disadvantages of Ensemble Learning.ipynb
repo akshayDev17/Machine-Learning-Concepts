{
 "cells": [
  {
   "cell_type": "markdown",
   "metadata": {},
   "source": [
    "# Disadvantages\n",
    " \n",
    "1. Reduction in model interpret-ability- \n",
    "    1. Using ensemble methods reduces the model interpret-ability due to increased complexity and makes it very difficult to draw any crucial business insights at the end.\n",
    "\n",
    "2. Computation and design time is high\n",
    "    1. It is not good for real time applications.\n",
    "\n",
    "3. The selection of models for creating an ensemble is an art which is really hard to master."
   ]
  }
 ],
 "metadata": {
  "language_info": {
   "name": "python"
  }
 },
 "nbformat": 4,
 "nbformat_minor": 2
}
