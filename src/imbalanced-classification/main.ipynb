{
 "cells": [
  {
   "cell_type": "code",
   "execution_count": 1,
   "metadata": {},
   "outputs": [],
   "source": [
    "from sklearn.datasets import make_classification\n",
    "from sklearn.model_selection import train_test_split\n",
    "from sklearn.metrics import brier_score_loss, make_scorer\n",
    "from sklearn.model_selection import GridSearchCV\n",
    "import numpy as np\n",
    "\n",
    "import matplotlib.pyplot as plt"
   ]
  },
  {
   "cell_type": "code",
   "execution_count": 2,
   "metadata": {},
   "outputs": [],
   "source": [
    "X, y = make_classification(\n",
    "    n_samples=1000,\n",
    "    weights=[0.99],\n",
    "    random_state=100\n",
    ")\n",
    "X_train, X_test, y_train, y_test = train_test_split(X,y,test_size=0.2)"
   ]
  },
  {
   "cell_type": "code",
   "execution_count": 3,
   "metadata": {},
   "outputs": [
    {
     "data": {
      "image/png": "[encoded data removed]",
      "text/plain": [
       "<Figure size 432x288 with 1 Axes>"
      ]
     },
     "metadata": {
      "needs_background": "light"
     },
     "output_type": "display_data"
    }
   ],
   "source": [
    "plt.hist(y)\n",
    "plt.show()"
   ]
  },
  {
   "cell_type": "markdown",
   "metadata": {},
   "source": [
    "brier score for the 0-skill model"
   ]
  },
  {
   "cell_type": "code",
   "execution_count": 4,
   "metadata": {},
   "outputs": [
    {
     "name": "stdout",
     "output_type": "stream",
     "text": [
      "Brier score for 0-skill classifier model, for P(class1=0) is 0.0148\n",
      "Brier score for 0-skill classifier model, for P(class1=1) is 0.985\n"
     ]
    }
   ],
   "source": [
    "prob_arr = [0.01 for _ in range(y_test.shape[0])]\n",
    "brier_ref = brier_score_loss(y_test, prob_arr)\n",
    "print(\"Brier score for 0-skill classifier model, for P(class1=0) is {}\".format(round(brier_ref, 5)))\n",
    "\n",
    "prob_arr = [1.0 for _ in range(y_test.shape[0])]\n",
    "brier_ref = brier_score_loss(y_test, prob_arr)\n",
    "print(\"Brier score for 0-skill classifier model, for P(class1=1) is {}\".format(round(brier_ref, 5)))"
   ]
  },
  {
   "cell_type": "markdown",
   "metadata": {},
   "source": [
    "define the brier skill score"
   ]
  },
  {
   "cell_type": "code",
   "execution_count": 5,
   "metadata": {},
   "outputs": [],
   "source": [
    "def bss(y_test, prob_arr):\n",
    "    ref_prob_arr = [0.01 for _ in range(y_test.shape[0])]\n",
    "    brier_ref = brier_score_loss(y_test, ref_prob_arr)\n",
    "    brier_score = brier_score_loss(y_test, prob_arr)\n",
    "    return round(1-(brier_score/brier_ref), 5)\n",
    "\n",
    "bss_scorer = make_scorer(bss, needs_proba=True)"
   ]
  },
  {
   "cell_type": "markdown",
   "metadata": {},
   "source": [
    "lets see the perfect bss"
   ]
  },
  {
   "cell_type": "code",
   "execution_count": 6,
   "metadata": {},
   "outputs": [
    {
     "name": "stdout",
     "output_type": "stream",
     "text": [
      "Perfect BSS is 1.0\n"
     ]
    }
   ],
   "source": [
    "print(\"Perfect BSS is {}\".format(bss(y_test, y_test)))"
   ]
  },
  {
   "cell_type": "code",
   "execution_count": 7,
   "metadata": {},
   "outputs": [],
   "source": [
    "from sklearn.neighbors import KNeighborsClassifier\n",
    "from sklearn.svm import SVC"
   ]
  },
  {
   "cell_type": "markdown",
   "metadata": {},
   "source": [
    "Testing Brier score for SVC"
   ]
  },
  {
   "cell_type": "code",
   "execution_count": 8,
   "metadata": {},
   "outputs": [
    {
     "name": "stdout",
     "output_type": "stream",
     "text": [
      "[0 1]\n",
      "Brier skill score for SVM classifier model is 0.07367\n"
     ]
    }
   ],
   "source": [
    "svc = SVC(probability=True)\n",
    "svc.fit(X_train, y_train)\n",
    "pred_prob = svc.predict_proba(X_test)\n",
    "print(svc.classes_)\n",
    "print(\"Brier skill score for SVM classifier model is {}\".format(bss(y_test, pred_prob[:, 1])))"
   ]
  },
  {
   "cell_type": "code",
   "execution_count": 9,
   "metadata": {},
   "outputs": [
    {
     "name": "stdout",
     "output_type": "stream",
     "text": [
      "[0 0 0 0 0] [0.00634511 0.00379072 0.00745027 0.00784967 0.00158395]\n"
     ]
    }
   ],
   "source": [
    "print(y_test[:5], pred_prob[:5, 1])"
   ]
  },
  {
   "cell_type": "code",
   "execution_count": 10,
   "metadata": {},
   "outputs": [
    {
     "name": "stdout",
     "output_type": "stream",
     "text": [
      "[1 1 1] \n",
      " [[0.99368029 0.00631971]\n",
      " [0.98972813 0.01027187]\n",
      " [0.77832129 0.22167871]]\n"
     ]
    }
   ],
   "source": [
    "print(y_test[y_test == 1], \"\\n\", pred_prob[y_test == 1])"
   ]
  },
  {
   "cell_type": "markdown",
   "metadata": {},
   "source": [
    "Testing BSS for kNN"
   ]
  },
  {
   "cell_type": "code",
   "execution_count": 11,
   "metadata": {},
   "outputs": [
    {
     "name": "stdout",
     "output_type": "stream",
     "text": [
      "[0 1]\n"
     ]
    }
   ],
   "source": [
    "knc = KNeighborsClassifier()\n",
    "\n",
    "knc_param_dict = {\n",
    "    \"n_neighbors\":[i for i in range(1, 11)],\n",
    "    \"weights\": ['uniform', 'distance'],\n",
    "    \"algorithm\": ['auto', 'ball_tree', 'kd_tree', 'brute'],\n",
    "    \"leaf_size\": [i for i in range(10, 100, 10)],\n",
    "    \"p\": [i for i in range(1, 11)]\n",
    "}\n",
    "cv_model = GridSearchCV(estimator=knc, param_grid=knc_param_dict, scoring=bss_scorer, n_jobs=2)\n",
    "cv_model.fit(X_train, y_train)\n",
    "best_knc = cv_model.best_estimator_\n",
    "best_knc.fit(X_train, y_train)\n",
    "pred_prob = best_knc.predict_proba(X_test)\n",
    "print(best_knc.classes_)\n",
    "\n",
    "# print(\"Brier skill score for KNN classifier model is {}\".format(bss(y_test, pred_prob[:, 1])))"
   ]
  },
  {
   "cell_type": "code",
   "execution_count": 12,
   "metadata": {},
   "outputs": [
    {
     "name": "stdout",
     "output_type": "stream",
     "text": [
      "Best model params are \n",
      "{'algorithm': 'auto', 'leaf_size': 10, 'n_neighbors': 6, 'p': 1, 'weights': 'distance'}\n",
      "\n",
      "\n",
      "Brier skill score for KNN classifier model is 0.092338\n"
     ]
    }
   ],
   "source": [
    "print(\"Best model params are \\n{}\\n\\n\".format(cv_model.best_params_))\n",
    "print(\"Brier skill score for KNN classifier model is {}\".format(cv_model.best_score_))"
   ]
  },
  {
   "cell_type": "code",
   "execution_count": 13,
   "metadata": {
    "scrolled": true
   },
   "outputs": [
    {
     "data": {
      "text/html": [
       "<div>\n",
       "<style scoped>\n",
       "    .dataframe tbody tr th:only-of-type {\n",
       "        vertical-align: middle;\n",
       "    }\n",
       "\n",
       "    .dataframe tbody tr th {\n",
       "        vertical-align: top;\n",
       "    }\n",
       "\n",
       "    .dataframe thead th {\n",
       "        text-align: right;\n",
       "    }\n",
       "</style>\n",
       "<table border=\"1\" class=\"dataframe\">\n",
       "  <thead>\n",
       "    <tr style=\"text-align: right;\">\n",
       "      <th></th>\n",
       "      <th>mean_fit_time</th>\n",
       "      <th>std_fit_time</th>\n",
       "      <th>mean_score_time</th>\n",
       "      <th>std_score_time</th>\n",
       "      <th>param_algorithm</th>\n",
       "      <th>param_leaf_size</th>\n",
       "      <th>param_n_neighbors</th>\n",
       "      <th>param_p</th>\n",
       "      <th>param_weights</th>\n",
       "      <th>params</th>\n",
       "      <th>split0_test_score</th>\n",
       "      <th>split1_test_score</th>\n",
       "      <th>split2_test_score</th>\n",
       "      <th>split3_test_score</th>\n",
       "      <th>split4_test_score</th>\n",
       "      <th>mean_test_score</th>\n",
       "      <th>std_test_score</th>\n",
       "      <th>rank_test_score</th>\n",
       "    </tr>\n",
       "  </thead>\n",
       "  <tbody>\n",
       "    <tr>\n",
       "      <th>0</th>\n",
       "      <td>0.003880</td>\n",
       "      <td>0.001012</td>\n",
       "      <td>0.015985</td>\n",
       "      <td>0.001233</td>\n",
       "      <td>auto</td>\n",
       "      <td>10</td>\n",
       "      <td>1</td>\n",
       "      <td>1</td>\n",
       "      <td>uniform</td>\n",
       "      <td>{'algorithm': 'auto', 'leaf_size': 10, 'n_neig...</td>\n",
       "      <td>-0.69147</td>\n",
       "      <td>-1.36806</td>\n",
       "      <td>-0.01488</td>\n",
       "      <td>-0.69147</td>\n",
       "      <td>-0.27033</td>\n",
       "      <td>-0.607242</td>\n",
       "      <td>0.459877</td>\n",
       "      <td>6697</td>\n",
       "    </tr>\n",
       "    <tr>\n",
       "      <th>1</th>\n",
       "      <td>0.003631</td>\n",
       "      <td>0.001448</td>\n",
       "      <td>0.015641</td>\n",
       "      <td>0.004962</td>\n",
       "      <td>auto</td>\n",
       "      <td>10</td>\n",
       "      <td>1</td>\n",
       "      <td>1</td>\n",
       "      <td>distance</td>\n",
       "      <td>{'algorithm': 'auto', 'leaf_size': 10, 'n_neig...</td>\n",
       "      <td>-0.69147</td>\n",
       "      <td>-1.36806</td>\n",
       "      <td>-0.01488</td>\n",
       "      <td>-0.69147</td>\n",
       "      <td>-0.27033</td>\n",
       "      <td>-0.607242</td>\n",
       "      <td>0.459877</td>\n",
       "      <td>6697</td>\n",
       "    </tr>\n",
       "    <tr>\n",
       "      <th>2</th>\n",
       "      <td>0.002036</td>\n",
       "      <td>0.000280</td>\n",
       "      <td>0.007675</td>\n",
       "      <td>0.000435</td>\n",
       "      <td>auto</td>\n",
       "      <td>10</td>\n",
       "      <td>1</td>\n",
       "      <td>2</td>\n",
       "      <td>uniform</td>\n",
       "      <td>{'algorithm': 'auto', 'leaf_size': 10, 'n_neig...</td>\n",
       "      <td>-1.36806</td>\n",
       "      <td>-1.02977</td>\n",
       "      <td>-0.01488</td>\n",
       "      <td>-1.02977</td>\n",
       "      <td>-0.77846</td>\n",
       "      <td>-0.844188</td>\n",
       "      <td>0.455059</td>\n",
       "      <td>7129</td>\n",
       "    </tr>\n",
       "    <tr>\n",
       "      <th>3</th>\n",
       "      <td>0.002082</td>\n",
       "      <td>0.000255</td>\n",
       "      <td>0.009793</td>\n",
       "      <td>0.001054</td>\n",
       "      <td>auto</td>\n",
       "      <td>10</td>\n",
       "      <td>1</td>\n",
       "      <td>2</td>\n",
       "      <td>distance</td>\n",
       "      <td>{'algorithm': 'auto', 'leaf_size': 10, 'n_neig...</td>\n",
       "      <td>-1.36806</td>\n",
       "      <td>-1.02977</td>\n",
       "      <td>-0.01488</td>\n",
       "      <td>-1.02977</td>\n",
       "      <td>-0.77846</td>\n",
       "      <td>-0.844188</td>\n",
       "      <td>0.455059</td>\n",
       "      <td>7129</td>\n",
       "    </tr>\n",
       "    <tr>\n",
       "      <th>4</th>\n",
       "      <td>0.002117</td>\n",
       "      <td>0.000464</td>\n",
       "      <td>0.153002</td>\n",
       "      <td>0.030878</td>\n",
       "      <td>auto</td>\n",
       "      <td>10</td>\n",
       "      <td>1</td>\n",
       "      <td>3</td>\n",
       "      <td>uniform</td>\n",
       "      <td>{'algorithm': 'auto', 'leaf_size': 10, 'n_neig...</td>\n",
       "      <td>-1.02977</td>\n",
       "      <td>-0.69147</td>\n",
       "      <td>-0.01488</td>\n",
       "      <td>-0.69147</td>\n",
       "      <td>-0.77846</td>\n",
       "      <td>-0.641210</td>\n",
       "      <td>0.336796</td>\n",
       "      <td>6769</td>\n",
       "    </tr>\n",
       "    <tr>\n",
       "      <th>...</th>\n",
       "      <td>...</td>\n",
       "      <td>...</td>\n",
       "      <td>...</td>\n",
       "      <td>...</td>\n",
       "      <td>...</td>\n",
       "      <td>...</td>\n",
       "      <td>...</td>\n",
       "      <td>...</td>\n",
       "      <td>...</td>\n",
       "      <td>...</td>\n",
       "      <td>...</td>\n",
       "      <td>...</td>\n",
       "      <td>...</td>\n",
       "      <td>...</td>\n",
       "      <td>...</td>\n",
       "      <td>...</td>\n",
       "      <td>...</td>\n",
       "      <td>...</td>\n",
       "    </tr>\n",
       "    <tr>\n",
       "      <th>7195</th>\n",
       "      <td>0.001600</td>\n",
       "      <td>0.001186</td>\n",
       "      <td>0.176890</td>\n",
       "      <td>0.003101</td>\n",
       "      <td>brute</td>\n",
       "      <td>90</td>\n",
       "      <td>10</td>\n",
       "      <td>8</td>\n",
       "      <td>distance</td>\n",
       "      <td>{'algorithm': 'brute', 'leaf_size': 90, 'n_nei...</td>\n",
       "      <td>-0.09778</td>\n",
       "      <td>-0.13362</td>\n",
       "      <td>0.29703</td>\n",
       "      <td>-0.00715</td>\n",
       "      <td>-0.05045</td>\n",
       "      <td>0.001606</td>\n",
       "      <td>0.153770</td>\n",
       "      <td>2341</td>\n",
       "    </tr>\n",
       "    <tr>\n",
       "      <th>7196</th>\n",
       "      <td>0.001532</td>\n",
       "      <td>0.001061</td>\n",
       "      <td>0.175715</td>\n",
       "      <td>0.002493</td>\n",
       "      <td>brute</td>\n",
       "      <td>90</td>\n",
       "      <td>10</td>\n",
       "      <td>9</td>\n",
       "      <td>uniform</td>\n",
       "      <td>{'algorithm': 'brute', 'leaf_size': 90, 'n_nei...</td>\n",
       "      <td>-0.09946</td>\n",
       "      <td>-0.12314</td>\n",
       "      <td>0.27605</td>\n",
       "      <td>-0.01827</td>\n",
       "      <td>-0.04421</td>\n",
       "      <td>-0.001806</td>\n",
       "      <td>0.143897</td>\n",
       "      <td>2665</td>\n",
       "    </tr>\n",
       "    <tr>\n",
       "      <th>7197</th>\n",
       "      <td>0.001005</td>\n",
       "      <td>0.000385</td>\n",
       "      <td>0.175447</td>\n",
       "      <td>0.004201</td>\n",
       "      <td>brute</td>\n",
       "      <td>90</td>\n",
       "      <td>10</td>\n",
       "      <td>9</td>\n",
       "      <td>distance</td>\n",
       "      <td>{'algorithm': 'brute', 'leaf_size': 90, 'n_nei...</td>\n",
       "      <td>-0.10167</td>\n",
       "      <td>-0.12483</td>\n",
       "      <td>0.29615</td>\n",
       "      <td>-0.00769</td>\n",
       "      <td>-0.04631</td>\n",
       "      <td>0.003130</td>\n",
       "      <td>0.152170</td>\n",
       "      <td>2197</td>\n",
       "    </tr>\n",
       "    <tr>\n",
       "      <th>7198</th>\n",
       "      <td>0.000746</td>\n",
       "      <td>0.000180</td>\n",
       "      <td>0.175889</td>\n",
       "      <td>0.002374</td>\n",
       "      <td>brute</td>\n",
       "      <td>90</td>\n",
       "      <td>10</td>\n",
       "      <td>10</td>\n",
       "      <td>uniform</td>\n",
       "      <td>{'algorithm': 'brute', 'leaf_size': 90, 'n_nei...</td>\n",
       "      <td>-0.09608</td>\n",
       "      <td>-0.12652</td>\n",
       "      <td>0.27605</td>\n",
       "      <td>-0.01827</td>\n",
       "      <td>-0.04675</td>\n",
       "      <td>-0.002314</td>\n",
       "      <td>0.144177</td>\n",
       "      <td>2737</td>\n",
       "    </tr>\n",
       "    <tr>\n",
       "      <th>7199</th>\n",
       "      <td>0.000943</td>\n",
       "      <td>0.000335</td>\n",
       "      <td>0.172462</td>\n",
       "      <td>0.003864</td>\n",
       "      <td>brute</td>\n",
       "      <td>90</td>\n",
       "      <td>10</td>\n",
       "      <td>10</td>\n",
       "      <td>distance</td>\n",
       "      <td>{'algorithm': 'brute', 'leaf_size': 90, 'n_nei...</td>\n",
       "      <td>-0.09836</td>\n",
       "      <td>-0.12830</td>\n",
       "      <td>0.29543</td>\n",
       "      <td>-0.00810</td>\n",
       "      <td>-0.04876</td>\n",
       "      <td>0.002382</td>\n",
       "      <td>0.152203</td>\n",
       "      <td>2269</td>\n",
       "    </tr>\n",
       "  </tbody>\n",
       "</table>\n",
       "<p>7200 rows × 18 columns</p>\n",
       "</div>"
      ],
      "text/plain": [
       "      mean_fit_time  std_fit_time  mean_score_time  std_score_time  \\\n",
       "0          0.003880      0.001012         0.015985        0.001233   \n",
       "1          0.003631      0.001448         0.015641        0.004962   \n",
       "2          0.002036      0.000280         0.007675        0.000435   \n",
       "3          0.002082      0.000255         0.009793        0.001054   \n",
       "4          0.002117      0.000464         0.153002        0.030878   \n",
       "...             ...           ...              ...             ...   \n",
       "7195       0.001600      0.001186         0.176890        0.003101   \n",
       "7196       0.001532      0.001061         0.175715        0.002493   \n",
       "7197       0.001005      0.000385         0.175447        0.004201   \n",
       "7198       0.000746      0.000180         0.175889        0.002374   \n",
       "7199       0.000943      0.000335         0.172462        0.003864   \n",
       "\n",
       "     param_algorithm param_leaf_size param_n_neighbors param_p param_weights  \\\n",
       "0               auto              10                 1       1       uniform   \n",
       "1               auto              10                 1       1      distance   \n",
       "2               auto              10                 1       2       uniform   \n",
       "3               auto              10                 1       2      distance   \n",
       "4               auto              10                 1       3       uniform   \n",
       "...              ...             ...               ...     ...           ...   \n",
       "7195           brute              90                10       8      distance   \n",
       "7196           brute              90                10       9       uniform   \n",
       "7197           brute              90                10       9      distance   \n",
       "7198           brute              90                10      10       uniform   \n",
       "7199           brute              90                10      10      distance   \n",
       "\n",
       "                                                 params  split0_test_score  \\\n",
       "0     {'algorithm': 'auto', 'leaf_size': 10, 'n_neig...           -0.69147   \n",
       "1     {'algorithm': 'auto', 'leaf_size': 10, 'n_neig...           -0.69147   \n",
       "2     {'algorithm': 'auto', 'leaf_size': 10, 'n_neig...           -1.36806   \n",
       "3     {'algorithm': 'auto', 'leaf_size': 10, 'n_neig...           -1.36806   \n",
       "4     {'algorithm': 'auto', 'leaf_size': 10, 'n_neig...           -1.02977   \n",
       "...                                                 ...                ...   \n",
       "7195  {'algorithm': 'brute', 'leaf_size': 90, 'n_nei...           -0.09778   \n",
       "7196  {'algorithm': 'brute', 'leaf_size': 90, 'n_nei...           -0.09946   \n",
       "7197  {'algorithm': 'brute', 'leaf_size': 90, 'n_nei...           -0.10167   \n",
       "7198  {'algorithm': 'brute', 'leaf_size': 90, 'n_nei...           -0.09608   \n",
       "7199  {'algorithm': 'brute', 'leaf_size': 90, 'n_nei...           -0.09836   \n",
       "\n",
       "      split1_test_score  split2_test_score  split3_test_score  \\\n",
       "0              -1.36806           -0.01488           -0.69147   \n",
       "1              -1.36806           -0.01488           -0.69147   \n",
       "2              -1.02977           -0.01488           -1.02977   \n",
       "3              -1.02977           -0.01488           -1.02977   \n",
       "4              -0.69147           -0.01488           -0.69147   \n",
       "...                 ...                ...                ...   \n",
       "7195           -0.13362            0.29703           -0.00715   \n",
       "7196           -0.12314            0.27605           -0.01827   \n",
       "7197           -0.12483            0.29615           -0.00769   \n",
       "7198           -0.12652            0.27605           -0.01827   \n",
       "7199           -0.12830            0.29543           -0.00810   \n",
       "\n",
       "      split4_test_score  mean_test_score  std_test_score  rank_test_score  \n",
       "0              -0.27033        -0.607242        0.459877             6697  \n",
       "1              -0.27033        -0.607242        0.459877             6697  \n",
       "2              -0.77846        -0.844188        0.455059             7129  \n",
       "3              -0.77846        -0.844188        0.455059             7129  \n",
       "4              -0.77846        -0.641210        0.336796             6769  \n",
       "...                 ...              ...             ...              ...  \n",
       "7195           -0.05045         0.001606        0.153770             2341  \n",
       "7196           -0.04421        -0.001806        0.143897             2665  \n",
       "7197           -0.04631         0.003130        0.152170             2197  \n",
       "7198           -0.04675        -0.002314        0.144177             2737  \n",
       "7199           -0.04876         0.002382        0.152203             2269  \n",
       "\n",
       "[7200 rows x 18 columns]"
      ]
     },
     "metadata": {},
     "output_type": "display_data"
    }
   ],
   "source": [
    "import pandas as pd\n",
    "from IPython.display import display\n",
    "\n",
    "df = pd.DataFrame(cv_model.cv_results_)\n",
    "display(df)"
   ]
  },
  {
   "cell_type": "markdown",
   "metadata": {},
   "source": [
    "# Imbalanced Datasets\n",
    "\n",
    "The [credit card fraud detection](https://www.kaggle.com/mlg-ulb/creditcardfraud) dataset will be used \\\n",
    "The **Class** column in the dataset indicates whether the card is fraud or not.\n"
   ]
  },
  {
   "cell_type": "code",
   "execution_count": 14,
   "metadata": {},
   "outputs": [
    {
     "name": "stdout",
     "output_type": "stream",
     "text": [
      "Requirement already satisfied: imbalanced-learn in /home/laferrari/anaconda3/envs/tensorflow_cpu/lib/python3.6/site-packages (0.7.0)\n",
      "Requirement already satisfied: joblib>=0.11 in /home/laferrari/anaconda3/envs/tensorflow_cpu/lib/python3.6/site-packages (from imbalanced-learn) (0.16.0)\n",
      "Requirement already satisfied: scipy>=0.19.1 in /home/laferrari/anaconda3/envs/tensorflow_cpu/lib/python3.6/site-packages (from imbalanced-learn) (1.4.1)\n",
      "Requirement already satisfied: scikit-learn>=0.23 in /home/laferrari/anaconda3/envs/tensorflow_cpu/lib/python3.6/site-packages (from imbalanced-learn) (0.23.2)\n",
      "Requirement already satisfied: numpy>=1.13.3 in /home/laferrari/anaconda3/envs/tensorflow_cpu/lib/python3.6/site-packages (from imbalanced-learn) (1.19.1)\n",
      "Requirement already satisfied: threadpoolctl>=2.0.0 in /home/laferrari/anaconda3/envs/tensorflow_cpu/lib/python3.6/site-packages (from scikit-learn>=0.23->imbalanced-learn) (2.1.0)\n",
      "\u001b[33mWARNING: You are using pip version 20.1.1; however, version 20.2.3 is available.\n",
      "You should consider upgrading via the '/home/laferrari/anaconda3/envs/tensorflow_cpu/bin/python -m pip install --upgrade pip' command.\u001b[0m\n"
     ]
    }
   ],
   "source": [
    "!pip install imbalanced-learn"
   ]
  },
  {
   "cell_type": "code",
   "execution_count": null,
   "metadata": {},
   "outputs": [],
   "source": [
    "import os\n",
    "zipPath = \"\"\n",
    "for fileName in os.listdir(\"./\"):\n",
    "    if fileName.endswith(\".zip\"):\n",
    "        zipPath = os.path.relpath(fileName)\n",
    "!unzip {zipPath}"
   ]
  },
  {
   "cell_type": "code",
   "execution_count": 15,
   "metadata": {},
   "outputs": [
    {
     "data": {
      "text/html": [
       "<div>\n",
       "<style scoped>\n",
       "    .dataframe tbody tr th:only-of-type {\n",
       "        vertical-align: middle;\n",
       "    }\n",
       "\n",
       "    .dataframe tbody tr th {\n",
       "        vertical-align: top;\n",
       "    }\n",
       "\n",
       "    .dataframe thead th {\n",
       "        text-align: right;\n",
       "    }\n",
       "</style>\n",
       "<table border=\"1\" class=\"dataframe\">\n",
       "  <thead>\n",
       "    <tr style=\"text-align: right;\">\n",
       "      <th></th>\n",
       "      <th>Time</th>\n",
       "      <th>V1</th>\n",
       "      <th>V2</th>\n",
       "      <th>V3</th>\n",
       "      <th>V4</th>\n",
       "      <th>V5</th>\n",
       "      <th>V6</th>\n",
       "      <th>V7</th>\n",
       "      <th>V8</th>\n",
       "      <th>V9</th>\n",
       "      <th>...</th>\n",
       "      <th>V21</th>\n",
       "      <th>V22</th>\n",
       "      <th>V23</th>\n",
       "      <th>V24</th>\n",
       "      <th>V25</th>\n",
       "      <th>V26</th>\n",
       "      <th>V27</th>\n",
       "      <th>V28</th>\n",
       "      <th>Amount</th>\n",
       "      <th>Class</th>\n",
       "    </tr>\n",
       "  </thead>\n",
       "  <tbody>\n",
       "    <tr>\n",
       "      <th>0</th>\n",
       "      <td>0.0</td>\n",
       "      <td>-1.359807</td>\n",
       "      <td>-0.072781</td>\n",
       "      <td>2.536347</td>\n",
       "      <td>1.378155</td>\n",
       "      <td>-0.338321</td>\n",
       "      <td>0.462388</td>\n",
       "      <td>0.239599</td>\n",
       "      <td>0.098698</td>\n",
       "      <td>0.363787</td>\n",
       "      <td>...</td>\n",
       "      <td>-0.018307</td>\n",
       "      <td>0.277838</td>\n",
       "      <td>-0.110474</td>\n",
       "      <td>0.066928</td>\n",
       "      <td>0.128539</td>\n",
       "      <td>-0.189115</td>\n",
       "      <td>0.133558</td>\n",
       "      <td>-0.021053</td>\n",
       "      <td>149.62</td>\n",
       "      <td>0</td>\n",
       "    </tr>\n",
       "    <tr>\n",
       "      <th>1</th>\n",
       "      <td>0.0</td>\n",
       "      <td>1.191857</td>\n",
       "      <td>0.266151</td>\n",
       "      <td>0.166480</td>\n",
       "      <td>0.448154</td>\n",
       "      <td>0.060018</td>\n",
       "      <td>-0.082361</td>\n",
       "      <td>-0.078803</td>\n",
       "      <td>0.085102</td>\n",
       "      <td>-0.255425</td>\n",
       "      <td>...</td>\n",
       "      <td>-0.225775</td>\n",
       "      <td>-0.638672</td>\n",
       "      <td>0.101288</td>\n",
       "      <td>-0.339846</td>\n",
       "      <td>0.167170</td>\n",
       "      <td>0.125895</td>\n",
       "      <td>-0.008983</td>\n",
       "      <td>0.014724</td>\n",
       "      <td>2.69</td>\n",
       "      <td>0</td>\n",
       "    </tr>\n",
       "    <tr>\n",
       "      <th>2</th>\n",
       "      <td>1.0</td>\n",
       "      <td>-1.358354</td>\n",
       "      <td>-1.340163</td>\n",
       "      <td>1.773209</td>\n",
       "      <td>0.379780</td>\n",
       "      <td>-0.503198</td>\n",
       "      <td>1.800499</td>\n",
       "      <td>0.791461</td>\n",
       "      <td>0.247676</td>\n",
       "      <td>-1.514654</td>\n",
       "      <td>...</td>\n",
       "      <td>0.247998</td>\n",
       "      <td>0.771679</td>\n",
       "      <td>0.909412</td>\n",
       "      <td>-0.689281</td>\n",
       "      <td>-0.327642</td>\n",
       "      <td>-0.139097</td>\n",
       "      <td>-0.055353</td>\n",
       "      <td>-0.059752</td>\n",
       "      <td>378.66</td>\n",
       "      <td>0</td>\n",
       "    </tr>\n",
       "    <tr>\n",
       "      <th>3</th>\n",
       "      <td>1.0</td>\n",
       "      <td>-0.966272</td>\n",
       "      <td>-0.185226</td>\n",
       "      <td>1.792993</td>\n",
       "      <td>-0.863291</td>\n",
       "      <td>-0.010309</td>\n",
       "      <td>1.247203</td>\n",
       "      <td>0.237609</td>\n",
       "      <td>0.377436</td>\n",
       "      <td>-1.387024</td>\n",
       "      <td>...</td>\n",
       "      <td>-0.108300</td>\n",
       "      <td>0.005274</td>\n",
       "      <td>-0.190321</td>\n",
       "      <td>-1.175575</td>\n",
       "      <td>0.647376</td>\n",
       "      <td>-0.221929</td>\n",
       "      <td>0.062723</td>\n",
       "      <td>0.061458</td>\n",
       "      <td>123.50</td>\n",
       "      <td>0</td>\n",
       "    </tr>\n",
       "    <tr>\n",
       "      <th>4</th>\n",
       "      <td>2.0</td>\n",
       "      <td>-1.158233</td>\n",
       "      <td>0.877737</td>\n",
       "      <td>1.548718</td>\n",
       "      <td>0.403034</td>\n",
       "      <td>-0.407193</td>\n",
       "      <td>0.095921</td>\n",
       "      <td>0.592941</td>\n",
       "      <td>-0.270533</td>\n",
       "      <td>0.817739</td>\n",
       "      <td>...</td>\n",
       "      <td>-0.009431</td>\n",
       "      <td>0.798278</td>\n",
       "      <td>-0.137458</td>\n",
       "      <td>0.141267</td>\n",
       "      <td>-0.206010</td>\n",
       "      <td>0.502292</td>\n",
       "      <td>0.219422</td>\n",
       "      <td>0.215153</td>\n",
       "      <td>69.99</td>\n",
       "      <td>0</td>\n",
       "    </tr>\n",
       "  </tbody>\n",
       "</table>\n",
       "<p>5 rows × 31 columns</p>\n",
       "</div>"
      ],
      "text/plain": [
       "   Time        V1        V2        V3        V4        V5        V6        V7  \\\n",
       "0   0.0 -1.359807 -0.072781  2.536347  1.378155 -0.338321  0.462388  0.239599   \n",
       "1   0.0  1.191857  0.266151  0.166480  0.448154  0.060018 -0.082361 -0.078803   \n",
       "2   1.0 -1.358354 -1.340163  1.773209  0.379780 -0.503198  1.800499  0.791461   \n",
       "3   1.0 -0.966272 -0.185226  1.792993 -0.863291 -0.010309  1.247203  0.237609   \n",
       "4   2.0 -1.158233  0.877737  1.548718  0.403034 -0.407193  0.095921  0.592941   \n",
       "\n",
       "         V8        V9  ...       V21       V22       V23       V24       V25  \\\n",
       "0  0.098698  0.363787  ... -0.018307  0.277838 -0.110474  0.066928  0.128539   \n",
       "1  0.085102 -0.255425  ... -0.225775 -0.638672  0.101288 -0.339846  0.167170   \n",
       "2  0.247676 -1.514654  ...  0.247998  0.771679  0.909412 -0.689281 -0.327642   \n",
       "3  0.377436 -1.387024  ... -0.108300  0.005274 -0.190321 -1.175575  0.647376   \n",
       "4 -0.270533  0.817739  ... -0.009431  0.798278 -0.137458  0.141267 -0.206010   \n",
       "\n",
       "        V26       V27       V28  Amount  Class  \n",
       "0 -0.189115  0.133558 -0.021053  149.62      0  \n",
       "1  0.125895 -0.008983  0.014724    2.69      0  \n",
       "2 -0.139097 -0.055353 -0.059752  378.66      0  \n",
       "3 -0.221929  0.062723  0.061458  123.50      0  \n",
       "4  0.502292  0.219422  0.215153   69.99      0  \n",
       "\n",
       "[5 rows x 31 columns]"
      ]
     },
     "metadata": {},
     "output_type": "display_data"
    },
    {
     "name": "stdout",
     "output_type": "stream",
     "text": [
      "Time      float64\n",
      "V1        float64\n",
      "V2        float64\n",
      "V3        float64\n",
      "V4        float64\n",
      "V5        float64\n",
      "V6        float64\n",
      "V7        float64\n",
      "V8        float64\n",
      "V9        float64\n",
      "V10       float64\n",
      "V11       float64\n",
      "V12       float64\n",
      "V13       float64\n",
      "V14       float64\n",
      "V15       float64\n",
      "V16       float64\n",
      "V17       float64\n",
      "V18       float64\n",
      "V19       float64\n",
      "V20       float64\n",
      "V21       float64\n",
      "V22       float64\n",
      "V23       float64\n",
      "V24       float64\n",
      "V25       float64\n",
      "V26       float64\n",
      "V27       float64\n",
      "V28       float64\n",
      "Amount    float64\n",
      "Class       int64\n",
      "dtype: object\n"
     ]
    }
   ],
   "source": [
    "import pandas as pd\n",
    "import matplotlib.pyplot as plt\n",
    "import seaborn as sb\n",
    "from IPython.display import display\n",
    "\n",
    "df = pd.read_csv(\"./creditcard.csv\")\n",
    "display(df.head())\n",
    "\n",
    "print(df.dtypes)"
   ]
  },
  {
   "cell_type": "markdown",
   "metadata": {},
   "source": [
    "firstly, it is clear that no categorical encoding is needed since all variables are either continuous or discrete"
   ]
  },
  {
   "cell_type": "code",
   "execution_count": 16,
   "metadata": {},
   "outputs": [
    {
     "name": "stdout",
     "output_type": "stream",
     "text": [
      "(284807, 31)\n"
     ]
    }
   ],
   "source": [
    "print(df.shape)"
   ]
  },
  {
   "cell_type": "code",
   "execution_count": 17,
   "metadata": {},
   "outputs": [
    {
     "name": "stdout",
     "output_type": "stream",
     "text": [
      "Time      0\n",
      "V1        0\n",
      "V2        0\n",
      "V3        0\n",
      "V4        0\n",
      "V5        0\n",
      "V6        0\n",
      "V7        0\n",
      "V8        0\n",
      "V9        0\n",
      "V10       0\n",
      "V11       0\n",
      "V12       0\n",
      "V13       0\n",
      "V14       0\n",
      "V15       0\n",
      "V16       0\n",
      "V17       0\n",
      "V18       0\n",
      "V19       0\n",
      "V20       0\n",
      "V21       0\n",
      "V22       0\n",
      "V23       0\n",
      "V24       0\n",
      "V25       0\n",
      "V26       0\n",
      "V27       0\n",
      "V28       0\n",
      "Amount    0\n",
      "Class     0\n",
      "dtype: int64\n"
     ]
    }
   ],
   "source": [
    "print(df.isnull().sum())"
   ]
  },
  {
   "cell_type": "markdown",
   "metadata": {},
   "source": [
    "Good, so no null values are present in this dataset"
   ]
  },
  {
   "cell_type": "code",
   "execution_count": 18,
   "metadata": {},
   "outputs": [
    {
     "data": {
      "text/plain": [
       "0    284315\n",
       "1       492\n",
       "Name: Class, dtype: int64"
      ]
     },
     "execution_count": 18,
     "metadata": {},
     "output_type": "execute_result"
    }
   ],
   "source": [
    "df['Class'].value_counts()"
   ]
  },
  {
   "cell_type": "markdown",
   "metadata": {},
   "source": [
    "Hence positive classes are so many, and negative classes are so less compared to them."
   ]
  },
  {
   "cell_type": "code",
   "execution_count": 19,
   "metadata": {},
   "outputs": [],
   "source": [
    "x, y = df.drop(\"Class\", axis=1), df['Class']\n",
    "\n",
    "from sklearn.model_selection import train_test_split\n",
    "x_train, x_test, y_train, y_test = train_test_split(x, y, train_size=0.7)"
   ]
  },
  {
   "cell_type": "code",
   "execution_count": null,
   "metadata": {},
   "outputs": [],
   "source": [
    "# plot the values\n",
    "fig = plt.figure()\n",
    "fig.set_figheight(60)\n",
    "\n",
    "for i in range(1, 29, 1):\n",
    "    ax = fig.add_subplot(28, 1, i)\n",
    "    df[df['Class'] == 0]['V'+str(i)].plot(kind='kde', ax=ax, color='red') # kde - kernel density estimator\n",
    "    df[df['Class'] == 1]['V'+str(i)].plot(kind='kde', ax=ax, color='blue')\n",
    "    lines, labels = ax.get_legend_handles_labels()\n",
    "    ax.legend(lines, labels, loc='best')\n",
    "plt.tight_layout()\n",
    "plt.show()\n"
   ]
  },
  {
   "cell_type": "code",
   "execution_count": 20,
   "metadata": {},
   "outputs": [
    {
     "name": "stderr",
     "output_type": "stream",
     "text": [
      "/home/laferrari/anaconda3/envs/tensorflow_cpu/lib/python3.6/site-packages/sklearn/model_selection/_split.py:297: FutureWarning: Setting a random_state has no effect since shuffle is False. This will raise an error in 0.24. You should leave random_state to its default (None), or set shuffle=True.\n",
      "  FutureWarning\n"
     ]
    }
   ],
   "source": [
    "import numpy as np\n",
    "\n",
    "from sklearn.linear_model import LogisticRegression\n",
    "from sklearn.metrics import accuracy_score, confusion_matrix, classification_report\n",
    "from sklearn.model_selection import KFold, GridSearchCV\n",
    "\n",
    "lc = LogisticRegression()\n",
    "grid = {\n",
    "    'C': 10.0**np.arange(-2, 3),\n",
    "    'penalty': ['l1', 'l2'] # regularisation method\n",
    "}\n",
    "cv = KFold(n_splits=5, shuffle=False, random_state=42)"
   ]
  },
  {
   "cell_type": "code",
   "execution_count": 21,
   "metadata": {},
   "outputs": [
    {
     "name": "stderr",
     "output_type": "stream",
     "text": [
      "/home/laferrari/anaconda3/envs/tensorflow_cpu/lib/python3.6/site-packages/sklearn/linear_model/_logistic.py:764: ConvergenceWarning: lbfgs failed to converge (status=1):\n",
      "STOP: TOTAL NO. of ITERATIONS REACHED LIMIT.\n",
      "\n",
      "Increase the number of iterations (max_iter) or scale the data as shown in:\n",
      "    https://scikit-learn.org/stable/modules/preprocessing.html\n",
      "Please also refer to the documentation for alternative solver options:\n",
      "    https://scikit-learn.org/stable/modules/linear_model.html#logistic-regression\n",
      "  extra_warning_msg=_LOGISTIC_SOLVER_CONVERGENCE_MSG)\n"
     ]
    },
    {
     "data": {
      "text/plain": [
       "GridSearchCV(cv=KFold(n_splits=5, random_state=42, shuffle=False),\n",
       "             estimator=LogisticRegression(), n_jobs=2,\n",
       "             param_grid={'C': array([1.e-02, 1.e-01, 1.e+00, 1.e+01, 1.e+02]),\n",
       "                         'penalty': ['l1', 'l2']},\n",
       "             scoring='f1_macro')"
      ]
     },
     "execution_count": 21,
     "metadata": {},
     "output_type": "execute_result"
    }
   ],
   "source": [
    "gS = GridSearchCV(\n",
    "    lc,\n",
    "    grid,\n",
    "    n_jobs=2,\n",
    "    cv=cv,\n",
    "    scoring='f1_macro'\n",
    ")\n",
    "gS.fit(x_train.values, y_train.values)"
   ]
  },
  {
   "cell_type": "code",
   "execution_count": 22,
   "metadata": {},
   "outputs": [
    {
     "name": "stdout",
     "output_type": "stream",
     "text": [
      "accuracy =  0.9990637032875719\n",
      "[[85258    35]\n",
      " [   45   105]]\n",
      "\n",
      "              precision    recall  f1-score   support\n",
      "\n",
      "           0       1.00      1.00      1.00     85293\n",
      "           1       0.75      0.70      0.72       150\n",
      "\n",
      "    accuracy                           1.00     85443\n",
      "   macro avg       0.87      0.85      0.86     85443\n",
      "weighted avg       1.00      1.00      1.00     85443\n",
      "\n"
     ]
    }
   ],
   "source": [
    "clf = gS.best_estimator_\n",
    "y_pred = clf.predict(x_test.values)\n",
    "print(\"accuracy = \", accuracy_score(y_pred, y_test))\n",
    "print(confusion_matrix(y_test, y_pred))\n",
    "print()\n",
    "print(classification_report(y_test, y_pred))"
   ]
  },
  {
   "cell_type": "code",
   "execution_count": 26,
   "metadata": {
    "scrolled": true
   },
   "outputs": [
    {
     "name": "stdout",
     "output_type": "stream",
     "text": [
      "AUC-ROC score for randomforest classifier is: 0.8497948248977055\n",
      "Threshold value shape for random forest classifier is:  (326,) fpr shape is (326,)\n"
     ]
    },
    {
     "data": {
      "image/png": "[encoded data removed]",
      "text/plain": [
       "<Figure size 432x288 with 1 Axes>"
      ]
     },
     "metadata": {
      "needs_background": "light"
     },
     "output_type": "display_data"
    }
   ],
   "source": [
    "pred_prob_logR_cv = clf.predict_proba(x_test.values)\n",
    "\n",
    "from sklearn.metrics import roc_auc_score, roc_curve\n",
    "\n",
    "print(\"AUC-ROC score for randomforest classifier is:\", roc_auc_score(y_test, y_pred, average=None))\n",
    "\n",
    "fpr_logR_cv, tpr_logR_cv, thresh_logR_cv = roc_curve(y_test, pred_prob_logR_cv[:,1])\n",
    "\n",
    "print(\"Threshold value shape for random forest classifier is: \", thresh_logR_cv.shape, \n",
    "      \"fpr shape is\", fpr_logR_cv.shape\n",
    "     )\n",
    "\n",
    "# roc curve for tpr = fpr \n",
    "random_probs = [0 for i in range(len(y_test))]\n",
    "p_fpr, p_tpr, _ = roc_curve(y_test, random_probs, pos_label=1)\n",
    "\n",
    "plt.plot(fpr_logR_cv, tpr_logR_cv, color='orange', label='LogReg with gridSearch')\n",
    "plt.plot(p_fpr, p_tpr, color='blue', label='no skill classifier')\n",
    "\n",
    "# title\n",
    "plt.title('ROC curve')\n",
    "# x label\n",
    "plt.xlabel('False Positive Rate')\n",
    "# y label\n",
    "plt.ylabel('True Positive rate')\n",
    "\n",
    "plt.legend(loc='best')\n",
    "plt.show()"
   ]
  },
  {
   "cell_type": "markdown",
   "metadata": {},
   "source": [
    "Its usually believed that imbalanced dataset does not heavily impact the decision-trees and random-forest ensemble techniques"
   ]
  },
  {
   "cell_type": "code",
   "execution_count": 27,
   "metadata": {},
   "outputs": [
    {
     "name": "stdout",
     "output_type": "stream",
     "text": [
      "accuracy =  0.9995084442259752\n",
      "[[85287     6]\n",
      " [   36   114]]\n",
      "\n",
      "              precision    recall  f1-score   support\n",
      "\n",
      "           0       1.00      1.00      1.00     85293\n",
      "           1       0.95      0.76      0.84       150\n",
      "\n",
      "    accuracy                           1.00     85443\n",
      "   macro avg       0.97      0.88      0.92     85443\n",
      "weighted avg       1.00      1.00      1.00     85443\n",
      "\n"
     ]
    }
   ],
   "source": [
    "from sklearn.ensemble import RandomForestClassifier as RFC\n",
    "rfc = RFC()\n",
    "rfc.fit(x_train.values, y_train.values)\n",
    "\n",
    "y_pred_rfc = rfc.predict(x_test.values)\n",
    "pred_prob_rfc = rfc.predict_proba(x_test)\n",
    "\n",
    "print(\"accuracy = \", accuracy_score(y_pred_rfc, y_test))\n",
    "print(confusion_matrix(y_test, y_pred_rfc))\n",
    "print()\n",
    "print(classification_report(y_test, y_pred_rfc))"
   ]
  },
  {
   "cell_type": "code",
   "execution_count": 28,
   "metadata": {
    "scrolled": true
   },
   "outputs": [
    {
     "name": "stdout",
     "output_type": "stream",
     "text": [
      "AUC-ROC score for randomforest classifier is: 0.879964827125321\n",
      "Threshold value shape for random forest classifier is:  (61,) fpr shape is (61,)\n"
     ]
    },
    {
     "data": {
      "image/png": "[encoded data removed]",
      "text/plain": [
       "<Figure size 432x288 with 1 Axes>"
      ]
     },
     "metadata": {
      "needs_background": "light"
     },
     "output_type": "display_data"
    }
   ],
   "source": [
    "from sklearn.metrics import roc_auc_score, roc_curve\n",
    "print(\"AUC-ROC score for randomforest classifier is:\", roc_auc_score(y_test, y_pred_rfc, average=None))\n",
    "\n",
    "fpr_rfc, tpr_rfc, thresh_rfc = roc_curve(y_test, pred_prob_rfc[:,1])\n",
    "\n",
    "print(\"Threshold value shape for random forest classifier is: \", thresh_rfc.shape, \n",
    "      \"fpr shape is\", fpr_rfc.shape\n",
    "     )\n",
    "\n",
    "plt.plot(fpr_logR_cv, tpr_logR_cv, color='orange', label='LogReg with gridSearch')\n",
    "plt.plot(fpr_rfc, tpr_rfc, color='red', label='Random forest')\n",
    "plt.plot(p_fpr, p_tpr, color='blue', label='no skill classifier')\n",
    "\n",
    "# title\n",
    "plt.title('ROC curve')\n",
    "# x label\n",
    "plt.xlabel('False Positive Rate')\n",
    "# y label\n",
    "plt.ylabel('True Positive rate')\n",
    "\n",
    "plt.legend(loc='best')\n",
    "plt.show()"
   ]
  },
  {
   "cell_type": "markdown",
   "metadata": {},
   "source": [
    "# Under-sampling\n",
    "\n",
    "* reduce the total number of samples for the class that the distribution is biased towards, i.e. the class having many more samples than some other class(es)\n",
    "* should be used when the ratio is too skewed, i.e. extent of imbalance in the dataset is a lot.\n",
    "* <font color=\"red\">major disadvantage</font> = useful information in the majority class samples might get thrown away.\n",
    "* for NearMiss method of under sampling\n",
    "    * $\\alpha = \\frac{\\textrm{N}_{\\textrm{m}}}{\\textrm{N}_{\\textrm{rM}}}$, is the value being provided as a parameter to the function call of NearMiss\n",
    "    * $\\textrm{N}_{\\textrm{m}}$ = number of samples in the minority class after under sampling\\\n",
    "    $\\textrm{N}_{\\textrm{rM}}$ = number of samples in the Majority class after under sampling"
   ]
  },
  {
   "cell_type": "code",
   "execution_count": 29,
   "metadata": {},
   "outputs": [
    {
     "name": "stderr",
     "output_type": "stream",
     "text": [
      "/home/laferrari/anaconda3/envs/tensorflow_cpu/lib/python3.6/site-packages/imblearn/utils/_validation.py:638: FutureWarning: Pass sampling_strategy=0.8 as keyword args. From version 0.9 passing these as positional arguments will result in an error\n",
      "  FutureWarning)\n"
     ]
    },
    {
     "name": "stdout",
     "output_type": "stream",
     "text": [
      "0    427\n",
      "1    342\n",
      "Name: Class, dtype: int64\n"
     ]
    }
   ],
   "source": [
    "from imblearn.under_sampling import NearMiss\n",
    "nm = NearMiss(0.8) # reduce to 80% of original data\n",
    "x_train_new, y_train_new = nm.fit_sample(x_train, y_train)\n",
    "print(y_train_new.value_counts())"
   ]
  },
  {
   "cell_type": "code",
   "execution_count": 30,
   "metadata": {
    "scrolled": true
   },
   "outputs": [
    {
     "name": "stdout",
     "output_type": "stream",
     "text": [
      "accuracy =  0.8260243671219409\n",
      "[[70442 14851]\n",
      " [   14   136]]\n",
      "\n",
      "              precision    recall  f1-score   support\n",
      "\n",
      "           0       1.00      0.83      0.90     85293\n",
      "           1       0.01      0.91      0.02       150\n",
      "\n",
      "    accuracy                           0.83     85443\n",
      "   macro avg       0.50      0.87      0.46     85443\n",
      "weighted avg       1.00      0.83      0.90     85443\n",
      "\n",
      "0.8662746063569109\n",
      "Threshold value for random forest classifier, with under sampling is:  (102,) fpr shape is (102,)\n"
     ]
    },
    {
     "data": {
      "image/png": "[encoded data removed]",
      "text/plain": [
       "<Figure size 432x288 with 1 Axes>"
      ]
     },
     "metadata": {
      "needs_background": "light"
     },
     "output_type": "display_data"
    }
   ],
   "source": [
    "from sklearn.ensemble import RandomForestClassifier as RFC\n",
    "rfc = RFC()\n",
    "rfc.fit(x_train_new.values, y_train_new.values)\n",
    "\n",
    "y_pred_underSampling_rfc = rfc.predict(x_test.values)\n",
    "pred_prob_underSampling_rfc = rfc.predict_proba(x_test)\n",
    "\n",
    "print(\"accuracy = \", accuracy_score(y_pred_underSampling_rfc, y_test))\n",
    "print(confusion_matrix(y_test, y_pred_underSampling_rfc))\n",
    "print()\n",
    "print(classification_report(y_test, y_pred_underSampling_rfc))\n",
    "\n",
    "from sklearn.metrics import roc_auc_score, roc_curve\n",
    "print(roc_auc_score(y_test, y_pred_underSampling_rfc, average=None))\n",
    "\n",
    "fpr_underSampling_rfc, tpr_underSampling_rfc, thresh_underSampling_rfc = roc_curve(y_test, pred_prob_underSampling_rfc[:,1])\n",
    "\n",
    "print(\"Threshold value for random forest classifier, with under sampling is: \", thresh_underSampling_rfc.shape, \n",
    "      \"fpr shape is\", fpr_underSampling_rfc.shape\n",
    "     )\n",
    "\n",
    "plt.plot(fpr_logR_cv, tpr_logR_cv, color='orange', label='LogReg with gridSearch')\n",
    "plt.plot(fpr_rfc, tpr_rfc, color='red', label='Random forest')\n",
    "plt.plot(fpr_underSampling_rfc, tpr_underSampling_rfc, color='green', label='Random forest with under sampling')\n",
    "plt.plot(p_fpr, p_tpr, color='blue')\n",
    "\n",
    "# title\n",
    "plt.title('ROC curve')\n",
    "# x label\n",
    "plt.xlabel('False Positive Rate')\n",
    "# y label\n",
    "plt.ylabel('True Positive rate')\n",
    "\n",
    "plt.legend(loc='best')\n",
    "plt.show()"
   ]
  },
  {
   "cell_type": "markdown",
   "metadata": {},
   "source": [
    "* ROC is kind of maintained\n",
    "* <font color=\"red\">Accuracy is reduced a lot.</font>\n",
    "* <font color=\"red\">precision has slid down to 0</font>"
   ]
  },
  {
   "cell_type": "markdown",
   "metadata": {},
   "source": [
    "# Over-sampling\n",
    "* increase the data-points of the minority class\n",
    "* add copies of data points from the minority class, which amplifies the decision region resulting in the improvement of evaluation metrics.\n",
    "* <font color=\"red\">major disadvantage</font> - might result in overfitting\n",
    "* "
   ]
  },
  {
   "cell_type": "code",
   "execution_count": 31,
   "metadata": {},
   "outputs": [
    {
     "name": "stderr",
     "output_type": "stream",
     "text": [
      "/home/laferrari/anaconda3/envs/tensorflow_cpu/lib/python3.6/site-packages/imblearn/utils/_validation.py:638: FutureWarning: Pass sampling_strategy=0.5 as keyword args. From version 0.9 passing these as positional arguments will result in an error\n",
      "  FutureWarning)\n"
     ]
    },
    {
     "name": "stdout",
     "output_type": "stream",
     "text": [
      "0    199022\n",
      "1     99511\n",
      "Name: Class, dtype: int64\n"
     ]
    }
   ],
   "source": [
    "from imblearn.over_sampling import RandomOverSampler\n",
    "\n",
    "ros = RandomOverSampler(0.5)\n",
    "x_train_new, y_train_new = ros.fit_sample(x_train, y_train)\n",
    "print(y_train_new.value_counts())"
   ]
  },
  {
   "cell_type": "code",
   "execution_count": 32,
   "metadata": {},
   "outputs": [
    {
     "name": "stdout",
     "output_type": "stream",
     "text": [
      "accuracy =  0.9995084442259752\n",
      "[[85284     9]\n",
      " [   33   117]]\n",
      "\n",
      "              precision    recall  f1-score   support\n",
      "\n",
      "           0       1.00      1.00      1.00     85293\n",
      "           1       0.93      0.78      0.85       150\n",
      "\n",
      "    accuracy                           1.00     85443\n",
      "   macro avg       0.96      0.89      0.92     85443\n",
      "weighted avg       1.00      1.00      1.00     85443\n",
      "\n",
      "0.8899472406879815\n",
      "Threshold value for random forest classifier is:  (59,) fpr shape is (59,)\n"
     ]
    },
    {
     "data": {
      "image/png": "[encoded data removed]",
      "text/plain": [
       "<Figure size 432x288 with 1 Axes>"
      ]
     },
     "metadata": {
      "needs_background": "light"
     },
     "output_type": "display_data"
    }
   ],
   "source": [
    "from sklearn.ensemble import RandomForestClassifier as RFC\n",
    "rfc = RFC()\n",
    "rfc.fit(x_train_new.values, y_train_new.values)\n",
    "\n",
    "y_pred_rfc_overSampling = rfc.predict(x_test.values)\n",
    "pred_prob_rfc_overSampling = rfc.predict_proba(x_test)\n",
    "\n",
    "print(\"accuracy = \", accuracy_score(y_pred_rfc_overSampling, y_test))\n",
    "print(confusion_matrix(y_test, y_pred_rfc_overSampling))\n",
    "print()\n",
    "print(classification_report(y_test, y_pred_rfc_overSampling))\n",
    "\n",
    "from sklearn.metrics import roc_auc_score, roc_curve\n",
    "print(roc_auc_score(y_test, y_pred_rfc_overSampling, average=None))\n",
    "\n",
    "fpr_rfc_overSampling, tpr_rfc_overSampling, thresh_rfc_overSampling = roc_curve(y_test, pred_prob_rfc_overSampling[:,1])\n",
    "\n",
    "\n",
    "\n",
    "print(\"Threshold value for random forest classifier is: \", thresh_rfc_overSampling.shape, \n",
    "      \"fpr shape is\", fpr_rfc_overSampling.shape\n",
    "     )\n",
    "\n",
    "plt.plot(fpr_logR_cv, tpr_logR_cv, color='orange', label='LogReg with gridSearch')\n",
    "plt.plot(fpr_rfc, tpr_rfc, color='red', label='Random forest')\n",
    "plt.plot(fpr_underSampling_rfc, tpr_underSampling_rfc, color='green', label='Random forest with under sampling')\n",
    "plt.plot(fpr_rfc_overSampling, tpr_rfc_overSampling, color='cyan', label='Random forest with under sampling')\n",
    "plt.plot(p_fpr, p_tpr, color='blue')\n",
    "\n",
    "# title\n",
    "plt.title('ROC curve')\n",
    "# x label\n",
    "plt.xlabel('False Positive Rate')\n",
    "# y label\n",
    "plt.ylabel('True Positive rate')\n",
    "\n",
    "plt.legend(loc='best')\n",
    "plt.show()"
   ]
  },
  {
   "cell_type": "markdown",
   "metadata": {},
   "source": [
    "* With about the same accuracy as that of taking the entire training data\n",
    "* randomOverSampler actually reduced the total number of false-positives(type-1 error) from 6(in entire train-data) to 3(in randomly oversampled train-data), \n",
    "* and also increased the total number of true-positives from 85286(in entire train-data) to 85289(in RandomlyOverSampled train-data)\n",
    "* and the AUC-ROC value has increased from 0.72 to 0.86"
   ]
  },
  {
   "cell_type": "markdown",
   "metadata": {},
   "source": [
    "# SMOTETomek\n",
    "1. Class to perform over-sampling using SMOTE and cleaning using Tomek links.\n",
    "2. Combine over- and under-sampling using SMOTE and Tomek links.\n",
    "\n",
    "# SMOTE\n",
    "* SMOTE - Synthetic Minority Oversampling TEchnique\n",
    "* this reduces the overfitting issue faced in oversampling\n",
    "* enhanced sampling method that creates synthetic samples based on the nearest neighbors of feature values in the minority class.\n",
    "* smote-generated(**synthesized samples**) sample s = x + u.(x$^{\\textrm{R}}$-x), where x$^{\\textrm{R}}$ is randomly chosen among the 5  minority class nearest neighbors of sample x\n",
    "    * the sample x will have some sort of a distribution w.r.t. each feature\n",
    "    * correspondingly, sample x$^{\\textrm{R}}$ will also have some distribution\n",
    "    * for both of these distributions, the expected value E(.) and variance var(.) is assumed to be the same, <font color=\"green\">but this holds true only for **high-dimensional** , imbalanced datasets </font>\n",
    "    * <font color=\"red\">For ***low-dimensional*** imbalanced dataset, since samples are correlated, this assumption doesn't hold true.</font>\n",
    "* hence, for SMOTE samples, E$\\left(\\textrm{X}_{\\textrm{j}}^{\\textrm{smote}}\\right)$ = E$\\left(\\textrm{X}_{\\textrm{j}} \\right)$, and $\\sigma^{\\textrm{2}}\\left(\\textrm{X}_{\\textrm{j}}^{\\textrm{smote}}\\right) \\, = \\, \\frac{2}{3} \\sigma^{\\textrm{2}}\\left(\\textrm{X}_{\\textrm{j}}\\right)$ \n",
    "* SMOTE has little impact on the classifiers that base their classification rules on class-specific mean values and overall variances (as DLDA - diagonal linear discriminant analysis), while it has some (harmful) impact on the classifiers that use class-specific variances (as DQDA - diagonal Quadratic discriminant analysis), because they use biased estimates.\n",
    "* <img src=\"smote_vis.png\" />\n",
    "* the bigger red-circles are the actual minority samples that already existed in the dataset, the smaller red circles are the ones that are added as a result of SMOTE\n",
    "* SMOTE *imagines* synthetic samples to be along these lines joining the actual minority-class samples\n",
    "* the above image that shows SMOTE samples being generated just from 2 feautres is just for visualisation simplicity, in reality, all features need to be considered for generating SMOTE samples.\n",
    "\n",
    "\n",
    "* <img src=\"smote_synthesis_1.png\" />\n",
    "* In the above example, K = 1(number of nearest neighbors to be used for smote-sample-synthesis, the parameter name in the actual `imblearn.over_sampling.SMOTE function` is `k_neighbors` )\n",
    "    * hence a new sample is synthesized on the line joining these 2 points\n",
    "\n",
    "\n",
    "* <img src=\"smote_synthesis_2.png\" />\n",
    "* at K = 2\n",
    "    * both the nearest neighbors are considered.\n",
    "    * For each new synthesis, a new one is randomly chosen between them.\n",
    "* At each loop iteration, one of the K closest minority class neighbours is chosen and a new minority instance is synthesised somewhere between the minority instance and that neighbour.\n",
    "\n",
    "\n",
    "# Tomek\n",
    "* Class to perform under-sampling by removing Tomek’s links.\n"
   ]
  },
  {
   "cell_type": "code",
   "execution_count": 33,
   "metadata": {},
   "outputs": [
    {
     "name": "stderr",
     "output_type": "stream",
     "text": [
      "/home/laferrari/anaconda3/envs/tensorflow_cpu/lib/python3.6/site-packages/imblearn/utils/_validation.py:638: FutureWarning: Pass sampling_strategy=0.5 as keyword args. From version 0.9 passing these as positional arguments will result in an error\n",
      "  FutureWarning)\n"
     ]
    },
    {
     "name": "stdout",
     "output_type": "stream",
     "text": [
      "0    198168\n",
      "1     98657\n",
      "Name: Class, dtype: int64\n"
     ]
    }
   ],
   "source": [
    "from imblearn.combine import SMOTETomek\n",
    "\n",
    "sm = SMOTETomek(0.5)\n",
    "x_train_new, y_train_new = sm.fit_sample(x_train, y_train)\n",
    "print(y_train_new.value_counts())"
   ]
  },
  {
   "cell_type": "code",
   "execution_count": 34,
   "metadata": {},
   "outputs": [
    {
     "name": "stdout",
     "output_type": "stream",
     "text": [
      "accuracy =  0.9994265182636377\n",
      "[[85272    21]\n",
      " [   28   122]]\n",
      "\n",
      "              precision    recall  f1-score   support\n",
      "\n",
      "           0       1.00      1.00      1.00     85293\n",
      "           1       0.85      0.81      0.83       150\n",
      "\n",
      "    accuracy                           1.00     85443\n",
      "   macro avg       0.93      0.91      0.92     85443\n",
      "weighted avg       1.00      1.00      1.00     85443\n",
      "\n",
      "AUC-ROC value = 0.90654356160529\n",
      "Threshold value for random forest classifier is:  (61,) fpr shape is (61,)\n"
     ]
    },
    {
     "data": {
      "image/png": "[encoded data removed]",
      "text/plain": [
       "<Figure size 432x288 with 1 Axes>"
      ]
     },
     "metadata": {
      "needs_background": "light"
     },
     "output_type": "display_data"
    }
   ],
   "source": [
    "from sklearn.ensemble import RandomForestClassifier as RFC\n",
    "rfc = RFC(n_jobs=-1)\n",
    "rfc.fit(x_train_new.values, y_train_new.values)\n",
    "\n",
    "y_pred_rfc_smotetomek = rfc.predict(x_test.values)\n",
    "pred_prob_rfc_smotetomek = rfc.predict_proba(x_test)\n",
    "\n",
    "print(\"accuracy = \", accuracy_score(y_pred_rfc_smotetomek, y_test))\n",
    "print(confusion_matrix(y_test, y_pred_rfc_smotetomek))\n",
    "print()\n",
    "print(classification_report(y_test, y_pred_rfc_smotetomek))\n",
    "\n",
    "from sklearn.metrics import roc_auc_score, roc_curve\n",
    "print(\"AUC-ROC value =\", roc_auc_score(y_test, y_pred_rfc_smotetomek, average=None))\n",
    "\n",
    "fpr_rfc_smotetomek, tpr_rfc_smotetomek, thresh_rfc_smotetomek = roc_curve(y_test, pred_prob_rfc_smotetomek[:,1])\n",
    "\n",
    "\n",
    "print(\"Threshold value for random forest classifier is: \", thresh_rfc_smotetomek.shape, \n",
    "      \"fpr shape is\", fpr_rfc_smotetomek.shape\n",
    "     )\n",
    "\n",
    "plt.plot(fpr_logR_cv, tpr_logR_cv, color='orange', label='LogReg with gridSearch')\n",
    "plt.plot(fpr_rfc, tpr_rfc, color='red', label='Random forest')\n",
    "plt.plot(fpr_underSampling_rfc, tpr_underSampling_rfc, color='green', label='Random forest with under sampling')\n",
    "plt.plot(fpr_rfc_overSampling, tpr_rfc_overSampling, color='cyan', label='Random forest with under sampling')\n",
    "plt.plot(p_fpr, p_tpr, color='blue')\n",
    "\n",
    "\n",
    "plt.plot(fpr_rfc_smotetomek, tpr_rfc_smotetomek, color='brown', label='SMOTE')\n",
    "\n",
    "# title\n",
    "plt.title('ROC curve')\n",
    "# x label\n",
    "plt.xlabel('False Positive Rate')\n",
    "# y label\n",
    "plt.ylabel('True Positive rate')\n",
    "\n",
    "plt.legend(loc='best')\n",
    "plt.show()"
   ]
  },
  {
   "cell_type": "markdown",
   "metadata": {},
   "source": [
    "* AUC-ROC value is greater than oversampler\n",
    "* recall and f1-score are greater , but <font color=\"red\">precision is lower</font> than oversampler\n",
    "* "
   ]
  },
  {
   "cell_type": "markdown",
   "metadata": {},
   "source": [
    "# ADASYN\n",
    "* inspired by SMOTE, He et. al. in 2009, introduced a method called adaptive synthetic sampling, that received wide attention.\n",
    "* ADASYN generates samples of the minority class according to their density distributions. \n",
    "* More synthetic data is generated for minority class samples that are harder to learn, compared to those minority samples that are easier to learn. \n",
    "* It calculates the K-nearest neighbors of each minority instance, then gets the class ratio of the minority and majority instances to generate new samples. \n",
    "* By repeating this process, it adaptively shifts the decision boundary to focus on those samples that are difficult to learn."
   ]
  },
  {
   "cell_type": "code",
   "execution_count": null,
   "metadata": {},
   "outputs": [],
   "source": [
    "from imblearn.over_sampling import ADASYN\n",
    "\n",
    "adasyn = ADASYN(0.8)\n",
    "x_train_new, y_train_new = adasyn.fit_sample(x_train, y_train)\n",
    "print(y_train_new.value_counts())"
   ]
  },
  {
   "cell_type": "code",
   "execution_count": null,
   "metadata": {},
   "outputs": [],
   "source": [
    "from sklearn.ensemble import RandomForestClassifier as RFC\n",
    "rfc = RFC(n_jobs=-1)\n",
    "rfc.fit(x_train_new.values, y_train_new.values)\n",
    "\n",
    "y_pred = rfc.predict(x_test.values)\n",
    "pred_prob2 = rfc.predict_proba(x_test)\n",
    "\n",
    "print(\"accuracy = \", accuracy_score(y_pred, y_test))\n",
    "print(confusion_matrix(y_test, y_pred))\n",
    "print()\n",
    "print(classification_report(y_test, y_pred))\n",
    "\n",
    "from sklearn.metrics import roc_auc_score, roc_curve\n",
    "print(\"AUC-ROC value =\", roc_auc_score(y_test, y_pred, average=None))\n",
    "\n",
    "fpr2, tpr2, thresh2 = roc_curve(y_test, pred_prob2[:,1])\n",
    "\n",
    "# roc curve for tpr = fpr \n",
    "random_probs = [0 for i in range(len(y_test))]\n",
    "p_fpr, p_tpr, _ = roc_curve(y_test, random_probs, pos_label=1)\n",
    "\n",
    "print(\"Threshold value for random forest classifier is: \", thresh2.shape, \n",
    "      \"fpr shape is\", fpr2.shape\n",
    "     )\n",
    "\n",
    "plt.plot(fpr1, tpr1, color='orange', label='over sampler')\n",
    "plt.plot(fpr2, tpr2, color='green', label='SMOTE')\n",
    "plt.plot(p_fpr, p_tpr, color='blue')\n",
    "\n",
    "# title\n",
    "plt.title('ROC curve')\n",
    "# x label\n",
    "plt.xlabel('False Positive Rate')\n",
    "# y label\n",
    "plt.ylabel('True Positive rate')\n",
    "\n",
    "plt.legend(loc='best')\n",
    "plt.show()"
   ]
  },
  {
   "cell_type": "markdown",
   "metadata": {},
   "source": [
    "# Ensemble-techniques\n",
    "* don't get confused with sklearn ensembles, here we are actually using ensembles from **imblearn** module"
   ]
  },
  {
   "cell_type": "code",
   "execution_count": null,
   "metadata": {},
   "outputs": [],
   "source": [
    "from imblearn.ensemble import EasyEnsembleClassifier\n",
    "\n",
    "easy = EasyEnsembleClassifier()\n",
    "easy.fit(x_train, y_train)\n",
    "\n",
    "y_pred = easy.predict(x_test.values)\n",
    "pred_prob3 = easy.predict_proba(x_test)\n",
    "\n",
    "print(\"accuracy = \", accuracy_score(y_pred, y_test))\n",
    "print(confusion_matrix(y_test, y_pred))\n",
    "print()\n",
    "print(classification_report(y_test, y_pred))\n",
    "\n",
    "from sklearn.metrics import roc_auc_score, roc_curve\n",
    "print(\"AUC-ROC value =\", roc_auc_score(y_test, y_pred, average=None))\n",
    "\n",
    "fpr3, tpr3, thresh3 = roc_curve(y_test, pred_prob3[:,1])\n",
    "\n",
    "# roc curve for tpr = fpr \n",
    "random_probs = [0 for i in range(len(y_test))]\n",
    "p_fpr, p_tpr, _ = roc_curve(y_test, random_probs, pos_label=1)\n",
    "\n",
    "print(\"Threshold value for random forest classifier is: \", thresh3.shape, \n",
    "      \"fpr shape is\", fpr3.shape\n",
    "     )\n",
    "\n",
    "plt.plot(fpr1, tpr1, color='orange', label='over sampler')\n",
    "plt.plot(fpr2, tpr2, color='green', label='SMOTE')\n",
    "plt.plot(fpr3, tpr3, color='red', label='easy ensemble classifier')\n",
    "plt.plot(p_fpr, p_tpr, color='blue')\n",
    "\n",
    "# title\n",
    "plt.title('ROC curve')\n",
    "# x label\n",
    "plt.xlabel('False Positive Rate')\n",
    "# y label\n",
    "plt.ylabel('True Positive rate')\n",
    "\n",
    "plt.legend(loc='best')\n",
    "plt.show()"
   ]
  }
 ],
 "metadata": {
  "kernelspec": {
   "display_name": "Python [conda env:tensorflow_cpu] *",
   "language": "python",
   "name": "conda-env-tensorflow_cpu-py"
  },
  "language_info": {
   "codemirror_mode": {
    "name": "ipython",
    "version": 3
   },
   "file_extension": ".py",
   "mimetype": "text/x-python",
   "name": "python",
   "nbconvert_exporter": "python",
   "pygments_lexer": "ipython3",
   "version": "3.6.10"
  }
 },
 "nbformat": 4,
 "nbformat_minor": 4
}
