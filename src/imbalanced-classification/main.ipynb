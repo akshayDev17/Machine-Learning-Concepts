{
 "cells": [
  {
   "cell_type": "code",
   "execution_count": 1,
   "metadata": {},
   "outputs": [],
   "source": [
    "from sklearn.datasets import make_classification\n",
    "from sklearn.model_selection import train_test_split\n",
    "from sklearn.metrics import brier_score_loss, make_scorer\n",
    "from sklearn.model_selection import GridSearchCV\n",
    "import numpy as np\n",
    "\n",
    "import matplotlib.pyplot as plt"
   ]
  },
  {
   "cell_type": "code",
   "execution_count": 2,
   "metadata": {},
   "outputs": [],
   "source": [
    "X, y = make_classification(\n",
    "    n_samples=1000,\n",
    "    weights=[0.99],\n",
    "    random_state=100\n",
    ")\n",
    "X_train, X_test, y_train, y_test = train_test_split(X,y,test_size=0.2)"
   ]
  },
  {
   "cell_type": "code",
   "execution_count": 3,
   "metadata": {},
   "outputs": [
    {
     "data": {
      "image/png": "[encoded data removed]",
      "text/plain": [
       "<Figure size 432x288 with 1 Axes>"
      ]
     },
     "metadata": {
      "needs_background": "light"
     },
     "output_type": "display_data"
    }
   ],
   "source": [
    "plt.hist(y)\n",
    "plt.show()"
   ]
  },
  {
   "cell_type": "markdown",
   "metadata": {},
   "source": [
    "brier score for the 0-skill model"
   ]
  },
  {
   "cell_type": "code",
   "execution_count": 4,
   "metadata": {},
   "outputs": [
    {
     "name": "stdout",
     "output_type": "stream",
     "text": [
      "Brier score for 0-skill classifier model, for P(class1=0) is 0.0197\n",
      "Brier score for 0-skill classifier model, for P(class1=1) is 0.98\n"
     ]
    }
   ],
   "source": [
    "prob_arr = [0.01 for _ in range(y_test.shape[0])]\n",
    "brier_ref = brier_score_loss(y_test, prob_arr)\n",
    "print(\"Brier score for 0-skill classifier model, for P(class1=0) is {}\".format(round(brier_ref, 5)))\n",
    "\n",
    "prob_arr = [1.0 for _ in range(y_test.shape[0])]\n",
    "brier_ref = brier_score_loss(y_test, prob_arr)\n",
    "print(\"Brier score for 0-skill classifier model, for P(class1=1) is {}\".format(round(brier_ref, 5)))"
   ]
  },
  {
   "cell_type": "markdown",
   "metadata": {},
   "source": [
    "define the brier skill score"
   ]
  },
  {
   "cell_type": "code",
   "execution_count": 5,
   "metadata": {},
   "outputs": [],
   "source": [
    "def bss(y_test, prob_arr):\n",
    "    ref_prob_arr = [0.01 for _ in range(y_test.shape[0])]\n",
    "    brier_ref = brier_score_loss(y_test, ref_prob_arr)\n",
    "    brier_score = brier_score_loss(y_test, prob_arr)\n",
    "    return round(1-(brier_score/brier_ref), 5)\n",
    "\n",
    "bss_scorer = make_scorer(bss, needs_proba=True)"
   ]
  },
  {
   "cell_type": "markdown",
   "metadata": {},
   "source": [
    "lets see the perfect bss"
   ]
  },
  {
   "cell_type": "code",
   "execution_count": 6,
   "metadata": {},
   "outputs": [
    {
     "name": "stdout",
     "output_type": "stream",
     "text": [
      "Perfect BSS is 1.0\n"
     ]
    }
   ],
   "source": [
    "print(\"Perfect BSS is {}\".format(bss(y_test, y_test)))"
   ]
  },
  {
   "cell_type": "code",
   "execution_count": 7,
   "metadata": {},
   "outputs": [],
   "source": [
    "from sklearn.neighbors import KNeighborsClassifier\n",
    "from sklearn.svm import SVC"
   ]
  },
  {
   "cell_type": "markdown",
   "metadata": {},
   "source": [
    "Testing Brier score for SVC"
   ]
  },
  {
   "cell_type": "code",
   "execution_count": 8,
   "metadata": {},
   "outputs": [
    {
     "name": "stdout",
     "output_type": "stream",
     "text": [
      "[0 1]\n",
      "Brier skill score for SVM classifier model is 0.15818\n"
     ]
    }
   ],
   "source": [
    "svc = SVC(probability=True)\n",
    "svc.fit(X_train, y_train)\n",
    "pred_prob = svc.predict_proba(X_test)\n",
    "print(svc.classes_)\n",
    "print(\"Brier skill score for SVM classifier model is {}\".format(bss(y_test, pred_prob[:, 1])))"
   ]
  },
  {
   "cell_type": "code",
   "execution_count": 11,
   "metadata": {},
   "outputs": [
    {
     "name": "stdout",
     "output_type": "stream",
     "text": [
      "[0 0 0 0 0] [0.0038701  0.02729082 0.01695708 0.02032525 0.02347346]\n"
     ]
    }
   ],
   "source": [
    "print(y_test[:5], pred_prob[:5, 1])"
   ]
  },
  {
   "cell_type": "code",
   "execution_count": 14,
   "metadata": {},
   "outputs": [
    {
     "name": "stdout",
     "output_type": "stream",
     "text": [
      "[1 1 1 1] \n",
      " [[0.9766328  0.0233672 ]\n",
      " [0.99605361 0.00394639]\n",
      " [0.33689147 0.66310853]\n",
      " [0.99424135 0.00575865]]\n"
     ]
    }
   ],
   "source": [
    "print(y_test[y_test == 1], \"\\n\", pred_prob[y_test == 1])"
   ]
  },
  {
   "cell_type": "markdown",
   "metadata": {},
   "source": [
    "Testing BSS for kNN"
   ]
  },
  {
   "cell_type": "code",
   "execution_count": 27,
   "metadata": {},
   "outputs": [
    {
     "name": "stdout",
     "output_type": "stream",
     "text": [
      "[0 1]\n"
     ]
    }
   ],
   "source": [
    "knc = KNeighborsClassifier()\n",
    "\n",
    "knc_param_dict = {\n",
    "    \"n_neighbors\":[i for i in range(1, 11)],\n",
    "    \"weights\": ['uniform', 'distance'],\n",
    "    \"algorithm\": ['auto', 'ball_tree', 'kd_tree', 'brute'],\n",
    "    \"leaf_size\": [i for i in range(10, 100, 10)],\n",
    "    \"p\": [i for i in range(1, 11)]\n",
    "}\n",
    "cv_model = GridSearchCV(estimator=knc, param_grid=knc_param_dict, scoring=bss_scorer, n_jobs=2)\n",
    "cv_model.fit(X_train, y_train)\n",
    "best_knc = cv_model.best_estimator_\n",
    "best_knc.fit(X_train, y_train)\n",
    "pred_prob = best_knc.predict_proba(X_test)\n",
    "print(best_knc.classes_)\n",
    "\n",
    "# print(\"Brier skill score for KNN classifier model is {}\".format(bss(y_test, pred_prob[:, 1])))"
   ]
  },
  {
   "cell_type": "code",
   "execution_count": 29,
   "metadata": {},
   "outputs": [
    {
     "name": "stdout",
     "output_type": "stream",
     "text": [
      "Best model params are \n",
      "{'algorithm': 'auto', 'leaf_size': 10, 'n_neighbors': 9, 'p': 1, 'weights': 'distance'}\n",
      "\n",
      "\n",
      "Brier skill score for KNN classifier model is 0.11552799999999999\n"
     ]
    }
   ],
   "source": [
    "print(\"Best model params are \\n{}\\n\\n\".format(cv_model.best_params_))\n",
    "print(\"Brier skill score for KNN classifier model is {}\".format(cv_model.best_score_))"
   ]
  },
  {
   "cell_type": "code",
   "execution_count": 30,
   "metadata": {
    "scrolled": true
   },
   "outputs": [
    {
     "data": {
      "text/html": [
       "<div>\n",
       "<style scoped>\n",
       "    .dataframe tbody tr th:only-of-type {\n",
       "        vertical-align: middle;\n",
       "    }\n",
       "\n",
       "    .dataframe tbody tr th {\n",
       "        vertical-align: top;\n",
       "    }\n",
       "\n",
       "    .dataframe thead th {\n",
       "        text-align: right;\n",
       "    }\n",
       "</style>\n",
       "<table border=\"1\" class=\"dataframe\">\n",
       "  <thead>\n",
       "    <tr style=\"text-align: right;\">\n",
       "      <th></th>\n",
       "      <th>mean_fit_time</th>\n",
       "      <th>std_fit_time</th>\n",
       "      <th>mean_score_time</th>\n",
       "      <th>std_score_time</th>\n",
       "      <th>param_algorithm</th>\n",
       "      <th>param_leaf_size</th>\n",
       "      <th>param_n_neighbors</th>\n",
       "      <th>param_p</th>\n",
       "      <th>param_weights</th>\n",
       "      <th>params</th>\n",
       "      <th>split0_test_score</th>\n",
       "      <th>split1_test_score</th>\n",
       "      <th>split2_test_score</th>\n",
       "      <th>split3_test_score</th>\n",
       "      <th>split4_test_score</th>\n",
       "      <th>mean_test_score</th>\n",
       "      <th>std_test_score</th>\n",
       "      <th>rank_test_score</th>\n",
       "    </tr>\n",
       "  </thead>\n",
       "  <tbody>\n",
       "    <tr>\n",
       "      <th>0</th>\n",
       "      <td>0.001690</td>\n",
       "      <td>0.000190</td>\n",
       "      <td>0.007181</td>\n",
       "      <td>0.000638</td>\n",
       "      <td>auto</td>\n",
       "      <td>10</td>\n",
       "      <td>1</td>\n",
       "      <td>1</td>\n",
       "      <td>uniform</td>\n",
       "      <td>{'algorithm': 'auto', 'leaf_size': 10, 'n_neig...</td>\n",
       "      <td>-0.51822</td>\n",
       "      <td>-1.70636</td>\n",
       "      <td>-0.01488</td>\n",
       "      <td>-0.01488</td>\n",
       "      <td>-0.01488</td>\n",
       "      <td>-0.453844</td>\n",
       "      <td>0.655898</td>\n",
       "      <td>7129</td>\n",
       "    </tr>\n",
       "    <tr>\n",
       "      <th>1</th>\n",
       "      <td>0.002047</td>\n",
       "      <td>0.000551</td>\n",
       "      <td>0.007845</td>\n",
       "      <td>0.000507</td>\n",
       "      <td>auto</td>\n",
       "      <td>10</td>\n",
       "      <td>1</td>\n",
       "      <td>1</td>\n",
       "      <td>distance</td>\n",
       "      <td>{'algorithm': 'auto', 'leaf_size': 10, 'n_neig...</td>\n",
       "      <td>-0.51822</td>\n",
       "      <td>-1.70636</td>\n",
       "      <td>-0.01488</td>\n",
       "      <td>-0.01488</td>\n",
       "      <td>-0.01488</td>\n",
       "      <td>-0.453844</td>\n",
       "      <td>0.655898</td>\n",
       "      <td>7129</td>\n",
       "    </tr>\n",
       "    <tr>\n",
       "      <th>2</th>\n",
       "      <td>0.001737</td>\n",
       "      <td>0.000255</td>\n",
       "      <td>0.008361</td>\n",
       "      <td>0.001223</td>\n",
       "      <td>auto</td>\n",
       "      <td>10</td>\n",
       "      <td>1</td>\n",
       "      <td>2</td>\n",
       "      <td>uniform</td>\n",
       "      <td>{'algorithm': 'auto', 'leaf_size': 10, 'n_neig...</td>\n",
       "      <td>-0.01215</td>\n",
       "      <td>-1.02977</td>\n",
       "      <td>-0.35318</td>\n",
       "      <td>0.32341</td>\n",
       "      <td>-0.01488</td>\n",
       "      <td>-0.217314</td>\n",
       "      <td>0.459129</td>\n",
       "      <td>6625</td>\n",
       "    </tr>\n",
       "    <tr>\n",
       "      <th>3</th>\n",
       "      <td>0.001495</td>\n",
       "      <td>0.000092</td>\n",
       "      <td>0.007949</td>\n",
       "      <td>0.000622</td>\n",
       "      <td>auto</td>\n",
       "      <td>10</td>\n",
       "      <td>1</td>\n",
       "      <td>2</td>\n",
       "      <td>distance</td>\n",
       "      <td>{'algorithm': 'auto', 'leaf_size': 10, 'n_neig...</td>\n",
       "      <td>-0.01215</td>\n",
       "      <td>-1.02977</td>\n",
       "      <td>-0.35318</td>\n",
       "      <td>0.32341</td>\n",
       "      <td>-0.01488</td>\n",
       "      <td>-0.217314</td>\n",
       "      <td>0.459129</td>\n",
       "      <td>6625</td>\n",
       "    </tr>\n",
       "    <tr>\n",
       "      <th>4</th>\n",
       "      <td>0.001552</td>\n",
       "      <td>0.000113</td>\n",
       "      <td>0.128131</td>\n",
       "      <td>0.002738</td>\n",
       "      <td>auto</td>\n",
       "      <td>10</td>\n",
       "      <td>1</td>\n",
       "      <td>3</td>\n",
       "      <td>uniform</td>\n",
       "      <td>{'algorithm': 'auto', 'leaf_size': 10, 'n_neig...</td>\n",
       "      <td>-0.01215</td>\n",
       "      <td>-1.02977</td>\n",
       "      <td>-0.69147</td>\n",
       "      <td>0.66171</td>\n",
       "      <td>-0.01488</td>\n",
       "      <td>-0.217312</td>\n",
       "      <td>0.590028</td>\n",
       "      <td>6553</td>\n",
       "    </tr>\n",
       "    <tr>\n",
       "      <th>...</th>\n",
       "      <td>...</td>\n",
       "      <td>...</td>\n",
       "      <td>...</td>\n",
       "      <td>...</td>\n",
       "      <td>...</td>\n",
       "      <td>...</td>\n",
       "      <td>...</td>\n",
       "      <td>...</td>\n",
       "      <td>...</td>\n",
       "      <td>...</td>\n",
       "      <td>...</td>\n",
       "      <td>...</td>\n",
       "      <td>...</td>\n",
       "      <td>...</td>\n",
       "      <td>...</td>\n",
       "      <td>...</td>\n",
       "      <td>...</td>\n",
       "      <td>...</td>\n",
       "    </tr>\n",
       "    <tr>\n",
       "      <th>7195</th>\n",
       "      <td>0.000452</td>\n",
       "      <td>0.000010</td>\n",
       "      <td>0.155414</td>\n",
       "      <td>0.003145</td>\n",
       "      <td>brute</td>\n",
       "      <td>90</td>\n",
       "      <td>10</td>\n",
       "      <td>8</td>\n",
       "      <td>distance</td>\n",
       "      <td>{'algorithm': 'brute', 'leaf_size': 90, 'n_nei...</td>\n",
       "      <td>-0.16598</td>\n",
       "      <td>-0.09985</td>\n",
       "      <td>-0.12422</td>\n",
       "      <td>0.32079</td>\n",
       "      <td>0.08628</td>\n",
       "      <td>0.003404</td>\n",
       "      <td>0.180689</td>\n",
       "      <td>3421</td>\n",
       "    </tr>\n",
       "    <tr>\n",
       "      <th>7196</th>\n",
       "      <td>0.000465</td>\n",
       "      <td>0.000037</td>\n",
       "      <td>0.154800</td>\n",
       "      <td>0.003063</td>\n",
       "      <td>brute</td>\n",
       "      <td>90</td>\n",
       "      <td>10</td>\n",
       "      <td>9</td>\n",
       "      <td>uniform</td>\n",
       "      <td>{'algorithm': 'brute', 'leaf_size': 90, 'n_nei...</td>\n",
       "      <td>-0.17915</td>\n",
       "      <td>-0.10284</td>\n",
       "      <td>-0.10622</td>\n",
       "      <td>0.29296</td>\n",
       "      <td>0.06969</td>\n",
       "      <td>-0.005112</td>\n",
       "      <td>0.170003</td>\n",
       "      <td>3673</td>\n",
       "    </tr>\n",
       "    <tr>\n",
       "      <th>7197</th>\n",
       "      <td>0.000494</td>\n",
       "      <td>0.000116</td>\n",
       "      <td>0.156747</td>\n",
       "      <td>0.002213</td>\n",
       "      <td>brute</td>\n",
       "      <td>90</td>\n",
       "      <td>10</td>\n",
       "      <td>9</td>\n",
       "      <td>distance</td>\n",
       "      <td>{'algorithm': 'brute', 'leaf_size': 90, 'n_nei...</td>\n",
       "      <td>-0.17451</td>\n",
       "      <td>-0.09345</td>\n",
       "      <td>-0.11170</td>\n",
       "      <td>0.32231</td>\n",
       "      <td>0.07929</td>\n",
       "      <td>0.004388</td>\n",
       "      <td>0.179854</td>\n",
       "      <td>3277</td>\n",
       "    </tr>\n",
       "    <tr>\n",
       "      <th>7198</th>\n",
       "      <td>0.000511</td>\n",
       "      <td>0.000127</td>\n",
       "      <td>0.170259</td>\n",
       "      <td>0.020905</td>\n",
       "      <td>brute</td>\n",
       "      <td>90</td>\n",
       "      <td>10</td>\n",
       "      <td>10</td>\n",
       "      <td>uniform</td>\n",
       "      <td>{'algorithm': 'brute', 'leaf_size': 90, 'n_nei...</td>\n",
       "      <td>-0.15891</td>\n",
       "      <td>-0.09946</td>\n",
       "      <td>-0.10622</td>\n",
       "      <td>0.28958</td>\n",
       "      <td>0.07645</td>\n",
       "      <td>0.000288</td>\n",
       "      <td>0.165002</td>\n",
       "      <td>3529</td>\n",
       "    </tr>\n",
       "    <tr>\n",
       "      <th>7199</th>\n",
       "      <td>0.000525</td>\n",
       "      <td>0.000086</td>\n",
       "      <td>0.199706</td>\n",
       "      <td>0.025829</td>\n",
       "      <td>brute</td>\n",
       "      <td>90</td>\n",
       "      <td>10</td>\n",
       "      <td>10</td>\n",
       "      <td>distance</td>\n",
       "      <td>{'algorithm': 'brute', 'leaf_size': 90, 'n_nei...</td>\n",
       "      <td>-0.15519</td>\n",
       "      <td>-0.09085</td>\n",
       "      <td>-0.11155</td>\n",
       "      <td>0.31801</td>\n",
       "      <td>0.08443</td>\n",
       "      <td>0.008970</td>\n",
       "      <td>0.174721</td>\n",
       "      <td>3025</td>\n",
       "    </tr>\n",
       "  </tbody>\n",
       "</table>\n",
       "<p>7200 rows × 18 columns</p>\n",
       "</div>"
      ],
      "text/plain": [
       "      mean_fit_time  std_fit_time  mean_score_time  std_score_time  \\\n",
       "0          0.001690      0.000190         0.007181        0.000638   \n",
       "1          0.002047      0.000551         0.007845        0.000507   \n",
       "2          0.001737      0.000255         0.008361        0.001223   \n",
       "3          0.001495      0.000092         0.007949        0.000622   \n",
       "4          0.001552      0.000113         0.128131        0.002738   \n",
       "...             ...           ...              ...             ...   \n",
       "7195       0.000452      0.000010         0.155414        0.003145   \n",
       "7196       0.000465      0.000037         0.154800        0.003063   \n",
       "7197       0.000494      0.000116         0.156747        0.002213   \n",
       "7198       0.000511      0.000127         0.170259        0.020905   \n",
       "7199       0.000525      0.000086         0.199706        0.025829   \n",
       "\n",
       "     param_algorithm param_leaf_size param_n_neighbors param_p param_weights  \\\n",
       "0               auto              10                 1       1       uniform   \n",
       "1               auto              10                 1       1      distance   \n",
       "2               auto              10                 1       2       uniform   \n",
       "3               auto              10                 1       2      distance   \n",
       "4               auto              10                 1       3       uniform   \n",
       "...              ...             ...               ...     ...           ...   \n",
       "7195           brute              90                10       8      distance   \n",
       "7196           brute              90                10       9       uniform   \n",
       "7197           brute              90                10       9      distance   \n",
       "7198           brute              90                10      10       uniform   \n",
       "7199           brute              90                10      10      distance   \n",
       "\n",
       "                                                 params  split0_test_score  \\\n",
       "0     {'algorithm': 'auto', 'leaf_size': 10, 'n_neig...           -0.51822   \n",
       "1     {'algorithm': 'auto', 'leaf_size': 10, 'n_neig...           -0.51822   \n",
       "2     {'algorithm': 'auto', 'leaf_size': 10, 'n_neig...           -0.01215   \n",
       "3     {'algorithm': 'auto', 'leaf_size': 10, 'n_neig...           -0.01215   \n",
       "4     {'algorithm': 'auto', 'leaf_size': 10, 'n_neig...           -0.01215   \n",
       "...                                                 ...                ...   \n",
       "7195  {'algorithm': 'brute', 'leaf_size': 90, 'n_nei...           -0.16598   \n",
       "7196  {'algorithm': 'brute', 'leaf_size': 90, 'n_nei...           -0.17915   \n",
       "7197  {'algorithm': 'brute', 'leaf_size': 90, 'n_nei...           -0.17451   \n",
       "7198  {'algorithm': 'brute', 'leaf_size': 90, 'n_nei...           -0.15891   \n",
       "7199  {'algorithm': 'brute', 'leaf_size': 90, 'n_nei...           -0.15519   \n",
       "\n",
       "      split1_test_score  split2_test_score  split3_test_score  \\\n",
       "0              -1.70636           -0.01488           -0.01488   \n",
       "1              -1.70636           -0.01488           -0.01488   \n",
       "2              -1.02977           -0.35318            0.32341   \n",
       "3              -1.02977           -0.35318            0.32341   \n",
       "4              -1.02977           -0.69147            0.66171   \n",
       "...                 ...                ...                ...   \n",
       "7195           -0.09985           -0.12422            0.32079   \n",
       "7196           -0.10284           -0.10622            0.29296   \n",
       "7197           -0.09345           -0.11170            0.32231   \n",
       "7198           -0.09946           -0.10622            0.28958   \n",
       "7199           -0.09085           -0.11155            0.31801   \n",
       "\n",
       "      split4_test_score  mean_test_score  std_test_score  rank_test_score  \n",
       "0              -0.01488        -0.453844        0.655898             7129  \n",
       "1              -0.01488        -0.453844        0.655898             7129  \n",
       "2              -0.01488        -0.217314        0.459129             6625  \n",
       "3              -0.01488        -0.217314        0.459129             6625  \n",
       "4              -0.01488        -0.217312        0.590028             6553  \n",
       "...                 ...              ...             ...              ...  \n",
       "7195            0.08628         0.003404        0.180689             3421  \n",
       "7196            0.06969        -0.005112        0.170003             3673  \n",
       "7197            0.07929         0.004388        0.179854             3277  \n",
       "7198            0.07645         0.000288        0.165002             3529  \n",
       "7199            0.08443         0.008970        0.174721             3025  \n",
       "\n",
       "[7200 rows x 18 columns]"
      ]
     },
     "metadata": {},
     "output_type": "display_data"
    }
   ],
   "source": [
    "import pandas as pd\n",
    "from IPython.display import display\n",
    "\n",
    "df = pd.DataFrame(cv_model.cv_results_)\n",
    "display(df)"
   ]
  },
  {
   "cell_type": "markdown",
   "metadata": {},
   "source": [
    "# Imbalanced Datasets\n",
    "\n",
    "The [credit card fraud detection](https://www.kaggle.com/mlg-ulb/creditcardfraud) dataset will be used \\\n",
    "The **Class** column in the dataset indicates whether the card is fraud or not.\n"
   ]
  },
  {
   "cell_type": "code",
   "execution_count": 1,
   "metadata": {},
   "outputs": [
    {
     "name": "stdout",
     "output_type": "stream",
     "text": [
      "Requirement already satisfied: imbalanced-learn in /home/laferrari/anaconda3/envs/tensorflow_cpu/lib/python3.6/site-packages (0.7.0)\n",
      "Requirement already satisfied: scipy>=0.19.1 in /home/laferrari/anaconda3/envs/tensorflow_cpu/lib/python3.6/site-packages (from imbalanced-learn) (1.4.1)\n",
      "Requirement already satisfied: scikit-learn>=0.23 in /home/laferrari/anaconda3/envs/tensorflow_cpu/lib/python3.6/site-packages (from imbalanced-learn) (0.23.2)\n",
      "Requirement already satisfied: joblib>=0.11 in /home/laferrari/anaconda3/envs/tensorflow_cpu/lib/python3.6/site-packages (from imbalanced-learn) (0.16.0)\n",
      "Requirement already satisfied: numpy>=1.13.3 in /home/laferrari/anaconda3/envs/tensorflow_cpu/lib/python3.6/site-packages (from imbalanced-learn) (1.19.1)\n",
      "Requirement already satisfied: threadpoolctl>=2.0.0 in /home/laferrari/anaconda3/envs/tensorflow_cpu/lib/python3.6/site-packages (from scikit-learn>=0.23->imbalanced-learn) (2.1.0)\n",
      "\u001b[33mWARNING: You are using pip version 20.1.1; however, version 20.2.3 is available.\n",
      "You should consider upgrading via the '/home/laferrari/anaconda3/envs/tensorflow_cpu/bin/python -m pip install --upgrade pip' command.\u001b[0m\n"
     ]
    }
   ],
   "source": [
    "!pip install imbalanced-learn"
   ]
  },
  {
   "cell_type": "code",
   "execution_count": 2,
   "metadata": {},
   "outputs": [
    {
     "name": "stdout",
     "output_type": "stream",
     "text": [
      "Archive:  credit-card-fraud-dataset.zip\n",
      "  inflating: creditcard.csv          \n"
     ]
    }
   ],
   "source": [
    "import os\n",
    "zipPath = \"\"\n",
    "for fileName in os.listdir(\"./\"):\n",
    "    if fileName.endswith(\".zip\"):\n",
    "        zipPath = os.path.relpath(fileName)\n",
    "!unzip {zipPath}"
   ]
  },
  {
   "cell_type": "code",
   "execution_count": 4,
   "metadata": {},
   "outputs": [
    {
     "data": {
      "text/html": [
       "<div>\n",
       "<style scoped>\n",
       "    .dataframe tbody tr th:only-of-type {\n",
       "        vertical-align: middle;\n",
       "    }\n",
       "\n",
       "    .dataframe tbody tr th {\n",
       "        vertical-align: top;\n",
       "    }\n",
       "\n",
       "    .dataframe thead th {\n",
       "        text-align: right;\n",
       "    }\n",
       "</style>\n",
       "<table border=\"1\" class=\"dataframe\">\n",
       "  <thead>\n",
       "    <tr style=\"text-align: right;\">\n",
       "      <th></th>\n",
       "      <th>Time</th>\n",
       "      <th>V1</th>\n",
       "      <th>V2</th>\n",
       "      <th>V3</th>\n",
       "      <th>V4</th>\n",
       "      <th>V5</th>\n",
       "      <th>V6</th>\n",
       "      <th>V7</th>\n",
       "      <th>V8</th>\n",
       "      <th>V9</th>\n",
       "      <th>...</th>\n",
       "      <th>V21</th>\n",
       "      <th>V22</th>\n",
       "      <th>V23</th>\n",
       "      <th>V24</th>\n",
       "      <th>V25</th>\n",
       "      <th>V26</th>\n",
       "      <th>V27</th>\n",
       "      <th>V28</th>\n",
       "      <th>Amount</th>\n",
       "      <th>Class</th>\n",
       "    </tr>\n",
       "  </thead>\n",
       "  <tbody>\n",
       "    <tr>\n",
       "      <th>0</th>\n",
       "      <td>0.0</td>\n",
       "      <td>-1.359807</td>\n",
       "      <td>-0.072781</td>\n",
       "      <td>2.536347</td>\n",
       "      <td>1.378155</td>\n",
       "      <td>-0.338321</td>\n",
       "      <td>0.462388</td>\n",
       "      <td>0.239599</td>\n",
       "      <td>0.098698</td>\n",
       "      <td>0.363787</td>\n",
       "      <td>...</td>\n",
       "      <td>-0.018307</td>\n",
       "      <td>0.277838</td>\n",
       "      <td>-0.110474</td>\n",
       "      <td>0.066928</td>\n",
       "      <td>0.128539</td>\n",
       "      <td>-0.189115</td>\n",
       "      <td>0.133558</td>\n",
       "      <td>-0.021053</td>\n",
       "      <td>149.62</td>\n",
       "      <td>0</td>\n",
       "    </tr>\n",
       "    <tr>\n",
       "      <th>1</th>\n",
       "      <td>0.0</td>\n",
       "      <td>1.191857</td>\n",
       "      <td>0.266151</td>\n",
       "      <td>0.166480</td>\n",
       "      <td>0.448154</td>\n",
       "      <td>0.060018</td>\n",
       "      <td>-0.082361</td>\n",
       "      <td>-0.078803</td>\n",
       "      <td>0.085102</td>\n",
       "      <td>-0.255425</td>\n",
       "      <td>...</td>\n",
       "      <td>-0.225775</td>\n",
       "      <td>-0.638672</td>\n",
       "      <td>0.101288</td>\n",
       "      <td>-0.339846</td>\n",
       "      <td>0.167170</td>\n",
       "      <td>0.125895</td>\n",
       "      <td>-0.008983</td>\n",
       "      <td>0.014724</td>\n",
       "      <td>2.69</td>\n",
       "      <td>0</td>\n",
       "    </tr>\n",
       "    <tr>\n",
       "      <th>2</th>\n",
       "      <td>1.0</td>\n",
       "      <td>-1.358354</td>\n",
       "      <td>-1.340163</td>\n",
       "      <td>1.773209</td>\n",
       "      <td>0.379780</td>\n",
       "      <td>-0.503198</td>\n",
       "      <td>1.800499</td>\n",
       "      <td>0.791461</td>\n",
       "      <td>0.247676</td>\n",
       "      <td>-1.514654</td>\n",
       "      <td>...</td>\n",
       "      <td>0.247998</td>\n",
       "      <td>0.771679</td>\n",
       "      <td>0.909412</td>\n",
       "      <td>-0.689281</td>\n",
       "      <td>-0.327642</td>\n",
       "      <td>-0.139097</td>\n",
       "      <td>-0.055353</td>\n",
       "      <td>-0.059752</td>\n",
       "      <td>378.66</td>\n",
       "      <td>0</td>\n",
       "    </tr>\n",
       "    <tr>\n",
       "      <th>3</th>\n",
       "      <td>1.0</td>\n",
       "      <td>-0.966272</td>\n",
       "      <td>-0.185226</td>\n",
       "      <td>1.792993</td>\n",
       "      <td>-0.863291</td>\n",
       "      <td>-0.010309</td>\n",
       "      <td>1.247203</td>\n",
       "      <td>0.237609</td>\n",
       "      <td>0.377436</td>\n",
       "      <td>-1.387024</td>\n",
       "      <td>...</td>\n",
       "      <td>-0.108300</td>\n",
       "      <td>0.005274</td>\n",
       "      <td>-0.190321</td>\n",
       "      <td>-1.175575</td>\n",
       "      <td>0.647376</td>\n",
       "      <td>-0.221929</td>\n",
       "      <td>0.062723</td>\n",
       "      <td>0.061458</td>\n",
       "      <td>123.50</td>\n",
       "      <td>0</td>\n",
       "    </tr>\n",
       "    <tr>\n",
       "      <th>4</th>\n",
       "      <td>2.0</td>\n",
       "      <td>-1.158233</td>\n",
       "      <td>0.877737</td>\n",
       "      <td>1.548718</td>\n",
       "      <td>0.403034</td>\n",
       "      <td>-0.407193</td>\n",
       "      <td>0.095921</td>\n",
       "      <td>0.592941</td>\n",
       "      <td>-0.270533</td>\n",
       "      <td>0.817739</td>\n",
       "      <td>...</td>\n",
       "      <td>-0.009431</td>\n",
       "      <td>0.798278</td>\n",
       "      <td>-0.137458</td>\n",
       "      <td>0.141267</td>\n",
       "      <td>-0.206010</td>\n",
       "      <td>0.502292</td>\n",
       "      <td>0.219422</td>\n",
       "      <td>0.215153</td>\n",
       "      <td>69.99</td>\n",
       "      <td>0</td>\n",
       "    </tr>\n",
       "  </tbody>\n",
       "</table>\n",
       "<p>5 rows × 31 columns</p>\n",
       "</div>"
      ],
      "text/plain": [
       "   Time        V1        V2        V3        V4        V5        V6        V7  \\\n",
       "0   0.0 -1.359807 -0.072781  2.536347  1.378155 -0.338321  0.462388  0.239599   \n",
       "1   0.0  1.191857  0.266151  0.166480  0.448154  0.060018 -0.082361 -0.078803   \n",
       "2   1.0 -1.358354 -1.340163  1.773209  0.379780 -0.503198  1.800499  0.791461   \n",
       "3   1.0 -0.966272 -0.185226  1.792993 -0.863291 -0.010309  1.247203  0.237609   \n",
       "4   2.0 -1.158233  0.877737  1.548718  0.403034 -0.407193  0.095921  0.592941   \n",
       "\n",
       "         V8        V9  ...       V21       V22       V23       V24       V25  \\\n",
       "0  0.098698  0.363787  ... -0.018307  0.277838 -0.110474  0.066928  0.128539   \n",
       "1  0.085102 -0.255425  ... -0.225775 -0.638672  0.101288 -0.339846  0.167170   \n",
       "2  0.247676 -1.514654  ...  0.247998  0.771679  0.909412 -0.689281 -0.327642   \n",
       "3  0.377436 -1.387024  ... -0.108300  0.005274 -0.190321 -1.175575  0.647376   \n",
       "4 -0.270533  0.817739  ... -0.009431  0.798278 -0.137458  0.141267 -0.206010   \n",
       "\n",
       "        V26       V27       V28  Amount  Class  \n",
       "0 -0.189115  0.133558 -0.021053  149.62      0  \n",
       "1  0.125895 -0.008983  0.014724    2.69      0  \n",
       "2 -0.139097 -0.055353 -0.059752  378.66      0  \n",
       "3 -0.221929  0.062723  0.061458  123.50      0  \n",
       "4  0.502292  0.219422  0.215153   69.99      0  \n",
       "\n",
       "[5 rows x 31 columns]"
      ]
     },
     "metadata": {},
     "output_type": "display_data"
    },
    {
     "name": "stdout",
     "output_type": "stream",
     "text": [
      "Time      float64\n",
      "V1        float64\n",
      "V2        float64\n",
      "V3        float64\n",
      "V4        float64\n",
      "V5        float64\n",
      "V6        float64\n",
      "V7        float64\n",
      "V8        float64\n",
      "V9        float64\n",
      "V10       float64\n",
      "V11       float64\n",
      "V12       float64\n",
      "V13       float64\n",
      "V14       float64\n",
      "V15       float64\n",
      "V16       float64\n",
      "V17       float64\n",
      "V18       float64\n",
      "V19       float64\n",
      "V20       float64\n",
      "V21       float64\n",
      "V22       float64\n",
      "V23       float64\n",
      "V24       float64\n",
      "V25       float64\n",
      "V26       float64\n",
      "V27       float64\n",
      "V28       float64\n",
      "Amount    float64\n",
      "Class       int64\n",
      "dtype: object\n"
     ]
    }
   ],
   "source": [
    "import pandas as pd\n",
    "import matplotlib.pyplot as plt\n",
    "import seaborn as sb\n",
    "from IPython.display import display\n",
    "\n",
    "df = pd.read_csv(\"./creditcard.csv\")\n",
    "display(df.head())\n",
    "\n",
    "print(df.dtypes)"
   ]
  },
  {
   "cell_type": "markdown",
   "metadata": {},
   "source": [
    "firstly, it is clear that no categorical encoding is needed since all variables are either continuous or discrete"
   ]
  },
  {
   "cell_type": "code",
   "execution_count": 5,
   "metadata": {},
   "outputs": [
    {
     "name": "stdout",
     "output_type": "stream",
     "text": [
      "(284807, 31)\n"
     ]
    }
   ],
   "source": [
    "print(df.shape)"
   ]
  },
  {
   "cell_type": "code",
   "execution_count": 7,
   "metadata": {},
   "outputs": [
    {
     "name": "stdout",
     "output_type": "stream",
     "text": [
      "Time      0\n",
      "V1        0\n",
      "V2        0\n",
      "V3        0\n",
      "V4        0\n",
      "V5        0\n",
      "V6        0\n",
      "V7        0\n",
      "V8        0\n",
      "V9        0\n",
      "V10       0\n",
      "V11       0\n",
      "V12       0\n",
      "V13       0\n",
      "V14       0\n",
      "V15       0\n",
      "V16       0\n",
      "V17       0\n",
      "V18       0\n",
      "V19       0\n",
      "V20       0\n",
      "V21       0\n",
      "V22       0\n",
      "V23       0\n",
      "V24       0\n",
      "V25       0\n",
      "V26       0\n",
      "V27       0\n",
      "V28       0\n",
      "Amount    0\n",
      "Class     0\n",
      "dtype: int64\n"
     ]
    }
   ],
   "source": [
    "print(df.isnull().sum())"
   ]
  },
  {
   "cell_type": "markdown",
   "metadata": {},
   "source": [
    "Good, so no null values are present in this dataset"
   ]
  },
  {
   "cell_type": "code",
   "execution_count": 10,
   "metadata": {},
   "outputs": [
    {
     "data": {
      "text/plain": [
       "0    284315\n",
       "1       492\n",
       "Name: Class, dtype: int64"
      ]
     },
     "execution_count": 10,
     "metadata": {},
     "output_type": "execute_result"
    }
   ],
   "source": [
    "df['Class'].value_counts()"
   ]
  },
  {
   "cell_type": "markdown",
   "metadata": {},
   "source": [
    "Hence positive classes are so many, and negative classes are so less compared to them."
   ]
  },
  {
   "cell_type": "code",
   "execution_count": 18,
   "metadata": {},
   "outputs": [],
   "source": [
    "x, y = df.drop(\"Class\", axis=1), df['Class']\n",
    "\n",
    "from sklearn.model_selection import train_test_split\n",
    "x_train, x_test, y_train, y_test = train_test_split(x, y, train_size=0.7)"
   ]
  },
  {
   "cell_type": "code",
   "execution_count": 19,
   "metadata": {},
   "outputs": [],
   "source": [
    "import numpy as np\n",
    "\n",
    "from sklearn.linear_model import LogisticRegression\n",
    "from sklearn.metrics import accuracy_score, confusion_matrix, classification_report\n",
    "from sklearn.model_selection import KFold, GridSearchCV\n",
    "\n",
    "lc = LogisticRegression()\n",
    "grid = {\n",
    "    'C': 10.0**np.arange(-2, 3),\n",
    "    'penalty': ['l1', 'l2'] # regularisation method\n",
    "}\n",
    "cv = KFold(n_splits=5, shuffle=False, random_state=42)"
   ]
  },
  {
   "cell_type": "code",
   "execution_count": 21,
   "metadata": {},
   "outputs": [
    {
     "name": "stderr",
     "output_type": "stream",
     "text": [
      "/home/laferrari/anaconda3/envs/tensorflow_cpu/lib/python3.6/site-packages/sklearn/linear_model/_logistic.py:764: ConvergenceWarning: lbfgs failed to converge (status=1):\n",
      "STOP: TOTAL NO. of ITERATIONS REACHED LIMIT.\n",
      "\n",
      "Increase the number of iterations (max_iter) or scale the data as shown in:\n",
      "    https://scikit-learn.org/stable/modules/preprocessing.html\n",
      "Please also refer to the documentation for alternative solver options:\n",
      "    https://scikit-learn.org/stable/modules/linear_model.html#logistic-regression\n",
      "  extra_warning_msg=_LOGISTIC_SOLVER_CONVERGENCE_MSG)\n"
     ]
    },
    {
     "data": {
      "text/plain": [
       "GridSearchCV(cv=KFold(n_splits=5, random_state=42, shuffle=False),\n",
       "             estimator=LogisticRegression(), n_jobs=-1,\n",
       "             param_grid={'C': array([1.e-02, 1.e-01, 1.e+00, 1.e+01, 1.e+02]),\n",
       "                         'penalty': ['l1', 'l2']},\n",
       "             scoring='f1_macro')"
      ]
     },
     "execution_count": 21,
     "metadata": {},
     "output_type": "execute_result"
    }
   ],
   "source": [
    "gS = GridSearchCV(\n",
    "    lc,\n",
    "    grid,\n",
    "    n_jobs=-1,\n",
    "    cv=cv,\n",
    "    scoring='f1_macro'\n",
    ")\n",
    "gS.fit(x_train.values, y_train.values)"
   ]
  },
  {
   "cell_type": "code",
   "execution_count": 22,
   "metadata": {},
   "outputs": [
    {
     "name": "stdout",
     "output_type": "stream",
     "text": [
      "accuracy =  0.9990988144142879\n"
     ]
    }
   ],
   "source": [
    "clf = gS.best_estimator_\n",
    "y_pred = clf.predict(x_test.values)\n",
    "print(\"accuracy = \", accuracy_score(y_pred, y_test))"
   ]
  },
  {
   "cell_type": "code",
   "execution_count": 23,
   "metadata": {},
   "outputs": [
    {
     "name": "stdout",
     "output_type": "stream",
     "text": [
      "[[85261    31]\n",
      " [   46   105]]\n",
      "\n",
      "              precision    recall  f1-score   support\n",
      "\n",
      "           0       1.00      1.00      1.00     85292\n",
      "           1       0.77      0.70      0.73       151\n",
      "\n",
      "    accuracy                           1.00     85443\n",
      "   macro avg       0.89      0.85      0.87     85443\n",
      "weighted avg       1.00      1.00      1.00     85443\n",
      "\n"
     ]
    }
   ],
   "source": [
    "print(confusion_matrix(y_test, y_pred))\n",
    "print()\n",
    "print(classification_report(y_test, y_pred))"
   ]
  },
  {
   "cell_type": "markdown",
   "metadata": {},
   "source": [
    "Its usually believed that imbalanced dataset does not heavily impact the decision-trees and random-forest ensemble techniques"
   ]
  },
  {
   "cell_type": "code",
   "execution_count": 30,
   "metadata": {},
   "outputs": [
    {
     "name": "stdout",
     "output_type": "stream",
     "text": [
      "accuracy =  0.9994967405170698\n",
      "[[85286     6]\n",
      " [   37   114]]\n",
      "\n",
      "              precision    recall  f1-score   support\n",
      "\n",
      "           0       1.00      1.00      1.00     85292\n",
      "           1       0.95      0.75      0.84       151\n",
      "\n",
      "    accuracy                           1.00     85443\n",
      "   macro avg       0.97      0.88      0.92     85443\n",
      "weighted avg       1.00      1.00      1.00     85443\n",
      "\n"
     ]
    }
   ],
   "source": [
    "from sklearn.ensemble import RandomForestClassifier as RFC\n",
    "rfc = RFC()\n",
    "rfc.fit(x_train.values, y_train.values)\n",
    "\n",
    "y_pred = rfc.predict(x_test.values)\n",
    "pred_prob1 = rfc.predict_proba(x_test)\n",
    "\n",
    "print(\"accuracy = \", accuracy_score(y_pred, y_test))\n",
    "print(confusion_matrix(y_test, y_pred))\n",
    "print()\n",
    "print(classification_report(y_test, y_pred))"
   ]
  },
  {
   "cell_type": "code",
   "execution_count": 33,
   "metadata": {},
   "outputs": [
    {
     "name": "stdout",
     "output_type": "stream",
     "text": [
      "0.8774482704215483\n",
      "Threshold value for random forest classifier is:  (52,) fpr shape is (52,)\n"
     ]
    },
    {
     "data": {
      "image/png": "[encoded data removed]",
      "text/plain": [
       "<Figure size 432x288 with 1 Axes>"
      ]
     },
     "metadata": {
      "needs_background": "light"
     },
     "output_type": "display_data"
    }
   ],
   "source": [
    "from sklearn.metrics import roc_auc_score, roc_curve\n",
    "print(roc_auc_score(y_test, y_pred, average=None))\n",
    "\n",
    "fpr1, tpr1, thresh1 = roc_curve(y_test, pred_prob1[:,1])\n",
    "\n",
    "# roc curve for tpr = fpr \n",
    "random_probs = [0 for i in range(len(y_test))]\n",
    "p_fpr, p_tpr, _ = roc_curve(y_test, random_probs, pos_label=1)\n",
    "\n",
    "print(\"Threshold value for random forest classifier is: \", thresh1.shape, \n",
    "      \"fpr shape is\", fpr1.shape\n",
    "     )\n",
    "\n",
    "plt.plot(fpr1, tpr1, color='orange', label='Random forest')\n",
    "plt.plot(p_fpr, p_tpr, color='blue')\n",
    "\n",
    "# title\n",
    "plt.title('ROC curve')\n",
    "# x label\n",
    "plt.xlabel('False Positive Rate')\n",
    "# y label\n",
    "plt.ylabel('True Positive rate')\n",
    "\n",
    "plt.legend(loc='best')\n",
    "plt.show()"
   ]
  },
  {
   "cell_type": "markdown",
   "metadata": {},
   "source": [
    "# Under-sampling\n",
    "\n",
    "* reduce the total number of samples for the class that the distribution is biased towards, i.e. the class having many more samples than some other class(es)\n",
    "* should be used when the ratio is too skewed, i.e. extent of imbalance in the dataset is a lot.\n",
    "* for NearMiss method of under sampling\n",
    "    * $\\alpha = \\frac{\\textrm{N}_{\\textrm{m}}}{\\textrm{N}_{\\textrm{rM}}}$, is the value being provided as a parameter to the function call of NearMiss\n",
    "    * $\\textrm{N}_{\\textrm{m}}$ = number of samples in the minority class after under sampling\\\n",
    "    $\\textrm{N}_{\\textrm{rM}}$ = number of samples in the Majority class after under sampling"
   ]
  },
  {
   "cell_type": "code",
   "execution_count": 38,
   "metadata": {},
   "outputs": [
    {
     "name": "stderr",
     "output_type": "stream",
     "text": [
      "/home/laferrari/anaconda3/envs/tensorflow_cpu/lib/python3.6/site-packages/imblearn/utils/_validation.py:638: FutureWarning: Pass sampling_strategy=0.8 as keyword args. From version 0.9 passing these as positional arguments will result in an error\n",
      "  FutureWarning)\n"
     ]
    },
    {
     "name": "stdout",
     "output_type": "stream",
     "text": [
      "0    426\n",
      "1    341\n",
      "Name: Class, dtype: int64\n"
     ]
    }
   ],
   "source": [
    "from imblearn.under_sampling import NearMiss\n",
    "nm = NearMiss(0.8) # reduce to 80% of original data\n",
    "x_train_new, y_train_new = nm.fit_sample(x_train, y_train)\n",
    "print(y_train_new.value_counts())"
   ]
  },
  {
   "cell_type": "code",
   "execution_count": 42,
   "metadata": {},
   "outputs": [
    {
     "name": "stdout",
     "output_type": "stream",
     "text": [
      "accuracy =  0.47511206301276876\n",
      "[[40449 44843]\n",
      " [    5   146]]\n",
      "\n",
      "              precision    recall  f1-score   support\n",
      "\n",
      "           0       1.00      0.47      0.64     85292\n",
      "           1       0.00      0.97      0.01       151\n",
      "\n",
      "    accuracy                           0.48     85443\n",
      "   macro avg       0.50      0.72      0.32     85443\n",
      "weighted avg       1.00      0.48      0.64     85443\n",
      "\n",
      "0.7205644233304647\n",
      "Threshold value for random forest classifier is:  (102,) fpr shape is (102,)\n"
     ]
    },
    {
     "data": {
      "image/png": "[encoded data removed]",
      "text/plain": [
       "<Figure size 432x288 with 1 Axes>"
      ]
     },
     "metadata": {
      "needs_background": "light"
     },
     "output_type": "display_data"
    }
   ],
   "source": [
    "from sklearn.ensemble import RandomForestClassifier as RFC\n",
    "rfc = RFC()\n",
    "rfc.fit(x_train_new.values, y_train_new.values)\n",
    "\n",
    "y_pred = rfc.predict(x_test.values)\n",
    "pred_prob1 = rfc.predict_proba(x_test)\n",
    "\n",
    "print(\"accuracy = \", accuracy_score(y_pred, y_test))\n",
    "print(confusion_matrix(y_test, y_pred))\n",
    "print()\n",
    "print(classification_report(y_test, y_pred))\n",
    "\n",
    "from sklearn.metrics import roc_auc_score, roc_curve\n",
    "print(roc_auc_score(y_test, y_pred, average=None))\n",
    "\n",
    "fpr1, tpr1, thresh1 = roc_curve(y_test, pred_prob1[:,1])\n",
    "\n",
    "# roc curve for tpr = fpr \n",
    "random_probs = [0 for i in range(len(y_test))]\n",
    "p_fpr, p_tpr, _ = roc_curve(y_test, random_probs, pos_label=1)\n",
    "\n",
    "print(\"Threshold value for random forest classifier is: \", thresh1.shape, \n",
    "      \"fpr shape is\", fpr1.shape\n",
    "     )\n",
    "\n",
    "plt.plot(fpr1, tpr1, color='orange', label='Random forest')\n",
    "plt.plot(p_fpr, p_tpr, color='blue')\n",
    "\n",
    "# title\n",
    "plt.title('ROC curve')\n",
    "# x label\n",
    "plt.xlabel('False Positive Rate')\n",
    "# y label\n",
    "plt.ylabel('True Positive rate')\n",
    "\n",
    "plt.legend(loc='best')\n",
    "plt.show()"
   ]
  },
  {
   "cell_type": "markdown",
   "metadata": {},
   "source": [
    "* ROC is kind of maintained\n",
    "* <font color=\"red\">Accuracy is reduced a lot.</font>\n",
    "* <font color=\"red\">precision has slid down to 0</font>"
   ]
  },
  {
   "cell_type": "markdown",
   "metadata": {},
   "source": [
    "# Over-sampling\n",
    "* increase the data-points of the minority class"
   ]
  },
  {
   "cell_type": "code",
   "execution_count": 49,
   "metadata": {},
   "outputs": [
    {
     "name": "stderr",
     "output_type": "stream",
     "text": [
      "/home/laferrari/anaconda3/envs/tensorflow_cpu/lib/python3.6/site-packages/imblearn/utils/_validation.py:638: FutureWarning: Pass sampling_strategy=0.5 as keyword args. From version 0.9 passing these as positional arguments will result in an error\n",
      "  FutureWarning)\n"
     ]
    },
    {
     "name": "stdout",
     "output_type": "stream",
     "text": [
      "0    199023\n",
      "1     99511\n",
      "Name: Class, dtype: int64\n"
     ]
    }
   ],
   "source": [
    "from imblearn.over_sampling import RandomOverSampler\n",
    "\n",
    "ros = RandomOverSampler(0.5)\n",
    "x_train_new, y_train_new = ros.fit_sample(x_train, y_train)\n",
    "print(y_train_new.value_counts())"
   ]
  },
  {
   "cell_type": "code",
   "execution_count": 50,
   "metadata": {},
   "outputs": [
    {
     "name": "stdout",
     "output_type": "stream",
     "text": [
      "accuracy =  0.9994733330992591\n",
      "[[85288     4]\n",
      " [   41   110]]\n",
      "\n",
      "              precision    recall  f1-score   support\n",
      "\n",
      "           0       1.00      1.00      1.00     85292\n",
      "           1       0.96      0.73      0.83       151\n",
      "\n",
      "    accuracy                           1.00     85443\n",
      "   macro avg       0.98      0.86      0.91     85443\n",
      "weighted avg       1.00      1.00      1.00     85443\n",
      "\n",
      "0.8642149617379857\n",
      "Threshold value for random forest classifier is:  (61,) fpr shape is (61,)\n"
     ]
    },
    {
     "data": {
      "image/png": "[encoded data removed]",
      "text/plain": [
       "<Figure size 432x288 with 1 Axes>"
      ]
     },
     "metadata": {
      "needs_background": "light"
     },
     "output_type": "display_data"
    }
   ],
   "source": [
    "from sklearn.ensemble import RandomForestClassifier as RFC\n",
    "rfc = RFC()\n",
    "rfc.fit(x_train_new.values, y_train_new.values)\n",
    "\n",
    "y_pred = rfc.predict(x_test.values)\n",
    "pred_prob1 = rfc.predict_proba(x_test)\n",
    "\n",
    "print(\"accuracy = \", accuracy_score(y_pred, y_test))\n",
    "print(confusion_matrix(y_test, y_pred))\n",
    "print()\n",
    "print(classification_report(y_test, y_pred))\n",
    "\n",
    "from sklearn.metrics import roc_auc_score, roc_curve\n",
    "print(roc_auc_score(y_test, y_pred, average=None))\n",
    "\n",
    "fpr1, tpr1, thresh1 = roc_curve(y_test, pred_prob1[:,1])\n",
    "\n",
    "# roc curve for tpr = fpr \n",
    "random_probs = [0 for i in range(len(y_test))]\n",
    "p_fpr, p_tpr, _ = roc_curve(y_test, random_probs, pos_label=1)\n",
    "\n",
    "print(\"Threshold value for random forest classifier is: \", thresh1.shape, \n",
    "      \"fpr shape is\", fpr1.shape\n",
    "     )\n",
    "\n",
    "plt.plot(fpr1, tpr1, color='orange', label='Random forest')\n",
    "plt.plot(p_fpr, p_tpr, color='blue')\n",
    "\n",
    "# title\n",
    "plt.title('ROC curve')\n",
    "# x label\n",
    "plt.xlabel('False Positive Rate')\n",
    "# y label\n",
    "plt.ylabel('True Positive rate')\n",
    "\n",
    "plt.legend(loc='best')\n",
    "plt.show()"
   ]
  },
  {
   "cell_type": "markdown",
   "metadata": {},
   "source": [
    "* With about the same accuracy as that of taking the entire training data\n",
    "* randomOverSampler actually reduced the total number of false-positives(type-1 error) from 6(in entire train-data) to 3(in randomly oversampled train-data), \n",
    "* and also increased the total number of true-positives from 85286(in entire train-data) to 85289(in RandomlyOverSampled train-data)\n",
    "* and the AUC-ROC value has increased from 0.72 to 0.86"
   ]
  },
  {
   "cell_type": "markdown",
   "metadata": {},
   "source": [
    "# SMOTETomek "
   ]
  },
  {
   "cell_type": "code",
   "execution_count": 51,
   "metadata": {},
   "outputs": [
    {
     "name": "stderr",
     "output_type": "stream",
     "text": [
      "/home/laferrari/anaconda3/envs/tensorflow_cpu/lib/python3.6/site-packages/imblearn/utils/_validation.py:638: FutureWarning: Pass sampling_strategy=0.5 as keyword args. From version 0.9 passing these as positional arguments will result in an error\n",
      "  FutureWarning)\n"
     ]
    },
    {
     "name": "stdout",
     "output_type": "stream",
     "text": [
      "0    198136\n",
      "1     98624\n",
      "Name: Class, dtype: int64\n"
     ]
    }
   ],
   "source": [
    "from imblearn.combine import SMOTETomek\n",
    "\n",
    "sm = SMOTETomek(0.5)\n",
    "x_train_new, y_train_new = sm.fit_sample(x_train, y_train)\n",
    "print(y_train_new.value_counts())"
   ]
  },
  {
   "cell_type": "code",
   "execution_count": 52,
   "metadata": {},
   "outputs": [
    {
     "name": "stdout",
     "output_type": "stream",
     "text": [
      "accuracy =  0.9994616293903538\n",
      "[[85274    18]\n",
      " [   28   123]]\n",
      "\n",
      "              precision    recall  f1-score   support\n",
      "\n",
      "           0       1.00      1.00      1.00     85292\n",
      "           1       0.87      0.81      0.84       151\n",
      "\n",
      "    accuracy                           1.00     85443\n",
      "   macro avg       0.94      0.91      0.92     85443\n",
      "weighted avg       1.00      1.00      1.00     85443\n",
      "\n",
      "AUC-ROC value = 0.9071792483507378\n",
      "Threshold value for random forest classifier is:  (59,) fpr shape is (59,)\n"
     ]
    },
    {
     "data": {
      "image/png": "[encoded data removed]",
      "text/plain": [
       "<Figure size 432x288 with 1 Axes>"
      ]
     },
     "metadata": {
      "needs_background": "light"
     },
     "output_type": "display_data"
    }
   ],
   "source": [
    "from sklearn.ensemble import RandomForestClassifier as RFC\n",
    "rfc = RFC(n_jobs=-1)\n",
    "rfc.fit(x_train_new.values, y_train_new.values)\n",
    "\n",
    "y_pred = rfc.predict(x_test.values)\n",
    "pred_prob2 = rfc.predict_proba(x_test)\n",
    "\n",
    "print(\"accuracy = \", accuracy_score(y_pred, y_test))\n",
    "print(confusion_matrix(y_test, y_pred))\n",
    "print()\n",
    "print(classification_report(y_test, y_pred))\n",
    "\n",
    "from sklearn.metrics import roc_auc_score, roc_curve\n",
    "print(\"AUC-ROC value =\", roc_auc_score(y_test, y_pred, average=None))\n",
    "\n",
    "fpr2, tpr2, thresh2 = roc_curve(y_test, pred_prob2[:,1])\n",
    "\n",
    "# roc curve for tpr = fpr \n",
    "random_probs = [0 for i in range(len(y_test))]\n",
    "p_fpr, p_tpr, _ = roc_curve(y_test, random_probs, pos_label=1)\n",
    "\n",
    "print(\"Threshold value for random forest classifier is: \", thresh2.shape, \n",
    "      \"fpr shape is\", fpr2.shape\n",
    "     )\n",
    "\n",
    "plt.plot(fpr1, tpr1, color='orange', label='over sampler')\n",
    "plt.plot(fpr2, tpr2, color='green', label='SMOTE')\n",
    "plt.plot(p_fpr, p_tpr, color='blue')\n",
    "\n",
    "# title\n",
    "plt.title('ROC curve')\n",
    "# x label\n",
    "plt.xlabel('False Positive Rate')\n",
    "# y label\n",
    "plt.ylabel('True Positive rate')\n",
    "\n",
    "plt.legend(loc='best')\n",
    "plt.show()"
   ]
  },
  {
   "cell_type": "markdown",
   "metadata": {},
   "source": [
    "* AUC-ROC value is greater than oversampler\n",
    "* recall and f1-score are greater , but <font color=\"red\">precision is lower</font> than oversampler\n",
    "* "
   ]
  },
  {
   "cell_type": "markdown",
   "metadata": {},
   "source": [
    "# Ensemble-techniques\n",
    "* don't get confused with sklearn ensembles, here we are actually using ensembles from **imblearn** module"
   ]
  },
  {
   "cell_type": "code",
   "execution_count": 54,
   "metadata": {},
   "outputs": [
    {
     "name": "stdout",
     "output_type": "stream",
     "text": [
      "accuracy =  0.9647952436127009\n",
      "[[82296  2996]\n",
      " [   12   139]]\n",
      "\n",
      "              precision    recall  f1-score   support\n",
      "\n",
      "           0       1.00      0.96      0.98     85292\n",
      "           1       0.04      0.92      0.08       151\n",
      "\n",
      "    accuracy                           0.96     85443\n",
      "   macro avg       0.52      0.94      0.53     85443\n",
      "weighted avg       1.00      0.96      0.98     85443\n",
      "\n",
      "AUC-ROC value = 0.9427017059898323\n",
      "Threshold value for random forest classifier is:  (3831,) fpr shape is (3831,)\n"
     ]
    },
    {
     "data": {
      "image/png": "[encoded data removed]",
      "text/plain": [
       "<Figure size 432x288 with 1 Axes>"
      ]
     },
     "metadata": {
      "needs_background": "light"
     },
     "output_type": "display_data"
    }
   ],
   "source": [
    "from imblearn.ensemble import EasyEnsembleClassifier\n",
    "\n",
    "easy = EasyEnsembleClassifier()\n",
    "easy.fit(x_train, y_train)\n",
    "\n",
    "y_pred = easy.predict(x_test.values)\n",
    "pred_prob3 = easy.predict_proba(x_test)\n",
    "\n",
    "print(\"accuracy = \", accuracy_score(y_pred, y_test))\n",
    "print(confusion_matrix(y_test, y_pred))\n",
    "print()\n",
    "print(classification_report(y_test, y_pred))\n",
    "\n",
    "from sklearn.metrics import roc_auc_score, roc_curve\n",
    "print(\"AUC-ROC value =\", roc_auc_score(y_test, y_pred, average=None))\n",
    "\n",
    "fpr3, tpr3, thresh3 = roc_curve(y_test, pred_prob3[:,1])\n",
    "\n",
    "# roc curve for tpr = fpr \n",
    "random_probs = [0 for i in range(len(y_test))]\n",
    "p_fpr, p_tpr, _ = roc_curve(y_test, random_probs, pos_label=1)\n",
    "\n",
    "print(\"Threshold value for random forest classifier is: \", thresh3.shape, \n",
    "      \"fpr shape is\", fpr3.shape\n",
    "     )\n",
    "\n",
    "plt.plot(fpr1, tpr1, color='orange', label='over sampler')\n",
    "plt.plot(fpr2, tpr2, color='green', label='SMOTE')\n",
    "plt.plot(fpr3, tpr3, color='red', label='easy ensemble classifier')\n",
    "plt.plot(p_fpr, p_tpr, color='blue')\n",
    "\n",
    "# title\n",
    "plt.title('ROC curve')\n",
    "# x label\n",
    "plt.xlabel('False Positive Rate')\n",
    "# y label\n",
    "plt.ylabel('True Positive rate')\n",
    "\n",
    "plt.legend(loc='best')\n",
    "plt.show()"
   ]
  }
 ],
 "metadata": {
  "kernelspec": {
   "display_name": "Python [conda env:tensorflow_cpu] *",
   "language": "python",
   "name": "conda-env-tensorflow_cpu-py"
  },
  "language_info": {
   "codemirror_mode": {
    "name": "ipython",
    "version": 3
   },
   "file_extension": ".py",
   "mimetype": "text/x-python",
   "name": "python",
   "nbconvert_exporter": "python",
   "pygments_lexer": "ipython3",
   "version": "3.6.10"
  }
 },
 "nbformat": 4,
 "nbformat_minor": 4
}
