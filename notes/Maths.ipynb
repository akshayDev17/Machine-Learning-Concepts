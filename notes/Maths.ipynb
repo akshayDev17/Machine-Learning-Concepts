{
 "cells": [
  {
   "cell_type": "markdown",
   "metadata": {},
   "source": [
    "# Primal form and Lagrangian Form of an optimisation problem\n",
    "- the optimisation problem is typically expressed as $\\begin{align} \\text{Minimize } \\mathcal{f}(x) \\\\ \\text{subject to  } & g_i(x) = 0 \\quad , \\quad \\forall \\, i \\, \\epsilon 1,2..p \\\\ & h_j(x) \\ge 0 \\quad , \\quad \\forall \\, j \\, \\epsilon 1,2..m  \\end{align}$\n",
    "    - $h_i(x)$ : inequality constraints, $g_i(x)$: equality constraints\n",
    "- **this form** of the optimisation problem is known as the **primal form**\n",
    "- Lagrangian form\n",
    "    - includes the constraints within the optimisation function.\n",
    "    - based on the **shadow price framework**\n",
    "    - is obtained as: $\\begin{align} & & \\mathcal{L}(x, \\lambda_1, \\lambda_2 \\cdots \\lambda_p , \\mu_1, \\mu_2 \\cdots \\mu_m) =  \\mathcal{f}(x) + \\sum\\limits_{i=1}^p \\lambda_ig_i(x) + \\sum\\limits_{j=1}^m \\mu_jh_j(x) \\\\ \\text{subject to  } & g_i(x) = 0 \\quad , \\quad \\forall \\, i \\, \\epsilon 1,2..p  & h_j(x) \\ge 0 \\quad , \\quad \\forall \\, j \\, \\epsilon 1,2..m \\\\ & \\lambda_i = 0 \\text{ when } g_i(x) \\ne 0  &  \\mu_j = 0 \\text{ when } h_j(x) > 0 \\quad , \\quad \\mu_j > 0 \\text{ when } h_j(x) = 0 \\end{align}$\n",
    "    - the multipliers $\\lambda_i \\,\\,,\\,\\, \\mu_j$ are called lagrangian multipliers, for equality and inequality constraints respectively\n",
    "    - for solutions that obey all constraints of the Lagrangian(eq.(5,6)), notice the lagrangian is same as the primal function\n",
    "- **Strong duality theorem** states that at the optimal point, the primal function and its lagrangian are equal.\n",
    "- Solving this is based on satisfying all the following conditions:\n",
    "    - Stationarity\n",
    "    - Dual feasibility\n",
    "    - Primal Feasibility\n",
    "    - Complementary slackness\n",
    "    - These conditions are known as the **KKT (Karush Kuhn Tucker) conditions**"
   ]
  },
  {
   "cell_type": "markdown",
   "metadata": {},
   "source": [
    "## Stationarity\n",
    "- at the optimal solution, the first partial derivative of Lagrangian w.r.t. all lagrangian multipliers, and the variable x, is 0\n",
    "\n",
    "- $\\dfrac{\\partial \\mathcal{L(x\\,,\\, \\lambda \\,,\\, \\mu)}}{\\partial x} = \\dfrac{\\partial \\mathcal{L(x\\,,\\, \\lambda \\,,\\, \\mu)}}{\\partial \\lambda} = \\dfrac{\\partial \\mathcal{L(x\\,,\\, \\lambda \\,,\\, \\mu)}}{\\partial \\mu} = 0$\n",
    "    - $\\partial \\lambda$ means across all $\\lambda_i$, similarly $\\partial \\mu$ means across all $\\mu_j$"
   ]
  },
  {
   "cell_type": "markdown",
   "metadata": {},
   "source": [
    "## Primal Feasibility\n",
    "- the original primal function's equality and inequality constraints hold true.\n",
    "- simply $g_i(x) = 0 \\, , \\, \\forall \\, i \\, \\epsilon \\,\\, 1,2..p \\,\\, , \\,\\, h_j(x) \\ge 0 \\, , \\, \\forall \\, j \\, \\epsilon \\,\\, 1,2\\cdots m$"
   ]
  },
  {
   "cell_type": "markdown",
   "metadata": {},
   "source": [
    "## Dual Feasibility\n",
    "- the dual problem should exist, i.e. lagrangian multipliers for inequality constraints must all be non-negative.\n",
    "- $\\mu_j \\ge 0$ for all points in the feasible region / boundary.\n",
    "- this represents the penalty term when the corresponding inequality constraint is violated.\n",
    "- hence a negative $\\mu_j$ when $h_j(x) < 0$"
   ]
  },
  {
   "cell_type": "markdown",
   "metadata": {},
   "source": [
    "## Complementary Slackness\n",
    "- $\\mu_j.h_j(x) = 0$\n",
    "- if $h_j(x) > 0 \\Rightarrow \\mu_j = 0$, and if $h_j(x) = 0 \\Rightarrow \\mu_j > 0$\n",
    "- this is the complementary nature, if the solution is strictly in the feasible region (former) then no penalisation, if its on the boundary (latter), penalise the soution."
   ]
  },
  {
   "cell_type": "markdown",
   "metadata": {
    "vscode": {
     "languageId": "plaintext"
    }
   },
   "source": [
    "## Explanation via example\n",
    "$\\begin{align}&  \\text{Minimize } x^2+y^2 \\\\ \\text{subject to  } & x+y-2 = 0 \\,,\\, x-y-5 \\le 0 & \\end{align} \\\\ \\begin{align} \\mathcal{L}(x, y, \\lambda, \\mu) = x^2+y^2 + \\lambda(x+y-2) + \\mu(y+5 - x) & & \\end{align}$ \n",
    "- if $x-y-5 \\le 0$ then $\\mu = 0$ (complementary slackness)\n",
    "    - $\\begin{align} \\dfrac{\\partial \\mathcal{L}}{\\partial x} = 2x + \\lambda = 0 \\\\ \\dfrac{\\partial \\mathcal{L}}{\\partial y} = 2y + \\lambda = 0 \\\\ \\Rightarrow x = y \\\\ \\dfrac{\\partial \\mathcal{L}}{\\partial \\lambda} = x+y-2 = 0 \\Rightarrow x+y=2 \\\\ \\Rightarrow x = y= 1 \\\\ \\text{ this also satisfies the inequality constraint } 1-1-5 \\le 0 \\\\ \\mathcal{f(1, 1)} = 2  \\end{align}$\n",
    "- if $x-y-5 = 0$ then $\\mu > 0$ (complementary slackness)\n",
    "    - $\\begin{align} \\dfrac{\\partial \\mathcal{L}}{\\partial x} = 2x + \\lambda - \\mu = 0 \\\\ \\dfrac{\\partial \\mathcal{L}}{\\partial y} = 2y + \\lambda + \\mu = 0 \\\\ \\Rightarrow x - y = \\mu \\\\ \\dfrac{\\partial \\mathcal{L}}{\\partial \\lambda} = x+y-2 = 0 \\Rightarrow x+y=2 \\\\ \\dfrac{\\partial \\mathcal{L}}{\\partial \\mu} = y+5-x = 0 \\Rightarrow x-y=5 \\\\ \\Rightarrow x = 3.5 \\,,\\, y = -1.5 \\\\ \\text{ this also satisfies the boundary constraint } 3.5--1.5-5 = 0 \\\\ \\mathcal{f(3.5, -1.5)} = 14.5  \\end{align}$\n",
    "- minimum of the two was given by x = 1, y = 1, hence that's the optimal solution.\n"
   ]
  },
  {
   "cell_type": "markdown",
   "metadata": {},
   "source": [
    "## General points to keep in mind\n",
    "- no penalisation occurs in the infeasible region, because in that region the strong duality theorem doesn't hold true.\n",
    "    - thus the lagrangian form of the primal can't help you solve the primal optimisation problem."
   ]
  },
  {
   "cell_type": "markdown",
   "metadata": {},
   "source": [
    "## Violations\n",
    "- violation of even 1 condition implies that strong duality doesn't hold true, and that the Lagrangian dual form of the Primal form won't provide the optimal solution to the optimisation problem.\n",
    "\n",
    "### Stationarity\n",
    "- at least 1 partial derivative of the Lagrangian w.r.t either the arguments or the lagrangian multipliers is not equal to 0\n",
    "- could happen at a saddle point.\n",
    "    - for multi-dimensional functions, a saddle point is a point that has \n",
    "\n",
    "### Primal Feasibility\n",
    "- the original constraints of the primal are violated\n",
    "- could be that the constraints when held together render an empty feasible region\n",
    "\n",
    "### Dual Feasibility\n",
    "- a *non-sensical* case because this would mean at least 1 $\\mu_j < 0$ i.e. a negative penalty added in the dual optimisation problem\n",
    "    - duality is feasible means that Lagrangian can be used to find the optimum for the primal.\n",
    "- shadow price framework is violated\n",
    "\n",
    "### Complementary Slackness\n",
    "- incorrectly penalising solutions that strictly lie in the feasible region ($h_j(x) > 0 \\textrm{ still } \\mu_j \\ne 0 \\text{ instead of } \\mu_j \\text{ being } > 0 $)\n",
    "- if primal and dual both are feasible, then that remains us with the case of $h_j(x) = 0 \\textrm{ with } \\mu_j = 0 \\text{ instead of } \\mu_j > 0 $ (it wouldn't be a violation if $\\mu_j > 0$ because when $h_j(x) = 0$ the constraint is considered as being active and hence the penalty term should be applied)\n",
    "- <font color=\"red\">How is this tied to primal and dual feasibility?</font>"
   ]
  },
  {
   "cell_type": "markdown",
   "metadata": {},
   "source": []
  }
 ],
 "metadata": {
  "language_info": {
   "name": "python"
  }
 },
 "nbformat": 4,
 "nbformat_minor": 2
}
